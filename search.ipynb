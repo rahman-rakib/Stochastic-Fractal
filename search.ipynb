{
 "cells": [
  {
   "cell_type": "markdown",
   "metadata": {},
   "source": [
    "## Quick Search Code\n",
    "Searching index for a value in a ordered data"
   ]
  },
  {
   "cell_type": "code",
   "execution_count": 1,
   "metadata": {},
   "outputs": [],
   "source": [
    "import numpy as np"
   ]
  },
  {
   "cell_type": "code",
   "execution_count": 4,
   "metadata": {},
   "outputs": [],
   "source": [
    "a = np.random.random(100)"
   ]
  },
  {
   "cell_type": "code",
   "execution_count": 12,
   "metadata": {},
   "outputs": [
    {
     "name": "stdout",
     "output_type": "stream",
     "text": [
      "[0.00426098 0.01146339 0.01524801 0.02531534 0.02977198 0.05533541\n",
      " 0.05770585 0.06362517 0.07812955 0.07835289 0.08009491 0.08583195\n",
      " 0.090406   0.09664813 0.10783674 0.1081862  0.10823499 0.10901428\n",
      " 0.13508593 0.13842938 0.20145979 0.20155561 0.20949057 0.20975364\n",
      " 0.21286076 0.21597854 0.22115059 0.23701786 0.23889469 0.26499666\n",
      " 0.2664452  0.26804948 0.28309982 0.2934865  0.30762519 0.32283412\n",
      " 0.32945055 0.34248257 0.34497573 0.34863082 0.37063459 0.3757861\n",
      " 0.37690632 0.38077619 0.40724927 0.42207163 0.43772854 0.43880237\n",
      " 0.45171136 0.46364109 0.46533213 0.46551494 0.46558711 0.47432109\n",
      " 0.52560943 0.54705053 0.55415566 0.55712451 0.56475987 0.57951194\n",
      " 0.5860928  0.62379691 0.6283379  0.62996179 0.66312925 0.67487719\n",
      " 0.67740832 0.67962392 0.68105429 0.69127709 0.71350598 0.73166627\n",
      " 0.73428137 0.73798701 0.75376283 0.7765363  0.78136423 0.7817227\n",
      " 0.78363944 0.79367672 0.79463996 0.82028399 0.82102293 0.83511962\n",
      " 0.85826866 0.86378954 0.88130429 0.88663876 0.89494489 0.90273451\n",
      " 0.91442507 0.92253431 0.92567157 0.9292373  0.93936999 0.9523248\n",
      " 0.96614165 0.97490792 0.97649041 0.9819199 ]\n"
     ]
    }
   ],
   "source": [
    "a = np.sort(a)\n",
    "print(a)"
   ]
  },
  {
   "cell_type": "code",
   "execution_count": 38,
   "metadata": {},
   "outputs": [],
   "source": [
    "def search_index(val, arr, ni=0, nf=0):\n",
    "    \"\"\"\n",
    "    val : value to search \n",
    "    arr : 1D array\n",
    "    ni  : lower bound index\n",
    "    nf  : upper bound index\n",
    "    \"\"\"\n",
    "    \n",
    "    if ni == 0 and nf == 0:\n",
    "        nf = len(arr)\n",
    "        pass\n",
    "    if (nf-ni) <= 1:\n",
    "        print(\"search complete\")\n",
    "        return ni, nf, False\n",
    "    n = (ni+nf) // 2 # integer division\n",
    "    print(n)\n",
    "    if val < arr[n]:\n",
    "        print(\"value is on the left\")\n",
    "        nf = n\n",
    "    else:\n",
    "        print(\"value is on the right\")\n",
    "        ni = n\n",
    "        pass\n",
    "    print(ni, \", \", nf)\n",
    "    return ni, nf, True"
   ]
  },
  {
   "cell_type": "code",
   "execution_count": 39,
   "metadata": {},
   "outputs": [
    {
     "ename": "ValueError",
     "evalue": "not enough values to unpack (expected 3, got 2)",
     "output_type": "error",
     "traceback": [
      "\u001b[0;31m---------------------------------------------------------------------------\u001b[0m",
      "\u001b[0;31mValueError\u001b[0m                                Traceback (most recent call last)",
      "\u001b[0;32m<ipython-input-39-dd3e8207f6f5>\u001b[0m in \u001b[0;36m<module>\u001b[0;34m\u001b[0m\n\u001b[0;32m----> 1\u001b[0;31m \u001b[0mni\u001b[0m\u001b[0;34m,\u001b[0m \u001b[0mnf\u001b[0m\u001b[0;34m,\u001b[0m \u001b[0mflag\u001b[0m \u001b[0;34m=\u001b[0m \u001b[0;36m0\u001b[0m\u001b[0;34m,\u001b[0m \u001b[0mlen\u001b[0m\u001b[0;34m(\u001b[0m\u001b[0ma\u001b[0m\u001b[0;34m)\u001b[0m\u001b[0;34m\u001b[0m\u001b[0;34m\u001b[0m\u001b[0m\n\u001b[0m\u001b[1;32m      2\u001b[0m \u001b[0;34m\u001b[0m\u001b[0m\n\u001b[1;32m      3\u001b[0m \u001b[0mni\u001b[0m\u001b[0;34m,\u001b[0m \u001b[0mnf\u001b[0m\u001b[0;34m,\u001b[0m \u001b[0mflag\u001b[0m \u001b[0;34m=\u001b[0m \u001b[0msearch_index\u001b[0m\u001b[0;34m(\u001b[0m\u001b[0;36m0.1\u001b[0m\u001b[0;34m,\u001b[0m \u001b[0ma\u001b[0m\u001b[0;34m,\u001b[0m \u001b[0mni\u001b[0m\u001b[0;34m,\u001b[0m \u001b[0mnf\u001b[0m\u001b[0;34m)\u001b[0m\u001b[0;34m\u001b[0m\u001b[0;34m\u001b[0m\u001b[0m\n\u001b[1;32m      4\u001b[0m \u001b[0mni\u001b[0m\u001b[0;34m,\u001b[0m \u001b[0mnf\u001b[0m\u001b[0;34m,\u001b[0m \u001b[0mflag\u001b[0m \u001b[0;34m=\u001b[0m \u001b[0msearch_index\u001b[0m\u001b[0;34m(\u001b[0m\u001b[0;36m0.1\u001b[0m\u001b[0;34m,\u001b[0m \u001b[0ma\u001b[0m\u001b[0;34m,\u001b[0m \u001b[0mni\u001b[0m\u001b[0;34m,\u001b[0m \u001b[0mnf\u001b[0m\u001b[0;34m)\u001b[0m\u001b[0;34m\u001b[0m\u001b[0;34m\u001b[0m\u001b[0m\n\u001b[1;32m      5\u001b[0m \u001b[0mni\u001b[0m\u001b[0;34m,\u001b[0m \u001b[0mnf\u001b[0m\u001b[0;34m,\u001b[0m \u001b[0mflag\u001b[0m \u001b[0;34m=\u001b[0m \u001b[0msearch_index\u001b[0m\u001b[0;34m(\u001b[0m\u001b[0;36m0.1\u001b[0m\u001b[0;34m,\u001b[0m \u001b[0ma\u001b[0m\u001b[0;34m,\u001b[0m \u001b[0mni\u001b[0m\u001b[0;34m,\u001b[0m \u001b[0mnf\u001b[0m\u001b[0;34m)\u001b[0m\u001b[0;34m\u001b[0m\u001b[0;34m\u001b[0m\u001b[0m\n",
      "\u001b[0;31mValueError\u001b[0m: not enough values to unpack (expected 3, got 2)"
     ]
    }
   ],
   "source": [
    "ni, nf = 0, len(a)\n",
    "\n",
    "ni, nf, flag = search_index(0.1, a, ni, nf)\n",
    "ni, nf, flag = search_index(0.1, a, ni, nf)\n",
    "ni, nf, flag = search_index(0.1, a, ni, nf)\n",
    "ni, nf, flag = search_index(0.1, a, ni, nf)\n",
    "ni, nf, flag = search_index(0.1, a, ni, nf)"
   ]
  },
  {
   "cell_type": "code",
   "execution_count": 40,
   "metadata": {},
   "outputs": [
    {
     "data": {
      "text/plain": [
       "100"
      ]
     },
     "execution_count": 40,
     "metadata": {},
     "output_type": "execute_result"
    }
   ],
   "source": [
    "len(a)"
   ]
  },
  {
   "cell_type": "code",
   "execution_count": 42,
   "metadata": {},
   "outputs": [
    {
     "name": "stdout",
     "output_type": "stream",
     "text": [
      "50\n",
      "value is on the right\n",
      "50 ,  100\n",
      "75\n",
      "value is on the left\n",
      "50 ,  75\n",
      "62\n",
      "value is on the left\n",
      "50 ,  62\n",
      "56\n",
      "value is on the left\n",
      "50 ,  56\n",
      "53\n",
      "value is on the left\n",
      "50 ,  53\n",
      "51\n",
      "value is on the left\n",
      "50 ,  51\n",
      "search complete\n"
     ]
    }
   ],
   "source": [
    "n = 100\n",
    "a = np.random.random(n)\n",
    "ni, nf = 0, len(a)\n",
    "flag = True\n",
    "while flag:\n",
    "    ni, nf, flag = search_index(0.1, a, ni, nf)"
   ]
  },
  {
   "cell_type": "code",
   "execution_count": 47,
   "metadata": {},
   "outputs": [],
   "source": [
    "def test():\n",
    "    n = 1000000\n",
    "    a = np.random.random(n)\n",
    "    ni, nf = 0, len(a)\n",
    "    flag = True\n",
    "    while flag:\n",
    "        ni, nf, flag = search_index(0.1, a, ni, nf)"
   ]
  },
  {
   "cell_type": "code",
   "execution_count": 48,
   "metadata": {},
   "outputs": [
    {
     "name": "stdout",
     "output_type": "stream",
     "text": [
      "39.7 ns ± 0.76 ns per loop (mean ± std. dev. of 7 runs, 10000000 loops each)\n"
     ]
    }
   ],
   "source": [
    "%timeit test"
   ]
  },
  {
   "cell_type": "markdown",
   "metadata": {},
   "source": [
    "### Result\n",
    "\n",
    "It takes about 40 ns time to search from  1 million ordered data\n",
    "\n",
    "Therefore it would take 40*1000000 ns = 40 ms to do this a million times"
   ]
  },
  {
   "cell_type": "code",
   "execution_count": null,
   "metadata": {},
   "outputs": [],
   "source": []
  }
 ],
 "metadata": {
  "kernelspec": {
   "display_name": "Python 3",
   "language": "python",
   "name": "python3"
  },
  "language_info": {
   "codemirror_mode": {
    "name": "ipython",
    "version": 3
   },
   "file_extension": ".py",
   "mimetype": "text/x-python",
   "name": "python",
   "nbconvert_exporter": "python",
   "pygments_lexer": "ipython3",
   "version": "3.7.7"
  }
 },
 "nbformat": 4,
 "nbformat_minor": 4
}
