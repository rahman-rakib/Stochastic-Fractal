{
 "cells": [
  {
   "cell_type": "code",
   "execution_count": 18,
   "metadata": {},
   "outputs": [],
   "source": [
    "import random, numpy as np\n",
    "alphap = 2\n",
    "expon = 2 * alphap - 1\n",
    "probp = 0.75"
   ]
  },
  {
   "cell_type": "code",
   "execution_count": 19,
   "metadata": {},
   "outputs": [],
   "source": [
    "def betadist(alpha):\n",
    "        return random.betavariate(alpha,alpha)"
   ]
  },
  {
   "cell_type": "code",
   "execution_count": 20,
   "metadata": {},
   "outputs": [],
   "source": [
    "def decision(probability):\n",
    "    \"\"\"\n",
    "    decides with a given probability whether to keep the right part\n",
    "    \"\"\"\n",
    "    if float(probability) > random.random():\n",
    "        return True\n",
    "    else: \n",
    "        return False"
   ]
  },
  {
   "cell_type": "code",
   "execution_count": 21,
   "metadata": {},
   "outputs": [],
   "source": [
    "def splitting(left,right):\n",
    "    \"\"\"\n",
    "    splits a given segment. left and right are endpoints of the segment\n",
    "    \"\"\"\n",
    "    segment = right - left\n",
    "    xL = segment * betadist(alphap)\n",
    "    xR = segment - xL\n",
    "    splitpoint = left + xL\n",
    "    flag = decision(probp)\n",
    "    xLp = xL**expon\n",
    "    xRp = xR**expon\n",
    "    change = xLp + xRp - segment**expon\n",
    "    return splitpoint, flag, xLp, xRp, change"
   ]
  },
  {
   "cell_type": "code",
   "execution_count": 22,
   "metadata": {},
   "outputs": [],
   "source": [
    "def fraclen(List, index):\n",
    "    sum = 0\n",
    "    for i in range(len(List[:index+1])):\n",
    "        sum += List[i]\n",
    "    return sum"
   ]
  },
  {
   "cell_type": "code",
   "execution_count": 23,
   "metadata": {},
   "outputs": [],
   "source": [
    "def pickindex(expons, exponsum):\n",
    "    \"\"\"picks up a segment to be subsequently split\"\"\"\n",
    "    r = random.uniform(0, exponsum)\n",
    "    for index in range(len(expons)):\n",
    "            if fraclen(expons, index) < r:\n",
    "                continue\n",
    "            else:\n",
    "                return index"
   ]
  },
  {
   "cell_type": "code",
   "execution_count": 34,
   "metadata": {},
   "outputs": [
    {
     "name": "stdout",
     "output_type": "stream",
     "text": [
      "[0.0, 0.16263201422551468, 0.27124249720340016, 0.4008055979544067, 0.6522969238077417, 0.8092225332897878, 1.0]\n",
      "[True, True, False, True, True, True]\n",
      "[0.004301482125259126, 0.0012811949992698206, 0.002174923568252256, 0.015906294953888383, 0.00386439465044724, 0.006943544653715941]\n",
      "0.03447183495083273\n"
     ]
    }
   ],
   "source": [
    "points = [0.,1.]\n",
    "flags = [True]\n",
    "expons = [1.]\n",
    "exponsum = 1.0\n",
    "\n",
    "for i in range(5):\n",
    "    index = pickindex(expons, exponsum)\n",
    "    if flags[index] == True:\n",
    "        left = points[index]\n",
    "        right = points[index+1]\n",
    "        splitpoint, flag, xLp, xRp, change = splitting(left,right)\n",
    "        points.insert(index+1,splitpoint)\n",
    "        flags.insert(index+1,flag)\n",
    "        del expons[index]\n",
    "        expons.insert(index,xLp)\n",
    "        expons.insert(index+1,xRp)\n",
    "        exponsum += change\n",
    "\n",
    "print(points)\n",
    "print(flags)\n",
    "print(expons)\n",
    "print(exponsum)"
   ]
  },
  {
   "cell_type": "code",
   "execution_count": null,
   "metadata": {},
   "outputs": [],
   "source": []
  }
 ],
 "metadata": {
  "kernelspec": {
   "display_name": "Python 3",
   "language": "python",
   "name": "python3"
  },
  "language_info": {
   "codemirror_mode": {
    "name": "ipython",
    "version": 3
   },
   "file_extension": ".py",
   "mimetype": "text/x-python",
   "name": "python",
   "nbconvert_exporter": "python",
   "pygments_lexer": "ipython3",
   "version": "3.7.6"
  }
 },
 "nbformat": 4,
 "nbformat_minor": 4
}
