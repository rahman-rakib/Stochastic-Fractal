{
 "cells": [
  {
   "cell_type": "code",
   "execution_count": 57,
   "metadata": {},
   "outputs": [],
   "source": [
    "import numpy as np\n",
    "import pandas as pd"
   ]
  },
  {
   "cell_type": "code",
   "execution_count": 58,
   "metadata": {},
   "outputs": [],
   "source": [
    "dir_data = \"../data/alpha3/\"\n",
    "filename = dir_data+\"function_phi_alpha3_dataframe.csv\""
   ]
  },
  {
   "cell_type": "code",
   "execution_count": 59,
   "metadata": {},
   "outputs": [],
   "source": [
    "import decimal as dc\n",
    "dc.getcontext().rounding = dc.ROUND_DOWN\n",
    "\n",
    "def phi_value_alpha_3(df_data,xi,p):\n",
    "    \"\"\"\n",
    "    df_data : pandas DataFrame\n",
    "    xi      :\n",
    "    p       : probablity\n",
    "    \"\"\"\n",
    "    \n",
    "    p_0 = float(round(dc.Decimal(p),2))\n",
    "    p_1 = float(round(dc.Decimal(p_0+0.01),2))\n",
    "    del_p = abs(p-p_0)\n",
    "    \n",
    "    if del_p <= 1e-9:\n",
    "        col_name = 'p={:.2f}'.format(p_0)\n",
    "        phi_list = df_data[col_name].values\n",
    "    \n",
    "    else:\n",
    "        col_name0 = 'p={:.2f}'.format(p_0)\n",
    "        phi_list0 = df_data[col_name0].values\n",
    "    \n",
    "        col_name1 = 'p={:.2f}'.format(p_1)\n",
    "        phi_list1 = df_data[col_name1].values\n",
    "        \n",
    "        del_phi_list =  (phi_list1 - phi_list0)*del_p/0.01\n",
    "        phi_list = phi_list0 + del_phi_list\n",
    "    \n",
    "    xi_list = df_data['xi'].values\n",
    "    if xi > 2:\n",
    "        phi_value = 0\n",
    "    elif xi in xi_list:\n",
    "        index = list(xi_list).index(xi)\n",
    "        phi_value = phi_list[index] \n",
    "    else:\n",
    "        index0 = int(xi//0.0002)\n",
    "        index1 = int(index0+1)\n",
    "        del_xi = xi%0.0002\n",
    "        phi_0 = phi_list[index0]\n",
    "        phi_1 = phi_list[index1]\n",
    "        del_phi = (phi_1-phi_0)*del_xi/0.0002\n",
    "        phi_value = phi_0 + del_phi\n",
    "\n",
    "    return phi_value\n",
    "\n",
    "def phi_list_alpha_3(df_data,xi_list,p):\n",
    "    phi_list = []\n",
    "    for xi in xi_list:\n",
    "        phi_value = phi_value_alpha_3(df_data,xi,p)\n",
    "        phi_list.append(phi_value) \n",
    "\n",
    "    return np.array(phi_list) "
   ]
  },
  {
   "cell_type": "code",
   "execution_count": 60,
   "metadata": {},
   "outputs": [],
   "source": [
    "xi_list = np.linspace(0,2,700)\n",
    "p = 0.996\n",
    "df_temp = pd.read_csv(filename)\n",
    "density = phi_list_alpha_3(df_temp,xi_list,p)"
   ]
  },
  {
   "cell_type": "code",
   "execution_count": 61,
   "metadata": {},
   "outputs": [
    {
     "data": {
      "text/plain": [
       "[<matplotlib.lines.Line2D at 0x7f008ab7cbd0>]"
      ]
     },
     "execution_count": 61,
     "metadata": {},
     "output_type": "execute_result"
    },
    {
     "data": {
      "image/png": "[encoded data removed]",
      "text/plain": [
       "<Figure size 432x288 with 1 Axes>"
      ]
     },
     "metadata": {
      "needs_background": "light"
     },
     "output_type": "display_data"
    }
   ],
   "source": [
    "from matplotlib import pyplot as plt\n",
    "plt.plot(xi_list,density)"
   ]
  },
  {
   "cell_type": "code",
   "execution_count": null,
   "metadata": {},
   "outputs": [],
   "source": []
  }
 ],
 "metadata": {
  "kernelspec": {
   "display_name": "Python 3",
   "language": "python",
   "name": "python3"
  },
  "language_info": {
   "codemirror_mode": {
    "name": "ipython",
    "version": 3
   },
   "file_extension": ".py",
   "mimetype": "text/x-python",
   "name": "python",
   "nbconvert_exporter": "python",
   "pygments_lexer": "ipython3",
   "version": "3.7.6"
  }
 },
 "nbformat": 4,
 "nbformat_minor": 4
}
