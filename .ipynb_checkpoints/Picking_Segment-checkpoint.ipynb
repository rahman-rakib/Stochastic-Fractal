{
 "cells": [
  {
   "cell_type": "code",
   "execution_count": 42,
   "metadata": {},
   "outputs": [],
   "source": [
    "import random\n",
    "\n",
    "def fraclen(List, index):\n",
    "    sum = 0\n",
    "    for i in range(len(List[:index+1])):\n",
    "        sum += List[i]\n",
    "    return sum"
   ]
  },
  {
   "cell_type": "code",
   "execution_count": 77,
   "metadata": {},
   "outputs": [],
   "source": [
    "def pickindex(expons, exponsum):\n",
    "    \"\"\"picks up a segment to be subsequently split\"\"\"\n",
    "    r = random.uniform(0, exponsum)\n",
    "    for index in range(len(expons)):\n",
    "            if fraclen(expons, index) < r:\n",
    "                continue\n",
    "            else:\n",
    "                return index"
   ]
  }
 ],
 "metadata": {
  "kernelspec": {
   "display_name": "Python 3",
   "language": "python",
   "name": "python3"
  }
 },
 "nbformat": 4,
 "nbformat_minor": 4
}
