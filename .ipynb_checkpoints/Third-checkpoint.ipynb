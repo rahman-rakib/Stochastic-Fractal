{
 "cells": [
  {
   "cell_type": "code",
<<<<<<< HEAD
   "execution_count": 18,
=======
   "execution_count": 1,
>>>>>>> test1
   "metadata": {},
   "outputs": [],
   "source": [
    "import random, numpy as np\n",
    "alphap = 2\n",
    "expon = 2 * alphap - 1\n",
    "probp = 0.75"
   ]
  },
  {
   "cell_type": "code",
<<<<<<< HEAD
   "execution_count": 19,
=======
   "execution_count": 3,
>>>>>>> test1
   "metadata": {},
   "outputs": [],
   "source": [
    "def betadist(alpha):\n",
<<<<<<< HEAD
    "        return random.betavariate(alpha,alpha)"
=======
    "    \"\"\"gives a random number from beta distribution\"\"\"\n",
    "    return random.betavariate(alpha,alpha)"
>>>>>>> test1
   ]
  },
  {
   "cell_type": "code",
<<<<<<< HEAD
   "execution_count": 20,
=======
   "execution_count": 4,
>>>>>>> test1
   "metadata": {},
   "outputs": [],
   "source": [
    "def decision(probability):\n",
    "    \"\"\"\n",
    "    decides with a given probability whether to keep the right part\n",
    "    \"\"\"\n",
    "    if float(probability) > random.random():\n",
    "        return True\n",
    "    else: \n",
    "        return False"
   ]
  },
  {
   "cell_type": "code",
<<<<<<< HEAD
   "execution_count": 21,
=======
   "execution_count": 5,
>>>>>>> test1
   "metadata": {},
   "outputs": [],
   "source": [
    "def splitting(left,right):\n",
    "    \"\"\"\n",
    "    splits a given segment. left and right are endpoints of the segment\n",
    "    \"\"\"\n",
    "    segment = right - left\n",
    "    xL = segment * betadist(alphap)\n",
    "    xR = segment - xL\n",
    "    splitpoint = left + xL\n",
    "    flag = decision(probp)\n",
    "    xLp = xL**expon\n",
    "    xRp = xR**expon\n",
    "    change = xLp + xRp - segment**expon\n",
    "    return splitpoint, flag, xLp, xRp, change"
   ]
  },
  {
   "cell_type": "code",
<<<<<<< HEAD
   "execution_count": 22,
=======
   "execution_count": 6,
>>>>>>> test1
   "metadata": {},
   "outputs": [],
   "source": [
    "def fraclen(List, index):\n",
    "    sum = 0\n",
    "    for i in range(len(List[:index+1])):\n",
    "        sum += List[i]\n",
    "    return sum"
   ]
  },
  {
   "cell_type": "code",
<<<<<<< HEAD
   "execution_count": 23,
=======
   "execution_count": 7,
>>>>>>> test1
   "metadata": {},
   "outputs": [],
   "source": [
    "def pickindex(expons, exponsum):\n",
    "    \"\"\"picks up a segment to be subsequently split\"\"\"\n",
    "    r = random.uniform(0, exponsum)\n",
    "    for index in range(len(expons)):\n",
<<<<<<< HEAD
    "            if fraclen(expons, index) < r:\n",
    "                continue\n",
    "            else:\n",
    "                return index"
=======
    "            if fraclen(expons, index) < r: # this call to fraclen consumes time. use np.cumsum() \n",
    "                continue\n",
    "            else:\n",
    "                return index\n",
    "\n",
    "\n",
    "def pickindex_v2(expons, exponsum):\n",
    "    \"\"\"\n",
    "    comment : slower than v1\n",
    "    picks up a segment to be subsequently split\n",
    "    \"\"\"\n",
    "    r = random.uniform(0, exponsum)\n",
    "    expons_cumulative = np.cumsum(expons) # summing all might not be efficinnt. instead sum only what is needed\n",
    "    for index in range(len(expons)):\n",
    "            if expons_cumulative[index] < r:\n",
    "                continue\n",
    "            else:\n",
    "                return index\n",
    "            \n",
    "def pickindex_v3(expons, exponsum):\n",
    "    \"\"\"\n",
    "    comment : falser than v2 and v1\n",
    "    picks up a segment to be subsequently split\n",
    "    \"\"\"\n",
    "    r = random.uniform(0, exponsum)\n",
    "    sum_ = 0\n",
    "    for index in range(len(expons)):\n",
    "        sum_ += expons[index]\n",
    "        if sum_ < r:\n",
    "            continue\n",
    "        else:\n",
    "            return index"
>>>>>>> test1
   ]
  },
  {
   "cell_type": "code",
<<<<<<< HEAD
   "execution_count": 34,
=======
   "execution_count": 8,
>>>>>>> test1
   "metadata": {},
   "outputs": [
    {
     "name": "stdout",
     "output_type": "stream",
     "text": [
<<<<<<< HEAD
      "[0.0, 0.16263201422551468, 0.27124249720340016, 0.4008055979544067, 0.6522969238077417, 0.8092225332897878, 1.0]\n",
      "[True, True, False, True, True, True]\n",
      "[0.004301482125259126, 0.0012811949992698206, 0.002174923568252256, 0.015906294953888383, 0.00386439465044724, 0.006943544653715941]\n",
      "0.03447183495083273\n"
=======
      "********step i= 0\n",
      "chosen index =  0\n",
      "before expons  [1.0]\n",
      "after expons  [0.024606167004606973, 0.3566147018584013]\n",
      "********step i= 1\n",
      "chosen index =  1\n",
      "before expons  [0.024606167004606973, 0.3566147018584013]\n",
      "after expons  [0.024606167004606973, 0.032233647642379244, 0.05972638420171186]\n",
      "********step i= 2\n",
      "chosen index =  0\n",
      "before expons  [0.024606167004606973, 0.032233647642379244, 0.05972638420171186]\n",
      "after expons  [0.0001463371836721456, 0.013508705300789665, 0.032233647642379244, 0.05972638420171186]\n",
      "********step i= 3\n",
      "chosen index =  2\n",
      "before expons  [0.0001463371836721456, 0.013508705300789665, 0.032233647642379244, 0.05972638420171186]\n",
      "after expons  [0.0001463371836721456, 0.013508705300789665, 0.0016636782640706478, 0.007971093912242063, 0.05972638420171186]\n",
      "********step i= 4\n",
      "chosen index =  4\n",
      "before expons  [0.0001463371836721456, 0.013508705300789665, 0.0016636782640706478, 0.007971093912242063, 0.05972638420171186]\n",
      "after expons  [0.0001463371836721456, 0.013508705300789665, 0.0016636782640706478, 0.007971093912242063, 0.0006095123935900659, 0.028681870069449444]\n",
      "********step i= 5\n",
      "chosen index =  3\n",
      "before expons  [0.0001463371836721456, 0.013508705300789665, 0.0016636782640706478, 0.007971093912242063, 0.0006095123935900659, 0.028681870069449444]\n",
      "after expons  [0.0001463371836721456, 0.013508705300789665, 0.0016636782640706478, 0.002446358828295746, 0.00027482363819321057, 0.0006095123935900659, 0.028681870069449444]\n",
      "********step i= 6\n",
      "chosen index =  6\n",
      "********step i= 7\n",
      "chosen index =  1\n",
      "before expons  [0.0001463371836721456, 0.013508705300789665, 0.0016636782640706478, 0.002446358828295746, 0.00027482363819321057, 0.0006095123935900659, 0.028681870069449444]\n",
      "after expons  [0.0001463371836721456, 0.002897760554737862, 0.0008735509079956528, 0.0016636782640706478, 0.002446358828295746, 0.00027482363819321057, 0.0006095123935900659, 0.028681870069449444]\n",
      "********step i= 8\n",
      "chosen index =  7\n",
      "********step i= 9\n",
      "chosen index =  7\n",
      "[0.0, 0.05269687934791637, 0.1952644771889974, 0.2908582069001924, 0.40935041179303666, 0.544093569143559, 0.6091092370189288, 0.6938958943175578, 1.0]\n",
      "[True, True, True, True, True, True, True, False]\n",
      "[0.0001463371836721456, 0.002897760554737862, 0.0008735509079956528, 0.0016636782640706478, 0.002446358828295746, 0.00027482363819321057, 0.0006095123935900659, 0.028681870069449444]\n",
      "8\n",
      "0.037593891840004806\n",
      "0.03759389184000478\n"
>>>>>>> test1
     ]
    }
   ],
   "source": [
    "points = [0.,1.]\n",
    "flags = [True]\n",
<<<<<<< HEAD
    "expons = [1.]\n",
    "exponsum = 1.0\n",
    "\n",
    "for i in range(5):\n",
    "    index = pickindex(expons, exponsum)\n",
=======
    "expons = [1.] # like probability\n",
    "exponsum = 1.0 # sum  of probability\n",
    "\n",
    "for i in range(10):\n",
    "    print(\"********step i=\", i)\n",
    "    index = pickindex(expons, exponsum)\n",
    "    print(\"chosen index = \", index)\n",
>>>>>>> test1
    "    if flags[index] == True:\n",
    "        left = points[index]\n",
    "        right = points[index+1]\n",
    "        splitpoint, flag, xLp, xRp, change = splitting(left,right)\n",
    "        points.insert(index+1,splitpoint)\n",
    "        flags.insert(index+1,flag)\n",
<<<<<<< HEAD
    "        del expons[index]\n",
    "        expons.insert(index,xLp)\n",
    "        expons.insert(index+1,xRp)\n",
    "        exponsum += change\n",
=======
    "        print(\"before expons \", expons)\n",
    "        \n",
    "#         del expons[index]\n",
    "#         expons.insert(index,xLp)\n",
    "\n",
    "        expons[index] = xLp # without deleting element\n",
    "\n",
    "        expons.insert(index+1,xRp)\n",
    "        print(\"after expons \", expons)\n",
    "        exponsum += change\n",
    "        pass\n",
    "    pass\n",
>>>>>>> test1
    "\n",
    "print(points)\n",
    "print(flags)\n",
    "print(expons)\n",
<<<<<<< HEAD
    "print(exponsum)"
=======
    "print(len(expons))\n",
    "print(exponsum)\n",
    "print(np.sum(expons))"
   ]
  },
  {
   "cell_type": "markdown",
   "metadata": {},
   "source": [
    "# Testing section"
   ]
  },
  {
   "cell_type": "code",
   "execution_count": 9,
   "metadata": {},
   "outputs": [
    {
     "name": "stdout",
     "output_type": "stream",
     "text": [
      "6.23 µs ± 211 ns per loop (mean ± std. dev. of 7 runs, 100000 loops each)\n"
     ]
    }
   ],
   "source": [
    "%timeit pickindex(expons, exponsum)"
   ]
  },
  {
   "cell_type": "code",
   "execution_count": 10,
   "metadata": {},
   "outputs": [
    {
     "name": "stdout",
     "output_type": "stream",
     "text": [
      "9.55 µs ± 356 ns per loop (mean ± std. dev. of 7 runs, 100000 loops each)\n"
     ]
    }
   ],
   "source": [
    "%timeit pickindex_v2(expons, exponsum)"
   ]
  },
  {
   "cell_type": "code",
   "execution_count": 11,
   "metadata": {},
   "outputs": [
    {
     "name": "stdout",
     "output_type": "stream",
     "text": [
      "1.23 µs ± 33.5 ns per loop (mean ± std. dev. of 7 runs, 1000000 loops each)\n"
     ]
    }
   ],
   "source": [
    "%timeit pickindex_v3(expons, exponsum)"
   ]
  },
  {
   "cell_type": "code",
   "execution_count": 14,
   "metadata": {},
   "outputs": [],
   "source": [
    "def view(points, flags, expons):\n",
    "    flag_list = flags + [False]\n",
    "    expon_list = expons + [0.]\n",
    "    Norma = np.sum(expon_list)\n",
    "    print(Norma)\n",
    "    print(exponsum)\n",
    "    if (exponsum - Norma) > 1e-6:\n",
    "        print(\"Normalization mismatched\")\n",
    "        pass\n",
    "    print(\"left point, flag, probability\")\n",
    "    for a,b,c in zip(points, flag_list, expon_list):\n",
    "        print(\"[{:10.5}, {:5}, {:10.5}]\".format(a, b, c/Norma))\n",
    "        pass\n",
    "    pass "
   ]
  },
  {
   "cell_type": "code",
   "execution_count": 15,
   "metadata": {},
   "outputs": [
    {
     "name": "stdout",
     "output_type": "stream",
     "text": [
      "0.03759389184000478\n",
      "0.037593891840004806\n",
      "left point, flag, probability\n",
      "[       0.0,     1,  0.0038926]\n",
      "[  0.052697,     1,   0.077081]\n",
      "[   0.19526,     1,   0.023237]\n",
      "[   0.29086,     1,   0.044254]\n",
      "[   0.40935,     1,   0.065073]\n",
      "[   0.54409,     1,  0.0073103]\n",
      "[   0.60911,     1,   0.016213]\n",
      "[    0.6939,     0,    0.76294]\n",
      "[       1.0,     0,        0.0]\n"
     ]
    }
   ],
   "source": [
    "view(points, flags, expons)"
   ]
  },
  {
   "cell_type": "code",
   "execution_count": 2,
   "metadata": {},
   "outputs": [
    {
     "data": {
      "text/plain": [
       "array([ 1,  3,  6, 10, 15])"
      ]
     },
     "execution_count": 2,
     "metadata": {},
     "output_type": "execute_result"
    }
   ],
   "source": [
    "a = [1,2,3,4,5]\n",
    "np.cumsum(a)"
   ]
  },
  {
   "cell_type": "code",
   "execution_count": 23,
   "metadata": {},
   "outputs": [],
   "source": [
    "b = [1,2,3,4]"
   ]
  },
  {
   "cell_type": "code",
   "execution_count": 24,
   "metadata": {},
   "outputs": [
    {
     "data": {
      "text/plain": [
       "[1, 2, 3, 4]"
      ]
     },
     "execution_count": 24,
     "metadata": {},
     "output_type": "execute_result"
    }
   ],
   "source": [
    "b"
   ]
  },
  {
   "cell_type": "code",
   "execution_count": 21,
   "metadata": {},
   "outputs": [],
   "source": [
    "del b[0]\n",
    "b.insert(0, 11)"
   ]
  },
  {
   "cell_type": "code",
   "execution_count": 22,
   "metadata": {},
   "outputs": [
    {
     "data": {
      "text/plain": [
       "[11, 2, 3, 4]"
      ]
     },
     "execution_count": 22,
     "metadata": {},
     "output_type": "execute_result"
    }
   ],
   "source": [
    "b"
   ]
  },
  {
   "cell_type": "code",
   "execution_count": 25,
   "metadata": {},
   "outputs": [],
   "source": [
    "b[0] = 11"
   ]
  },
  {
   "cell_type": "code",
   "execution_count": 26,
   "metadata": {},
   "outputs": [
    {
     "data": {
      "text/plain": [
       "[11, 2, 3, 4]"
      ]
     },
     "execution_count": 26,
     "metadata": {},
     "output_type": "execute_result"
    }
   ],
   "source": [
    "b"
>>>>>>> test1
   ]
  },
  {
   "cell_type": "code",
   "execution_count": null,
   "metadata": {},
   "outputs": [],
   "source": []
  }
 ],
 "metadata": {
  "kernelspec": {
   "display_name": "Python 3",
   "language": "python",
   "name": "python3"
  },
  "language_info": {
   "codemirror_mode": {
    "name": "ipython",
    "version": 3
   },
   "file_extension": ".py",
   "mimetype": "text/x-python",
   "name": "python",
   "nbconvert_exporter": "python",
   "pygments_lexer": "ipython3",
   "version": "3.7.6"
  }
 },
 "nbformat": 4,
 "nbformat_minor": 4
}
