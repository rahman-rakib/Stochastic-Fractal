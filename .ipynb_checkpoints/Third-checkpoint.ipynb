{
 "cells": [
  {
   "cell_type": "code",
   "execution_count": 9,
   "metadata": {},
   "outputs": [],
   "source": [
    "import random, numpy as np\n",
    "alphap = 2\n",
    "expon = 2 * alphap - 1\n",
    "probp = 0.5"
   ]
  },
  {
   "cell_type": "code",
   "execution_count": 10,
   "metadata": {},
   "outputs": [],
   "source": [
    "def betadist(alpha):\n",
    "        return random.betavariate(alpha,alpha)"
   ]
  },
  {
   "cell_type": "code",
   "execution_count": 11,
   "metadata": {},
   "outputs": [],
   "source": [
    "def decision(probability):\n",
    "    \"\"\"\n",
    "    decides with a given probability whether to keep the right part\n",
    "    \"\"\"\n",
    "    if float(probability) > random.random():\n",
    "        return True\n",
    "    else: \n",
    "        return False"
   ]
  },
  {
   "cell_type": "code",
   "execution_count": 12,
   "metadata": {},
   "outputs": [],
   "source": [
    "def splitting(left,right):\n",
    "    \"\"\"\n",
    "    splits a given segment. left and right are endpoints of the segment\n",
    "    \"\"\"\n",
    "    segment = right - left\n",
    "    xL = segment * betadist(alphap)\n",
    "    xR = segment - xL\n",
    "    splitpoint = left + xL\n",
    "    flag = decision(probp)\n",
    "    xLp = xL**expon\n",
    "    xRp = xR**expon\n",
    "    change = xLp + xRp - segment**expon\n",
    "    return splitpoint, flag, xLp, xRp, change"
   ]
  },
  {
   "cell_type": "code",
   "execution_count": 13,
   "metadata": {},
   "outputs": [],
   "source": [
    "def fraclen(List, index):\n",
    "    sum = 0\n",
    "    for i in range(len(List[:index+1])):\n",
    "        sum += List[i]\n",
    "    return sum"
   ]
  },
  {
   "cell_type": "code",
   "execution_count": 58,
   "metadata": {},
   "outputs": [],
   "source": [
    "def pickindex(expons, exponsum):\n",
    "    \"\"\"picks up a segment to be subsequently split\"\"\"\n",
    "    r = random.uniform(0, exponsum)\n",
    "    for index in range(len(expons)):\n",
    "            if fraclen(expons, index) < r: # this call to fraclen consumes time. use np.cumsum() \n",
    "                continue\n",
    "            else:\n",
    "                return index\n",
    "\n",
    "\n",
    "def pickindex_v2(expons, exponsum):\n",
    "    \"\"\"\n",
    "    comment : slower than v1\n",
    "    picks up a segment to be subsequently split\n",
    "    \"\"\"\n",
    "    r = random.uniform(0, exponsum)\n",
    "    expons_cumulative = np.cumsum(expons) # summing all might not be efficinnt. instead sum only what is needed\n",
    "    for index in range(len(expons)):\n",
    "            if expons_cumulative[index] < r:\n",
    "                continue\n",
    "            else:\n",
    "                return index\n",
    "            \n",
    "def pickindex_v3(expons, exponsum):\n",
    "    \"\"\"\n",
    "    comment : falser than v2 and v1\n",
    "    picks up a segment to be subsequently split\n",
    "    \"\"\"\n",
    "    r = random.uniform(0, exponsum)\n",
    "    sum_ = 0\n",
    "    for index in range(len(expons)):\n",
    "        sum_ += expons[index]\n",
    "        if sum_ < r:\n",
    "            continue\n",
    "        else:\n",
    "            return index"
   ]
  },
  {
   "cell_type": "code",
   "execution_count": 16,
   "metadata": {},
   "outputs": [
    {
     "name": "stdout",
     "output_type": "stream",
     "text": [
      "step i= 0\n",
      "before expons  [1.0]\n",
      "after expons  [0.32459150551061455, 0.030591977168450794]\n",
      "step i= 1\n",
      "before expons  [0.32459150551061455, 0.030591977168450794]\n",
      "after expons  [0.04356683189534985, 0.03772135019251806, 0.030591977168450794]\n",
      "step i= 2\n",
      "step i= 3\n",
      "before expons  [0.04356683189534985, 0.03772135019251806, 0.030591977168450794]\n",
      "after expons  [0.005597337005103278, 0.0052971290228884345, 0.03772135019251806, 0.030591977168450794]\n",
      "step i= 4\n",
      "[0.0, 0.17755264726848938, 0.35187250002913645, 0.6872462573538435, 1.0]\n",
      "[True, False, False, True]\n",
      "[0.005597337005103278, 0.0052971290228884345, 0.03772135019251806, 0.030591977168450794]\n",
      "0.07920779338896064\n"
     ]
    }
   ],
   "source": [
    "points = [0.,1.]\n",
    "flags = [True]\n",
    "expons = [1.]\n",
    "exponsum = 1.0\n",
    "\n",
    "for i in range(5):\n",
    "    print(\"step i=\", i)\n",
    "    index = pickindex(expons, exponsum)\n",
    "    if flags[index] == True:\n",
    "        left = points[index]\n",
    "        right = points[index+1]\n",
    "        splitpoint, flag, xLp, xRp, change = splitting(left,right)\n",
    "        points.insert(index+1,splitpoint)\n",
    "        flags.insert(index+1,flag)\n",
    "        print(\"before expons \", expons)\n",
    "        del expons[index]\n",
    "        expons.insert(index,xLp)\n",
    "        expons.insert(index+1,xRp)\n",
    "        print(\"after expons \", expons)\n",
    "        exponsum += change\n",
    "\n",
    "print(points)\n",
    "print(flags)\n",
    "print(expons)\n",
    "print(exponsum)"
   ]
  },
  {
   "cell_type": "markdown",
   "metadata": {},
   "source": [
    "# Testing section"
   ]
  },
  {
   "cell_type": "code",
   "execution_count": 52,
   "metadata": {},
   "outputs": [
    {
     "name": "stdout",
     "output_type": "stream",
     "text": [
      "4.13 µs ± 96.8 ns per loop (mean ± std. dev. of 7 runs, 100000 loops each)\n"
     ]
    }
   ],
   "source": [
    "%timeit pickindex(expons, exponsum)"
   ]
  },
  {
   "cell_type": "code",
   "execution_count": 56,
   "metadata": {},
   "outputs": [
    {
     "name": "stdout",
     "output_type": "stream",
     "text": [
      "15.4 µs ± 88.1 ns per loop (mean ± std. dev. of 7 runs, 100000 loops each)\n"
     ]
    }
   ],
   "source": [
    "%timeit pickindex_v2(expons, exponsum)"
   ]
  },
  {
   "cell_type": "code",
   "execution_count": 59,
   "metadata": {},
   "outputs": [
    {
     "name": "stdout",
     "output_type": "stream",
     "text": [
      "1.34 µs ± 5.39 ns per loop (mean ± std. dev. of 7 runs, 1000000 loops each)\n"
     ]
    }
   ],
   "source": [
    "%timeit pickindex_v3(expons, exponsum)"
   ]
  },
  {
   "cell_type": "code",
   "execution_count": 62,
   "metadata": {},
   "outputs": [],
   "source": [
    "def view(points, flags, expons):\n",
    "    flag_list = flags + [False]\n",
    "    expon_list = expons + [0.]\n",
    "    Norma = np.sum(expon_list)\n",
    "    print(\"left point, flag, probability\")\n",
    "    for a,b,c in zip(points, flag_list, expon_list):\n",
    "        print(\"[{:10.5}, {:5}, {:10.5}]\".format(a, b, c/Norma))\n",
    "    "
   ]
  },
  {
   "cell_type": "code",
   "execution_count": 63,
   "metadata": {},
   "outputs": [
    {
     "name": "stdout",
     "output_type": "stream",
     "text": [
      "left point, flag, probability\n",
      "[       0.0,     1,   0.070666]\n",
      "[   0.17755,     0,   0.066876]\n",
      "[   0.35187,     0,    0.47623]\n",
      "[   0.68725,     1,    0.38622]\n",
      "[       1.0,     0,        0.0]\n"
     ]
    }
   ],
   "source": [
    "view(points, flags, expons)"
   ]
  },
  {
   "cell_type": "code",
   "execution_count": 6,
   "metadata": {},
   "outputs": [
    {
     "data": {
      "text/plain": [
       "array([ 1,  3,  6, 10, 15])"
      ]
     },
     "execution_count": 6,
     "metadata": {},
     "output_type": "execute_result"
    }
   ],
   "source": [
    "a = [1,2,3,4,5]\n",
    "np.cumsum(a)"
   ]
  },
  {
   "cell_type": "code",
   "execution_count": null,
   "metadata": {},
   "outputs": [],
   "source": []
  }
 ],
 "metadata": {
  "kernelspec": {
   "display_name": "Python 3",
   "language": "python",
   "name": "python3"
  },
  "language_info": {
   "codemirror_mode": {
    "name": "ipython",
    "version": 3
   },
   "file_extension": ".py",
   "mimetype": "text/x-python",
   "name": "python",
   "nbconvert_exporter": "python",
   "pygments_lexer": "ipython3",
   "version": "3.7.7"
  }
 },
 "nbformat": 4,
 "nbformat_minor": 4
}
