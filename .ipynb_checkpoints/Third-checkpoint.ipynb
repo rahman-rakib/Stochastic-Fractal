{
 "cells": [
  {
   "cell_type": "code",
   "execution_count": 11,
   "metadata": {},
   "outputs": [],
   "source": [
    "import random, numpy as np\n",
    "alphap = 2\n",
    "expon = 2 * alphap - 1\n",
    "probp = 0.75\n"
   ]
  },
  {
   "cell_type": "code",
   "execution_count": 12,
   "metadata": {},
   "outputs": [],
   "source": [
    "def betadist(alpha):\n",
    "        return random.betavariate(alpha,alpha)"
   ]
  },
  {
   "cell_type": "code",
   "execution_count": 13,
   "metadata": {},
   "outputs": [],
   "source": [
    "def decision(probability):\n",
    "    \"\"\"\n",
    "    decides with a given probability whether to keep the right part\n",
    "    \"\"\"\n",
    "    if float(probability) > random.random():\n",
    "        return True\n",
    "    else: \n",
    "        return False"
   ]
  },
  {
   "cell_type": "code",
   "execution_count": 14,
   "metadata": {},
   "outputs": [],
   "source": [
    "def splitting(left,right):\n",
    "    \"\"\"\n",
    "    splits a given segment. left and right are endpoints of the segment\n",
    "    \"\"\"\n",
    "    segment = right - left\n",
    "    xL = segment * betadist(alphap)\n",
    "    xR = segment - xL\n",
    "    splitpoint = left + xL\n",
    "    flag = decision(probp)\n",
    "    xLp = xL**expon\n",
    "    xRp = xR**expon\n",
    "    change = xLp + xRp - segment**expon\n",
    "    return splitpoint, flag, xLp, xRp, change"
   ]
  },
  {
   "cell_type": "code",
   "execution_count": 15,
   "metadata": {},
   "outputs": [],
   "source": [
    "def fraclen(List, index):\n",
    "    sum = 0\n",
    "    for i in range(len(List[:index+1])):\n",
    "        sum += List[i]\n",
    "    return sum"
   ]
  },
  {
   "cell_type": "code",
   "execution_count": 16,
   "metadata": {},
   "outputs": [],
   "source": [
    "def pickindex(expons, exponsum):\n",
    "    \"\"\"picks up a segment to be subsequently split\"\"\"\n",
    "    r = random.uniform(0, exponsum)\n",
    "    for index in range(len(expons)):\n",
    "            if fraclen(expons, index) < r: # this call to fraclen consumes time. use np.cumsum() \n",
    "                continue\n",
    "            else:\n",
    "                return index\n",
    "\n",
    "\n",
    "def pickindex_v2(expons, exponsum):\n",
    "    \"\"\"\n",
    "    comment : slower than v1\n",
    "    picks up a segment to be subsequently split\n",
    "    \"\"\"\n",
    "    r = random.uniform(0, exponsum)\n",
    "    expons_cumulative = np.cumsum(expons) # summing all might not be efficinnt. instead sum only what is needed\n",
    "    for index in range(len(expons)):\n",
    "            if expons_cumulative[index] < r:\n",
    "                continue\n",
    "            else:\n",
    "                return index\n",
    "            \n",
    "def pickindex_v3(expons, exponsum):\n",
    "    \"\"\"\n",
    "    comment : falser than v2 and v1\n",
    "    picks up a segment to be subsequently split\n",
    "    \"\"\"\n",
    "    r = random.uniform(0, exponsum)\n",
    "    sum_ = 0\n",
    "    for index in range(len(expons)):\n",
    "        sum_ += expons[index]\n",
    "        if sum_ < r:\n",
    "            continue\n",
    "        else:\n",
    "            return index"
   ]
  },
  {
   "cell_type": "code",
   "execution_count": 25,
   "metadata": {},
   "outputs": [
    {
     "name": "stdout",
     "output_type": "stream",
     "text": [
      "********step i= 0\n",
      "chosen index =  0\n",
      "before expons  [1.0]\n",
      "after expons  [0.10629991638607614, 0.14577384750599948]\n",
      "********step i= 1\n",
      "chosen index =  0\n",
      "before expons  [0.10629991638607614, 0.14577384750599948]\n",
      "after expons  [0.02190529648934567, 0.0072908873053945614, 0.14577384750599948]\n",
      "********step i= 2\n",
      "chosen index =  1\n",
      "********step i= 3\n",
      "chosen index =  2\n",
      "before expons  [0.02190529648934567, 0.0072908873053945614, 0.14577384750599948]\n",
      "after expons  [0.02190529648934567, 0.0072908873053945614, 0.00015305032997674808, 0.1056903373266173]\n",
      "********step i= 4\n",
      "chosen index =  3\n",
      "before expons  [0.02190529648934567, 0.0072908873053945614, 0.00015305032997674808, 0.1056903373266173]\n",
      "after expons  [0.02190529648934567, 0.0072908873053945614, 0.00015305032997674808, 0.03347992224566816, 0.0034088744124787123]\n",
      "********step i= 5\n",
      "chosen index =  0\n",
      "before expons  [0.02190529648934567, 0.0072908873053945614, 0.00015305032997674808, 0.03347992224566816, 0.0034088744124787123]\n",
      "after expons  [0.0038855378161183696, 0.0018423205679511535, 0.0072908873053945614, 0.00015305032997674808, 0.03347992224566816, 0.0034088744124787123]\n",
      "********step i= 6\n",
      "chosen index =  4\n",
      "before expons  [0.0038855378161183696, 0.0018423205679511535, 0.0072908873053945614, 0.00015305032997674808, 0.03347992224566816, 0.0034088744124787123]\n",
      "after expons  [0.0038855378161183696, 0.0018423205679511535, 0.0072908873053945614, 0.00015305032997674808, 0.0059294580015144096, 0.002821376692545045, 0.0034088744124787123]\n",
      "********step i= 7\n",
      "chosen index =  6\n",
      "before expons  [0.0038855378161183696, 0.0018423205679511535, 0.0072908873053945614, 0.00015305032997674808, 0.0059294580015144096, 0.002821376692545045, 0.0034088744124787123]\n",
      "after expons  [0.0038855378161183696, 0.0018423205679511535, 0.0072908873053945614, 0.00015305032997674808, 0.0059294580015144096, 0.002821376692545045, 6.44311894382467e-05, 0.0013459584120807178]\n",
      "********step i= 8\n",
      "chosen index =  7\n",
      "before expons  [0.0038855378161183696, 0.0018423205679511535, 0.0072908873053945614, 0.00015305032997674808, 0.0059294580015144096, 0.002821376692545045, 6.44311894382467e-05, 0.0013459584120807178]\n",
      "after expons  [0.0038855378161183696, 0.0018423205679511535, 0.0072908873053945614, 0.00015305032997674808, 0.0059294580015144096, 0.002821376692545045, 6.44311894382467e-05, 0.00013143239409525205, 0.00021135934754794563]\n",
      "********step i= 9\n",
      "chosen index =  2\n",
      "[0.0, 0.15721128349911176, 0.2798012896646348, 0.47370827828589607, 0.5271989547380493, 0.7081960752676651, 0.8494998265292859, 0.8895894566731763, 0.9404328045311486, 1.0]\n",
      "[True, False, False, True, True, False, True, True, True]\n",
      "[0.0038855378161183696, 0.0018423205679511535, 0.0072908873053945614, 0.00015305032997674808, 0.0059294580015144096, 0.002821376692545045, 6.44311894382467e-05, 0.00013143239409525205, 0.00021135934754794563]\n",
      "9\n",
      "0.02232985364458167\n",
      "0.022329853644581735\n"
     ]
    }
   ],
   "source": [
    "points = [0.,1.]\n",
    "flags = [True]\n",
    "expons = [1.] # like probability\n",
    "exponsum = 1.0 # sum  of probability\n",
    "\n",
    "for i in range(10):\n",
    "    print(\"********step i=\", i)\n",
    "    index = pickindex(expons, exponsum)\n",
    "    print(\"chosen index = \", index)\n",
    "    if flags[index] == True:\n",
    "        left = points[index]\n",
    "        right = points[index+1]\n",
    "        splitpoint, flag, xLp, xRp, change = splitting(left,right)\n",
    "        points.insert(index+1,splitpoint)\n",
    "        flags.insert(index+1,flag)\n",
    "        print(\"before expons \", expons)\n",
    "        \n",
    "#         del expons[index]\n",
    "#         expons.insert(index,xLp)\n",
    "\n",
    "        expons[index] = xLp # without deleting element\n",
    "\n",
    "        expons.insert(index+1,xRp)\n",
    "        print(\"after expons \", expons)\n",
    "        exponsum += change\n",
    "        pass\n",
    "    pass\n",
    "\n",
    "print(points)\n",
    "print(flags)\n",
    "print(expons)\n",
    "print(len(expons))\n",
    "print(exponsum)\n",
    "print(np.sum(expons))"
   ]
  },
  {
   "cell_type": "markdown",
   "metadata": {},
   "source": [
    "# Testing section"
   ]
  },
  {
   "cell_type": "code",
   "execution_count": 52,
   "metadata": {},
   "outputs": [
    {
     "name": "stdout",
     "output_type": "stream",
     "text": [
      "4.13 µs ± 96.8 ns per loop (mean ± std. dev. of 7 runs, 100000 loops each)\n"
     ]
    }
   ],
   "source": [
    "# %timeit pickindex(expons, exponsum)"
   ]
  },
  {
   "cell_type": "code",
   "execution_count": 56,
   "metadata": {},
   "outputs": [
    {
     "name": "stdout",
     "output_type": "stream",
     "text": [
      "15.4 µs ± 88.1 ns per loop (mean ± std. dev. of 7 runs, 100000 loops each)\n"
     ]
    }
   ],
   "source": [
    "# %timeit pickindex_v2(expons, exponsum)"
   ]
  },
  {
   "cell_type": "code",
   "execution_count": 8,
   "metadata": {},
   "outputs": [],
   "source": [
    "# %timeit pickindex_v3(expons, exponsum)"
   ]
  },
  {
   "cell_type": "code",
   "execution_count": 23,
   "metadata": {},
   "outputs": [],
   "source": [
    "def view(points, flags, expons):\n",
    "    flag_list = flags + [False]\n",
    "    expon_list = expons + [0.]\n",
    "    Norma = np.sum(expon_list)\n",
    "    if (exponsum - Norma) > 1e-6:\n",
    "        print(\"Normalization mismatched\")\n",
    "        pass\n",
    "    print(\"left point, flag, probability\")\n",
    "    for a,b,c in zip(points, flag_list, expon_list):\n",
    "        print(\"[{:10.5}, {:5}, {:10.5}]\".format(a, b, c/Norma))\n",
    "        pass\n",
    "    pass\n",
    "    "
   ]
  },
  {
   "cell_type": "code",
   "execution_count": 24,
   "metadata": {},
   "outputs": [
    {
     "name": "stdout",
     "output_type": "stream",
     "text": [
      "left point, flag, probability\n",
      "[       0.0,     1, 0.00066137]\n",
      "[  0.020782,     1,    0.13199]\n",
      "[   0.14223,     1,    0.48406]\n",
      "[   0.32951,     1,   0.057118]\n",
      "[   0.42137,     1,   0.016217]\n",
      "[   0.48175,     1,   0.063662]\n",
      "[   0.57699,     1,   0.038608]\n",
      "[   0.65761,     1,   0.070094]\n",
      "[   0.75595,     1,   0.045999]\n",
      "[   0.84142,     1,    0.01333]\n",
      "[   0.89797,     0,   0.078263]\n",
      "[       1.0,     0,        0.0]\n"
     ]
    }
   ],
   "source": [
    "view(points, flags, expons)"
   ]
  },
  {
   "cell_type": "code",
   "execution_count": 6,
   "metadata": {},
   "outputs": [
    {
     "data": {
      "text/plain": [
       "array([ 1,  3,  6, 10, 15])"
      ]
     },
     "execution_count": 6,
     "metadata": {},
     "output_type": "execute_result"
    }
   ],
   "source": [
    "a = [1,2,3,4,5]\n",
    "np.cumsum(a)"
   ]
  },
  {
   "cell_type": "code",
   "execution_count": 23,
   "metadata": {},
   "outputs": [],
   "source": [
    "b = [1,2,3,4]"
   ]
  },
  {
   "cell_type": "code",
   "execution_count": 24,
   "metadata": {},
   "outputs": [
    {
     "data": {
      "text/plain": [
       "[1, 2, 3, 4]"
      ]
     },
     "execution_count": 24,
     "metadata": {},
     "output_type": "execute_result"
    }
   ],
   "source": [
    "b"
   ]
  },
  {
   "cell_type": "code",
   "execution_count": 21,
   "metadata": {},
   "outputs": [],
   "source": [
    "del b[0]\n",
    "b.insert(0, 11)"
   ]
  },
  {
   "cell_type": "code",
   "execution_count": 22,
   "metadata": {},
   "outputs": [
    {
     "data": {
      "text/plain": [
       "[11, 2, 3, 4]"
      ]
     },
     "execution_count": 22,
     "metadata": {},
     "output_type": "execute_result"
    }
   ],
   "source": [
    "b"
   ]
  },
  {
   "cell_type": "code",
   "execution_count": 25,
   "metadata": {},
   "outputs": [],
   "source": [
    "b[0] = 11"
   ]
  },
  {
   "cell_type": "code",
   "execution_count": 26,
   "metadata": {},
   "outputs": [
    {
     "data": {
      "text/plain": [
       "[11, 2, 3, 4]"
      ]
     },
     "execution_count": 26,
     "metadata": {},
     "output_type": "execute_result"
    }
   ],
   "source": [
    "b"
   ]
  },
  {
   "cell_type": "code",
   "execution_count": null,
   "metadata": {},
   "outputs": [],
   "source": []
  }
 ],
 "metadata": {
  "kernelspec": {
   "display_name": "Python 3",
   "language": "python",
   "name": "python3"
  },
  "language_info": {
   "codemirror_mode": {
    "name": "ipython",
    "version": 3
   },
   "file_extension": ".py",
   "mimetype": "text/x-python",
   "name": "python",
   "nbconvert_exporter": "python",
   "pygments_lexer": "ipython3",
   "version": "3.7.7"
  }
 },
 "nbformat": 4,
 "nbformat_minor": 4
}
