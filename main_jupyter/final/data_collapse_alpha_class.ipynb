{
 "cells": [
  {
   "cell_type": "code",
   "execution_count": 27,
   "metadata": {},
   "outputs": [],
   "source": [
    "import random, numpy as np, pandas as pd\n",
    "from matplotlib import pyplot as plt\n",
    "import seaborn as sns\n",
    "import pandas as pd\n",
    "import os"
   ]
  },
  {
   "cell_type": "code",
   "execution_count": 46,
   "metadata": {},
   "outputs": [],
   "source": [
    "alphap = 2\n",
    "probp = 0.75\n",
    "expon = 2 * alphap - 1\n",
    "ensemble_sizep = 50_0\n",
    "min_iterationp = 100_000\n",
    "bin_sizep = 0.001"
   ]
  },
  {
   "cell_type": "markdown",
   "metadata": {},
   "source": [
    "## Defining directory"
   ]
  },
  {
   "cell_type": "code",
   "execution_count": 47,
   "metadata": {},
   "outputs": [
    {
     "name": "stdout",
     "output_type": "stream",
     "text": [
      "directory  ../../data/temp/alpha2/  is created\n",
      "directory  ../../figures/temp/alpha2/  is created\n"
     ]
    }
   ],
   "source": [
    "dir_data = \"../../data/alpha{}/\".format(alphap)\n",
    "dir_fig  =\"../../figures/alpha{}/\".format(alphap)\n",
    "\n",
    "\n",
    "## While testing\n",
    "dir_data = \"../../data/temp/alpha{}/\".format(alphap)\n",
    "dir_fig  =\"../../figures/temp/alpha{}/\".format(alphap)\n",
    "\n",
    "# create directory if it does not exists\n",
    "for dir_name in [dir_data, dir_fig]:\n",
    "    if not os.path.isdir(dir_name):\n",
    "        os.mkdir(dir_name)\n",
    "        print(\"directory \", dir_name, \" is created\")\n",
    "    else:\n",
    "        print(\"directory \", dir_name, \" exists\")"
   ]
  },
  {
   "cell_type": "code",
   "execution_count": 48,
   "metadata": {},
   "outputs": [],
   "source": [
    "figure_name = dir_fig + \"pn_data_coll_alpha_3.pdf\""
   ]
  },
  {
   "cell_type": "code",
   "execution_count": 49,
   "metadata": {},
   "outputs": [
    {
     "name": "stdout",
     "output_type": "stream",
     "text": [
      "ROOT_DIR  /home/shahnoor/projects/Stochastic-Fractal/main_jupyter\n"
     ]
    }
   ],
   "source": [
    "%run ../../stochastic_fractal_m.py"
   ]
  },
  {
   "cell_type": "markdown",
   "metadata": {},
   "source": [
    "## Simulation using class"
   ]
  },
  {
   "cell_type": "code",
   "execution_count": 50,
   "metadata": {},
   "outputs": [
    {
     "name": "stdout",
     "output_type": "stream",
     "text": [
      "kwargs  {'alpha': 2, 'probability': 0.75}\n",
      "Turning on logging\n"
     ]
    }
   ],
   "source": [
    "stochastic_frag = TrueLengths(alpha=alphap, probability=probp)"
   ]
  },
  {
   "cell_type": "code",
   "execution_count": 51,
   "metadata": {},
   "outputs": [],
   "source": [
    "# lengths_enselbme = stochastic_frag.run_ensemble(ensemble_size, total_iteration)"
   ]
  },
  {
   "cell_type": "code",
   "execution_count": 52,
   "metadata": {},
   "outputs": [],
   "source": [
    "ana_soln = AnalyticSoln()"
   ]
  },
  {
   "cell_type": "markdown",
   "metadata": {},
   "source": [
    "## Other functions"
   ]
  },
  {
   "cell_type": "code",
   "execution_count": 53,
   "metadata": {},
   "outputs": [],
   "source": [
    "def bin_maker(max_value, bin_number):\n",
    "    bin_size = max_value/bin_number\n",
    "    bins = [0.]\n",
    "    for i in range(bin_number):\n",
    "        bin_edge = (i+1)*bin_size\n",
    "        bins.append(bin_edge)\n",
    "        pass\n",
    "    return bins"
   ]
  },
  {
   "cell_type": "code",
   "execution_count": 54,
   "metadata": {},
   "outputs": [],
   "source": [
    "def histrogram_data(data, bin_size = bin_sizep):\n",
    "    bin_number = int((np.max(data) - np.min(data))//bin_size) + 1\n",
    "    y, x = np.histogram(data, bins = bin_number)\n",
    "    return x[1:], y"
   ]
  },
  {
   "cell_type": "markdown",
   "metadata": {},
   "source": [
    "## fitting data\n",
    "\n",
    "$\\phi \\equiv \\text{simulation}$\n",
    "$\\phi^{(th)} \\equiv \\text{theoritical or analytical}$\n",
    "\n",
    "$$cost = \\sum_t \\sum_i (b*\\phi_{i t} - \\phi_{i t}^{(th)})^2 \\$$\n",
    "\n",
    "we need to minimize $cost$. We get the value of $b$ as\n",
    "\n",
    "$$b = \\frac{\\sum_t \\sum_i \\phi_{i t} \\phi_{i t}^{(th)}}{\\sum_t \\sum_i \\phi_{i t}^2}$$"
   ]
  },
  {
   "cell_type": "code",
   "execution_count": 55,
   "metadata": {},
   "outputs": [],
   "source": [
    "def fitting_parameter(given_array,ref_array):\n",
    "    a1 = np.multiply(given_array,ref_array)\n",
    "    a2 = np.multiply(given_array,given_array)\n",
    "    a1_sum = np.sum(a1)\n",
    "    a2_sum = np.sum(a2)\n",
    "    return a1_sum, a2_sum"
   ]
  },
  {
   "cell_type": "code",
   "execution_count": 56,
   "metadata": {},
   "outputs": [],
   "source": [
    "def plot_data(total_iteration):\n",
    "    df = ana_soln.find_df(alphap,probp)\n",
    "    \n",
    "    # doing the simulation here\n",
    "    ens_data = stochastic_frag.run_ensemble(ensemble_sizep, total_iteration)  # from class\n",
    "    x,y = histrogram_data(ens_data)\n",
    "    xi = x*total_iteration**(1/(2*alphap-1))\n",
    "    phi = y/(total_iteration**((1+df)/(2*alphap-1)))\n",
    "    phi_analytic = ana_soln.phi_list(alphap,probp,xi)  # from class\n",
    "    a1_sum, a2_sum = fitting_parameter(phi, phi_analytic)\n",
    "    return xi, phi, a1_sum, a2_sum"
   ]
  },
  {
   "cell_type": "code",
   "execution_count": 57,
   "metadata": {},
   "outputs": [
    {
     "name": "stdout",
     "output_type": "stream",
     "text": [
      "realization  1  . Time spent  0.1260833740234375  sec\n",
      "realization  6  . Time spent  0.6162509918212891  sec\n",
      "realization  11  . Time spent  0.520552396774292  sec\n",
      "realization  16  . Time spent  0.5432021617889404  sec\n",
      "realization  21  . Time spent  0.5650725364685059  sec\n",
      "realization  26  . Time spent  0.5179252624511719  sec\n",
      "realization  31  . Time spent  0.5984005928039551  sec\n",
      "realization  36  . Time spent  0.63075852394104  sec\n",
      "realization  41  . Time spent  0.5823814868927002  sec\n",
      "realization  46  . Time spent  0.6066796779632568  sec\n",
      "realization  51  . Time spent  0.5281515121459961  sec\n",
      "realization  56  . Time spent  0.5702276229858398  sec\n",
      "realization  61  . Time spent  0.5574274063110352  sec\n",
      "realization  66  . Time spent  0.5555651187896729  sec\n",
      "realization  71  . Time spent  0.5601582527160645  sec\n",
      "realization  76  . Time spent  0.5171728134155273  sec\n",
      "realization  81  . Time spent  0.49877309799194336  sec\n",
      "realization  86  . Time spent  0.5864472389221191  sec\n",
      "realization  91  . Time spent  0.5149555206298828  sec\n",
      "realization  96  . Time spent  0.5352640151977539  sec\n",
      "realization  101  . Time spent  0.49303555488586426  sec\n",
      "realization  106  . Time spent  0.49283504486083984  sec\n",
      "realization  111  . Time spent  0.5299131870269775  sec\n",
      "realization  116  . Time spent  0.5270767211914062  sec\n",
      "realization  121  . Time spent  0.5227141380310059  sec\n",
      "realization  126  . Time spent  0.6026697158813477  sec\n",
      "realization  131  . Time spent  0.6094236373901367  sec\n",
      "realization  136  . Time spent  0.5633130073547363  sec\n",
      "realization  141  . Time spent  0.6940078735351562  sec\n",
      "realization  146  . Time spent  0.5650641918182373  sec\n",
      "realization  151  . Time spent  0.5316755771636963  sec\n",
      "realization  156  . Time spent  0.5254795551300049  sec\n",
      "realization  161  . Time spent  0.6839308738708496  sec\n",
      "realization  166  . Time spent  0.5698823928833008  sec\n",
      "realization  171  . Time spent  0.5401620864868164  sec\n",
      "realization  176  . Time spent  0.5795936584472656  sec\n",
      "realization  181  . Time spent  0.6121258735656738  sec\n",
      "realization  186  . Time spent  0.5014083385467529  sec\n",
      "realization  191  . Time spent  0.5029854774475098  sec\n",
      "realization  196  . Time spent  0.5094106197357178  sec\n",
      "realization  201  . Time spent  0.51119065284729  sec\n",
      "realization  206  . Time spent  0.5517935752868652  sec\n",
      "realization  211  . Time spent  0.5277736186981201  sec\n",
      "realization  216  . Time spent  0.5125961303710938  sec\n",
      "realization  221  . Time spent  0.5597052574157715  sec\n",
      "realization  226  . Time spent  0.7430925369262695  sec\n",
      "realization  231  . Time spent  0.6589975357055664  sec\n",
      "realization  236  . Time spent  0.641608715057373  sec\n",
      "realization  241  . Time spent  0.6534185409545898  sec\n",
      "realization  246  . Time spent  1.0698966979980469  sec\n",
      "realization  251  . Time spent  0.9462263584136963  sec\n",
      "realization  256  . Time spent  1.0429081916809082  sec\n",
      "realization  261  . Time spent  1.0634229183197021  sec\n",
      "realization  266  . Time spent  0.8753762245178223  sec\n",
      "realization  271  . Time spent  0.7205398082733154  sec\n",
      "realization  276  . Time spent  0.6829311847686768  sec\n",
      "realization  281  . Time spent  0.796614408493042  sec\n",
      "realization  286  . Time spent  0.7708141803741455  sec\n",
      "realization  291  . Time spent  0.6622843742370605  sec\n",
      "realization  296  . Time spent  0.5568110942840576  sec\n",
      "realization  301  . Time spent  0.8026080131530762  sec\n",
      "realization  306  . Time spent  1.033344030380249  sec\n",
      "realization  311  . Time spent  1.4689996242523193  sec\n",
      "realization  316  . Time spent  1.2343146800994873  sec\n",
      "realization  321  . Time spent  1.137885332107544  sec\n",
      "realization  326  . Time spent  0.990231990814209  sec\n",
      "realization  331  . Time spent  0.9634780883789062  sec\n",
      "realization  336  . Time spent  1.1641976833343506  sec\n",
      "realization  341  . Time spent  0.8041517734527588  sec\n",
      "realization  346  . Time spent  0.7023501396179199  sec\n",
      "realization  351  . Time spent  0.6133842468261719  sec\n",
      "realization  356  . Time spent  0.6808145046234131  sec\n",
      "realization  361  . Time spent  0.5713284015655518  sec\n",
      "realization  366  . Time spent  0.6941921710968018  sec\n",
      "realization  371  . Time spent  0.5550165176391602  sec\n",
      "realization  376  . Time spent  0.592416524887085  sec\n",
      "realization  381  . Time spent  0.6572749614715576  sec\n",
      "realization  386  . Time spent  0.5702483654022217  sec\n",
      "realization  391  . Time spent  0.543463945388794  sec\n",
      "realization  396  . Time spent  0.5633525848388672  sec\n",
      "realization  401  . Time spent  0.6538605690002441  sec\n",
      "realization  406  . Time spent  0.5580892562866211  sec\n",
      "realization  411  . Time spent  0.5834305286407471  sec\n",
      "realization  416  . Time spent  0.6137924194335938  sec\n",
      "realization  421  . Time spent  0.6249630451202393  sec\n",
      "realization  426  . Time spent  0.5225331783294678  sec\n",
      "realization  431  . Time spent  0.612236499786377  sec\n",
      "realization  436  . Time spent  0.5937848091125488  sec\n",
      "realization  441  . Time spent  0.5103325843811035  sec\n",
      "realization  446  . Time spent  0.5599019527435303  sec\n",
      "realization  451  . Time spent  0.5222482681274414  sec\n",
      "realization  456  . Time spent  0.5100343227386475  sec\n",
      "realization  461  . Time spent  0.5672996044158936  sec\n",
      "realization  466  . Time spent  0.5281517505645752  sec\n",
      "realization  471  . Time spent  0.5136198997497559  sec\n",
      "realization  476  . Time spent  0.523411750793457  sec\n",
      "realization  481  . Time spent  0.49802684783935547  sec\n",
      "realization  486  . Time spent  0.5303137302398682  sec\n",
      "realization  491  . Time spent  0.582082986831665  sec\n",
      "realization  496  . Time spent  0.577883243560791  sec\n",
      "Total time spent  64.45176458358765  sec\n",
      "realization  1  . Time spent  0.2001197338104248  sec\n",
      "realization  6  . Time spent  1.2055926322937012  sec\n",
      "realization  11  . Time spent  1.163574457168579  sec\n",
      "realization  16  . Time spent  1.023249864578247  sec\n",
      "realization  21  . Time spent  1.2452483177185059  sec\n",
      "realization  26  . Time spent  1.5417604446411133  sec\n",
      "realization  31  . Time spent  1.1569573879241943  sec\n",
      "realization  36  . Time spent  1.0753047466278076  sec\n",
      "realization  41  . Time spent  1.189892053604126  sec\n",
      "realization  46  . Time spent  1.0589063167572021  sec\n",
      "realization  51  . Time spent  0.9589521884918213  sec\n",
      "realization  56  . Time spent  1.0455574989318848  sec\n",
      "realization  61  . Time spent  1.2746469974517822  sec\n",
      "realization  66  . Time spent  1.0746912956237793  sec\n",
      "realization  71  . Time spent  0.9714627265930176  sec\n",
      "realization  76  . Time spent  0.9904544353485107  sec\n",
      "realization  81  . Time spent  1.0021378993988037  sec\n",
      "realization  86  . Time spent  1.0689570903778076  sec\n",
      "realization  91  . Time spent  1.072159767150879  sec\n",
      "realization  96  . Time spent  1.006385087966919  sec\n",
      "realization  101  . Time spent  1.0150461196899414  sec\n",
      "realization  106  . Time spent  1.0173852443695068  sec\n",
      "realization  111  . Time spent  1.0232625007629395  sec\n",
      "realization  116  . Time spent  1.121469497680664  sec\n",
      "realization  121  . Time spent  1.0489332675933838  sec\n",
      "realization  126  . Time spent  1.2627460956573486  sec\n",
      "realization  131  . Time spent  1.5625083446502686  sec\n",
      "realization  136  . Time spent  1.2557787895202637  sec\n",
      "realization  141  . Time spent  1.1360373497009277  sec\n",
      "realization  146  . Time spent  1.1549358367919922  sec\n",
      "realization  151  . Time spent  1.1135244369506836  sec\n",
      "realization  156  . Time spent  1.1472010612487793  sec\n",
      "realization  161  . Time spent  1.0104634761810303  sec\n",
      "realization  166  . Time spent  1.1049118041992188  sec\n",
      "realization  171  . Time spent  1.083827018737793  sec\n",
      "realization  176  . Time spent  1.0553865432739258  sec\n",
      "realization  181  . Time spent  1.0245881080627441  sec\n",
      "realization  186  . Time spent  1.2472178936004639  sec\n",
      "realization  191  . Time spent  1.1799297332763672  sec\n",
      "realization  196  . Time spent  1.137406349182129  sec\n",
      "realization  201  . Time spent  1.0258753299713135  sec\n",
      "realization  206  . Time spent  1.1945478916168213  sec\n",
      "realization  211  . Time spent  0.988415002822876  sec\n",
      "realization  216  . Time spent  1.3114204406738281  sec\n",
      "realization  221  . Time spent  1.185410499572754  sec\n",
      "realization  226  . Time spent  1.29500412940979  sec\n",
      "realization  231  . Time spent  1.0784387588500977  sec\n"
     ]
    },
    {
     "name": "stdout",
     "output_type": "stream",
     "text": [
      "realization  236  . Time spent  1.046492576599121  sec\n",
      "realization  241  . Time spent  1.0339100360870361  sec\n",
      "realization  246  . Time spent  1.1019222736358643  sec\n",
      "realization  251  . Time spent  1.057675838470459  sec\n",
      "realization  256  . Time spent  1.2044258117675781  sec\n",
      "realization  261  . Time spent  1.1510694026947021  sec\n",
      "realization  266  . Time spent  1.1634016036987305  sec\n",
      "realization  271  . Time spent  1.1573660373687744  sec\n",
      "realization  276  . Time spent  1.4211845397949219  sec\n",
      "realization  281  . Time spent  2.8100879192352295  sec\n",
      "realization  286  . Time spent  1.6157634258270264  sec\n",
      "realization  291  . Time spent  1.5229344367980957  sec\n",
      "realization  296  . Time spent  1.6086852550506592  sec\n",
      "realization  301  . Time spent  2.0729715824127197  sec\n",
      "realization  306  . Time spent  1.582947015762329  sec\n",
      "realization  311  . Time spent  1.4047377109527588  sec\n",
      "realization  316  . Time spent  1.143362045288086  sec\n",
      "realization  321  . Time spent  1.7113566398620605  sec\n",
      "realization  326  . Time spent  1.318934440612793  sec\n",
      "realization  331  . Time spent  1.5445466041564941  sec\n",
      "realization  336  . Time spent  1.132744550704956  sec\n",
      "realization  341  . Time spent  1.1897757053375244  sec\n",
      "realization  346  . Time spent  1.1313161849975586  sec\n",
      "realization  351  . Time spent  1.1640491485595703  sec\n",
      "realization  356  . Time spent  2.302461624145508  sec\n",
      "realization  361  . Time spent  2.2000741958618164  sec\n",
      "realization  366  . Time spent  1.5465805530548096  sec\n",
      "realization  371  . Time spent  1.2627577781677246  sec\n",
      "realization  376  . Time spent  1.8000283241271973  sec\n",
      "realization  381  . Time spent  1.8858749866485596  sec\n",
      "realization  386  . Time spent  1.6853549480438232  sec\n",
      "realization  391  . Time spent  1.6437487602233887  sec\n",
      "realization  396  . Time spent  1.6108274459838867  sec\n",
      "realization  401  . Time spent  1.451658010482788  sec\n",
      "realization  406  . Time spent  1.1869499683380127  sec\n",
      "realization  411  . Time spent  1.0558931827545166  sec\n",
      "realization  416  . Time spent  1.1736557483673096  sec\n",
      "realization  421  . Time spent  1.2179546356201172  sec\n",
      "realization  426  . Time spent  1.036407709121704  sec\n",
      "realization  431  . Time spent  1.1453218460083008  sec\n",
      "realization  436  . Time spent  1.049023151397705  sec\n",
      "realization  441  . Time spent  1.1636104583740234  sec\n",
      "realization  446  . Time spent  1.3445115089416504  sec\n",
      "realization  451  . Time spent  1.296684741973877  sec\n",
      "realization  456  . Time spent  1.2429566383361816  sec\n",
      "realization  461  . Time spent  1.245114803314209  sec\n",
      "realization  466  . Time spent  1.146348476409912  sec\n",
      "realization  471  . Time spent  1.4419152736663818  sec\n",
      "realization  476  . Time spent  1.3017544746398926  sec\n",
      "realization  481  . Time spent  1.0662798881530762  sec\n",
      "realization  486  . Time spent  1.2033605575561523  sec\n",
      "realization  491  . Time spent  1.0671629905700684  sec\n",
      "realization  496  . Time spent  1.0653572082519531  sec\n",
      "Total time spent  126.13381600379944  sec\n",
      "realization  1  . Time spent  0.3230910301208496  sec\n",
      "realization  6  . Time spent  1.6102266311645508  sec\n",
      "realization  11  . Time spent  1.4515814781188965  sec\n",
      "realization  16  . Time spent  1.5297939777374268  sec\n",
      "realization  21  . Time spent  1.7257812023162842  sec\n",
      "realization  26  . Time spent  2.09605073928833  sec\n",
      "realization  31  . Time spent  1.937502384185791  sec\n",
      "realization  36  . Time spent  1.6066501140594482  sec\n",
      "realization  41  . Time spent  1.542738676071167  sec\n",
      "realization  46  . Time spent  1.7311830520629883  sec\n",
      "realization  51  . Time spent  1.6359448432922363  sec\n",
      "realization  56  . Time spent  1.8448047637939453  sec\n",
      "realization  61  . Time spent  1.6869983673095703  sec\n",
      "realization  66  . Time spent  1.6293106079101562  sec\n",
      "realization  71  . Time spent  1.759329080581665  sec\n",
      "realization  76  . Time spent  1.7073283195495605  sec\n",
      "realization  81  . Time spent  1.5494565963745117  sec\n",
      "realization  86  . Time spent  1.6091997623443604  sec\n",
      "realization  91  . Time spent  1.6315584182739258  sec\n",
      "realization  96  . Time spent  1.6741600036621094  sec\n",
      "realization  101  . Time spent  1.4926280975341797  sec\n",
      "realization  106  . Time spent  1.5491154193878174  sec\n",
      "realization  111  . Time spent  1.4849481582641602  sec\n",
      "realization  116  . Time spent  1.4847924709320068  sec\n",
      "realization  121  . Time spent  1.6069369316101074  sec\n",
      "realization  126  . Time spent  1.5450150966644287  sec\n",
      "realization  131  . Time spent  1.6246366500854492  sec\n",
      "realization  136  . Time spent  1.6859540939331055  sec\n",
      "realization  141  . Time spent  1.7361059188842773  sec\n",
      "realization  146  . Time spent  1.6276311874389648  sec\n",
      "realization  151  . Time spent  1.5930697917938232  sec\n",
      "realization  156  . Time spent  1.6351442337036133  sec\n",
      "realization  161  . Time spent  1.630676507949829  sec\n",
      "realization  166  . Time spent  1.952925682067871  sec\n",
      "realization  171  . Time spent  1.472381830215454  sec\n",
      "realization  176  . Time spent  1.6608097553253174  sec\n",
      "realization  181  . Time spent  1.6658494472503662  sec\n",
      "realization  186  . Time spent  1.4626567363739014  sec\n",
      "realization  191  . Time spent  1.4705674648284912  sec\n",
      "realization  196  . Time spent  1.5719561576843262  sec\n",
      "realization  201  . Time spent  1.4339368343353271  sec\n",
      "realization  206  . Time spent  1.5038697719573975  sec\n",
      "realization  211  . Time spent  1.5109050273895264  sec\n",
      "realization  216  . Time spent  1.4622020721435547  sec\n",
      "realization  221  . Time spent  1.4669888019561768  sec\n",
      "realization  226  . Time spent  1.620788335800171  sec\n",
      "realization  231  . Time spent  1.615452527999878  sec\n",
      "realization  236  . Time spent  1.4614288806915283  sec\n",
      "realization  241  . Time spent  1.4738001823425293  sec\n",
      "realization  246  . Time spent  1.4911653995513916  sec\n",
      "realization  251  . Time spent  1.660001277923584  sec\n",
      "realization  256  . Time spent  1.5309343338012695  sec\n",
      "realization  261  . Time spent  1.6786692142486572  sec\n",
      "realization  266  . Time spent  1.4980952739715576  sec\n",
      "realization  271  . Time spent  1.4688711166381836  sec\n",
      "realization  276  . Time spent  1.5451536178588867  sec\n",
      "realization  281  . Time spent  1.500922441482544  sec\n",
      "realization  286  . Time spent  1.5777060985565186  sec\n",
      "realization  291  . Time spent  1.6975922584533691  sec\n",
      "realization  296  . Time spent  1.5598163604736328  sec\n",
      "realization  301  . Time spent  1.604393720626831  sec\n",
      "realization  306  . Time spent  1.4518787860870361  sec\n",
      "realization  311  . Time spent  1.4892470836639404  sec\n",
      "realization  316  . Time spent  1.4655845165252686  sec\n",
      "realization  321  . Time spent  1.6858882904052734  sec\n",
      "realization  326  . Time spent  1.820688247680664  sec\n",
      "realization  331  . Time spent  1.713963508605957  sec\n",
      "realization  336  . Time spent  1.556046962738037  sec\n",
      "realization  341  . Time spent  1.5711297988891602  sec\n",
      "realization  346  . Time spent  1.44297456741333  sec\n",
      "realization  351  . Time spent  1.4440641403198242  sec\n",
      "realization  356  . Time spent  1.7342638969421387  sec\n",
      "realization  361  . Time spent  1.5223116874694824  sec\n",
      "realization  366  . Time spent  1.598266363143921  sec\n",
      "realization  371  . Time spent  1.630293369293213  sec\n",
      "realization  376  . Time spent  1.7474009990692139  sec\n",
      "realization  381  . Time spent  1.8357269763946533  sec\n",
      "realization  386  . Time spent  1.5146081447601318  sec\n",
      "realization  391  . Time spent  1.5312094688415527  sec\n",
      "realization  396  . Time spent  1.5690054893493652  sec\n",
      "realization  401  . Time spent  1.5647673606872559  sec\n",
      "realization  406  . Time spent  1.5214965343475342  sec\n",
      "realization  411  . Time spent  1.746474266052246  sec\n",
      "realization  416  . Time spent  1.4823474884033203  sec\n",
      "realization  421  . Time spent  1.5742781162261963  sec\n",
      "realization  426  . Time spent  1.4855880737304688  sec\n",
      "realization  431  . Time spent  1.4585235118865967  sec\n",
      "realization  436  . Time spent  1.4775221347808838  sec\n",
      "realization  441  . Time spent  1.486872911453247  sec\n",
      "realization  446  . Time spent  1.6756725311279297  sec\n",
      "realization  451  . Time spent  1.5631906986236572  sec\n",
      "realization  456  . Time spent  1.6518127918243408  sec\n",
      "realization  461  . Time spent  1.555706262588501  sec\n",
      "realization  466  . Time spent  1.5500683784484863  sec\n"
     ]
    },
    {
     "name": "stdout",
     "output_type": "stream",
     "text": [
      "realization  471  . Time spent  1.5498602390289307  sec\n",
      "realization  476  . Time spent  1.5689921379089355  sec\n",
      "realization  481  . Time spent  1.5512645244598389  sec\n",
      "realization  486  . Time spent  1.6939857006072998  sec\n",
      "realization  491  . Time spent  1.4877710342407227  sec\n",
      "realization  496  . Time spent  1.4863090515136719  sec\n",
      "Total time spent  159.47592759132385  sec\n"
     ]
    }
   ],
   "source": [
    "data_dict = {}\n",
    "a1_sum, a2_sum = 0,0\n",
    "for i in range(3):\n",
    "    time_t = min_iterationp*(i+1)\n",
    "    xi, phi, a1, a2 = plot_data(time_t)\n",
    "    data_dict[time_t]=[xi,phi]\n",
    "    a1_sum += a1\n",
    "    a2_sum += a2\n",
    "    \n",
    "for i in range(3):\n",
    "    time_t = min_iterationp*(i+1)\n",
    "    data_dict[time_t][1]*=(a1_sum/a2_sum)"
   ]
  },
  {
   "cell_type": "code",
   "execution_count": 58,
   "metadata": {},
   "outputs": [
    {
     "data": {
      "text/plain": [
       "dict_keys([100000, 200000, 300000])"
      ]
     },
     "execution_count": 58,
     "metadata": {},
     "output_type": "execute_result"
    }
   ],
   "source": [
    "data_dict.keys()"
   ]
  },
  {
   "cell_type": "markdown",
   "metadata": {},
   "source": [
    "### Saving data for later use"
   ]
  },
  {
   "cell_type": "code",
   "execution_count": 59,
   "metadata": {},
   "outputs": [],
   "source": [
    "signature = 'data_collapse_alpha_{}_t_{}k'\n",
    "for time_t in data_dict.keys():\n",
    "    x,y = data_dict[time_t]\n",
    "    file_name = signature.format(alphap, int(time_t//1000))\n",
    "    np.savetxt(dir_data+file_name,np.c_[x,y])"
   ]
  },
  {
   "cell_type": "markdown",
   "metadata": {},
   "source": [
    "## Plotting"
   ]
  },
  {
   "cell_type": "code",
   "execution_count": 60,
   "metadata": {},
   "outputs": [
    {
     "name": "stdout",
     "output_type": "stream",
     "text": [
      "../../figures/temp/alpha2/pn_data_coll_alpha_3.pdf\n"
     ]
    },
    {
     "data": {
      "image/png": "[encoded data removed]",
      "text/plain": [
       "<Figure size 1500x1050 with 1 Axes>"
      ]
     },
     "metadata": {
      "needs_background": "light"
     },
     "output_type": "display_data"
    }
   ],
   "source": [
    "fig, axes = plt.subplots(1,1,figsize = (5,3.5),dpi = 300)\n",
    "\n",
    "for i in range(3):\n",
    "    time_t = min_iterationp*(i+1)\n",
    "    x,y = data_dict[time_t]\n",
    "    plt.plot(x, y,\"o\", markersize=1,label=r\"$t={}k$\".format(str(int(time_t//1000))))\n",
    "\n",
    "xi_th = np.linspace(0,1.7,8501)\n",
    "xis, phi_th = ana_soln.phi_list(alphap,probp,xi_th)  # from class\n",
    "plt.plot(xi_th, phi_th,color='black',linewidth=0.5)\n",
    "\n",
    "plt.legend(loc=1)\n",
    "plt.xlabel(r\"$x/t^{1/z}$\")\n",
    "plt.ylabel(r\"$c(x,t)/t^\\theta$\")\n",
    "plt.xlim([0, 1.75])\n",
    "axes.set_position([0.15, 0.15, 0.8, 0.8])\n",
    "\n",
    "print(figure_name)\n",
    "# plt.savefig(figure_name)"
   ]
  },
  {
   "cell_type": "code",
   "execution_count": null,
   "metadata": {},
   "outputs": [],
   "source": []
  },
  {
   "cell_type": "code",
   "execution_count": null,
   "metadata": {},
   "outputs": [],
   "source": []
  }
 ],
 "metadata": {
  "kernelspec": {
   "display_name": "Python 3",
   "language": "python",
   "name": "python3"
  },
  "language_info": {
   "codemirror_mode": {
    "name": "ipython",
    "version": 3
   },
   "file_extension": ".py",
   "mimetype": "text/x-python",
   "name": "python",
   "nbconvert_exporter": "python",
   "pygments_lexer": "ipython3",
   "version": "3.8.3"
  }
 },
 "nbformat": 4,
 "nbformat_minor": 4
}
