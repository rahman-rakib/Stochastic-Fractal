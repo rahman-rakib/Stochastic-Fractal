{
 "cells": [
  {
   "cell_type": "code",
   "execution_count": 1,
   "metadata": {},
   "outputs": [],
   "source": [
    "import random, numpy as np, pandas as pd\n",
    "from matplotlib import pyplot as plt\n",
    "import os"
   ]
  },
  {
   "cell_type": "markdown",
   "metadata": {},
   "source": [
    "## Loagind the class module"
   ]
  },
  {
   "cell_type": "code",
   "execution_count": 2,
   "metadata": {},
   "outputs": [],
   "source": [
    "%run ../stochastic_fractal_m.py"
   ]
  },
  {
   "cell_type": "markdown",
   "metadata": {},
   "source": [
    "### User can change these values"
   ]
  },
  {
   "cell_type": "code",
   "execution_count": 10,
   "metadata": {},
   "outputs": [],
   "source": [
    "alphap = 3\n",
    "probp = 0.75\n",
    "\n",
    "total_iterationp = 1000*1000\n",
    "min_iterationp  = 1000*100\n",
    "iteration_stepp = 1000 * 50\n",
    "\n",
    "ensemble_sizep = 10000\n",
    "\n",
    "\n",
    "# slope = 0.78835\n"
   ]
  },
  {
   "cell_type": "code",
   "execution_count": 11,
   "metadata": {},
   "outputs": [],
   "source": [
    "expon = 2 * alphap - 1"
   ]
  },
  {
   "cell_type": "markdown",
   "metadata": {},
   "source": [
    "## Directory"
   ]
  },
  {
   "cell_type": "code",
   "execution_count": 12,
   "metadata": {},
   "outputs": [
    {
     "name": "stdout",
     "output_type": "stream",
     "text": [
      "directory exists\n",
      "directory exists\n",
      "../data/temp/alpha3/Mdf_alpha_3_p_0_75\n"
     ]
    }
   ],
   "source": [
    "dir_data = \"../data/alpha{}/\".format(alphap)\n",
    "dir_fig = \"../figures/alpha{}/\".format(alphap)\n",
    "\n",
    "##for testing\n",
    "dir_data = \"../data/temp/alpha{}/\".format(alphap)\n",
    "dir_fig = \"../figures/temp/alpha{}/\".format(alphap)\n",
    "\n",
    "\n",
    "for dir_name in [dir_data, dir_fig]:\n",
    "    if not os.path.exists(dir_name):\n",
    "        os.mkdir(dir_name)\n",
    "        print(\"directory created\")\n",
    "        pass\n",
    "    else:\n",
    "        print(\"directory exists\")\n",
    "        pass\n",
    "\n",
    "\n",
    "filename_out_data = dir_data+\"Mdf_alpha_{}_p_0_{:2}\".format(alphap, int(probp*100))\n",
    "filename_figure = dir_fig+\"conservation_alpha_{}.pdf\".format(alphap)\n",
    "print(filename_out_data)"
   ]
  },
  {
   "cell_type": "markdown",
   "metadata": {},
   "source": [
    "## Simulation"
   ]
  },
  {
   "cell_type": "code",
   "execution_count": 13,
   "metadata": {
    "scrolled": true
   },
   "outputs": [
    {
     "name": "stdout",
     "output_type": "stream",
     "text": [
      "kwargs  {'alpha': 3, 'probability': 0.75}\n",
      "Key 'fractal_dim' or 'exponent' not found!\n",
      "Theoretical value is used. df =  0.788345\n",
      "realization  20  . Time spent  2.0140480995178223  sec\n",
      "realization  40  . Time spent  2.046877861022949  sec\n",
      "realization  60  . Time spent  2.034640312194824  sec\n",
      "realization  80  . Time spent  2.051703453063965  sec\n",
      "realization  100  . Time spent  2.160365581512451  sec\n",
      "realization  120  . Time spent  2.071040630340576  sec\n",
      "realization  140  . Time spent  2.0599024295806885  sec\n",
      "realization  160  . Time spent  2.151611089706421  sec\n",
      "realization  180  . Time spent  2.0923242568969727  sec\n",
      "realization  200  . Time spent  2.170978546142578  sec\n",
      "realization  220  . Time spent  2.1196181774139404  sec\n",
      "realization  240  . Time spent  2.0469624996185303  sec\n",
      "realization  260  . Time spent  2.031740188598633  sec\n",
      "realization  280  . Time spent  2.05997896194458  sec\n",
      "realization  300  . Time spent  2.0358340740203857  sec\n",
      "realization  320  . Time spent  2.016334295272827  sec\n",
      "realization  340  . Time spent  2.0102949142456055  sec\n",
      "realization  360  . Time spent  2.0265965461730957  sec\n",
      "realization  380  . Time spent  2.0927793979644775  sec\n",
      "realization  400  . Time spent  2.042327404022217  sec\n",
      "realization  420  . Time spent  1.9992218017578125  sec\n",
      "realization  440  . Time spent  2.076117515563965  sec\n",
      "realization  460  . Time spent  2.054325580596924  sec\n",
      "realization  480  . Time spent  1.9836223125457764  sec\n",
      "realization  500  . Time spent  2.13145112991333  sec\n",
      "realization  520  . Time spent  2.0253801345825195  sec\n",
      "realization  540  . Time spent  2.039010524749756  sec\n",
      "realization  560  . Time spent  1.9873473644256592  sec\n",
      "realization  580  . Time spent  1.993886947631836  sec\n",
      "realization  600  . Time spent  1.9837474822998047  sec\n",
      "realization  620  . Time spent  1.9773778915405273  sec\n",
      "realization  640  . Time spent  2.0165746212005615  sec\n",
      "realization  660  . Time spent  2.0288734436035156  sec\n",
      "realization  680  . Time spent  1.9930219650268555  sec\n",
      "realization  700  . Time spent  2.00002384185791  sec\n",
      "realization  720  . Time spent  1.9797296524047852  sec\n",
      "realization  740  . Time spent  1.9804115295410156  sec\n",
      "realization  760  . Time spent  1.9926893711090088  sec\n",
      "realization  780  . Time spent  2.068572521209717  sec\n",
      "realization  800  . Time spent  2.0044960975646973  sec\n",
      "realization  820  . Time spent  1.9821629524230957  sec\n",
      "realization  840  . Time spent  2.0078701972961426  sec\n",
      "realization  860  . Time spent  2.000697612762451  sec\n",
      "realization  880  . Time spent  1.9959690570831299  sec\n",
      "realization  900  . Time spent  1.99057936668396  sec\n",
      "realization  920  . Time spent  2.021322250366211  sec\n",
      "realization  940  . Time spent  2.0089950561523438  sec\n",
      "realization  960  . Time spent  1.9956302642822266  sec\n",
      "realization  980  . Time spent  2.0229005813598633  sec\n",
      "realization  1000  . Time spent  2.002770185470581  sec\n",
      "realization  1020  . Time spent  1.9899115562438965  sec\n",
      "realization  1040  . Time spent  1.9684643745422363  sec\n",
      "realization  1060  . Time spent  1.975888729095459  sec\n",
      "realization  1080  . Time spent  1.9858527183532715  sec\n",
      "realization  1100  . Time spent  2.0027379989624023  sec\n",
      "realization  1120  . Time spent  1.9881787300109863  sec\n",
      "realization  1140  . Time spent  1.9695260524749756  sec\n",
      "realization  1160  . Time spent  1.982734203338623  sec\n",
      "realization  1180  . Time spent  1.9940800666809082  sec\n",
      "realization  1200  . Time spent  1.9904162883758545  sec\n",
      "realization  1220  . Time spent  1.9815130233764648  sec\n",
      "realization  1240  . Time spent  2.0021934509277344  sec\n",
      "realization  1260  . Time spent  1.97318696975708  sec\n",
      "realization  1280  . Time spent  1.9883415699005127  sec\n",
      "realization  1300  . Time spent  1.9996051788330078  sec\n",
      "realization  1320  . Time spent  1.9902493953704834  sec\n",
      "realization  1340  . Time spent  1.9817695617675781  sec\n",
      "realization  1360  . Time spent  1.9844388961791992  sec\n",
      "realization  1380  . Time spent  2.009671449661255  sec\n",
      "realization  1400  . Time spent  1.9804391860961914  sec\n",
      "realization  1420  . Time spent  1.9766731262207031  sec\n",
      "realization  1440  . Time spent  1.9998090267181396  sec\n",
      "realization  1460  . Time spent  1.9836225509643555  sec\n",
      "realization  1480  . Time spent  1.976365089416504  sec\n",
      "realization  1500  . Time spent  1.982468843460083  sec\n",
      "realization  1520  . Time spent  1.970278024673462  sec\n",
      "realization  1540  . Time spent  1.9812593460083008  sec\n",
      "realization  1560  . Time spent  1.9734933376312256  sec\n",
      "realization  1580  . Time spent  2.0075833797454834  sec\n",
      "realization  1600  . Time spent  1.9773004055023193  sec\n",
      "realization  1620  . Time spent  1.9994380474090576  sec\n",
      "realization  1640  . Time spent  2.00105881690979  sec\n",
      "realization  1660  . Time spent  2.0009734630584717  sec\n",
      "realization  1680  . Time spent  2.014521598815918  sec\n",
      "realization  1700  . Time spent  2.002213954925537  sec\n",
      "realization  1720  . Time spent  1.9863569736480713  sec\n",
      "realization  1740  . Time spent  2.016655206680298  sec\n",
      "realization  1760  . Time spent  1.997514247894287  sec\n",
      "realization  1780  . Time spent  2.036771535873413  sec\n",
      "realization  1800  . Time spent  2.000643730163574  sec\n",
      "realization  1820  . Time spent  1.9744632244110107  sec\n",
      "realization  1840  . Time spent  1.9974427223205566  sec\n",
      "realization  1860  . Time spent  1.9768543243408203  sec\n",
      "realization  1880  . Time spent  1.9847586154937744  sec\n",
      "realization  1900  . Time spent  1.96913480758667  sec\n",
      "realization  1920  . Time spent  1.9998257160186768  sec\n",
      "realization  1940  . Time spent  1.9937224388122559  sec\n",
      "realization  1960  . Time spent  2.0205345153808594  sec\n",
      "realization  1980  . Time spent  2.0624940395355225  sec\n",
      "realization  2000  . Time spent  2.0301055908203125  sec\n",
      "Total time spent  201.35327529907227  sec\n"
     ]
    }
   ],
   "source": [
    "sf_moment = Moment(alpha=alphap, probability=probp)\n",
    "sf_moment.log(True)\n",
    "Mdf_list = sf_moment.run_ensemble(ensemble_sizep, total_iterationp, min_iterationp, iteration_stepp)\n",
    "Mdf_avg = np.average(Mdf_list)"
   ]
  },
  {
   "cell_type": "code",
   "execution_count": 14,
   "metadata": {},
   "outputs": [
    {
     "name": "stdout",
     "output_type": "stream",
     "text": [
      "(19,)\n",
      "(19,)\n"
     ]
    }
   ],
   "source": [
    "time_list = np.arange(min_iterationp, total_iterationp+1, iteration_stepp)\n",
    "print(time_list.shape)\n",
    "print(Mdf_list.shape)"
   ]
  },
  {
   "cell_type": "code",
   "execution_count": 15,
   "metadata": {},
   "outputs": [
    {
     "name": "stdout",
     "output_type": "stream",
     "text": [
      "{\"alpha\": 3, \"probability\": 0.75, \"ensemble_size\": 2000, \"total_iteraion\": 100000, \"Mdf_avg\": \"1.013520\", \"cols\": [\"t\", \"M_df\"]}\n"
     ]
    }
   ],
   "source": [
    "import json\n",
    "\n",
    "header = dict()\n",
    "header['alpha'] = alphap\n",
    "header['probability'] = probp\n",
    "header['ensemble_size'] = ensemble_sizep\n",
    "header['total_iteraion'] = total_iterationp\n",
    "header['Mdf_avg']= \"{:6f}\".format(Mdf_avg)\n",
    "header['cols'] = [\"t\", \"M_df\"]\n",
    "\n",
    "header_str = json.dumps(header)\n",
    "print(header_str)\n",
    "\n",
    "# np.savetxt(filename_out_data, np.c_[time_list, Mdf_list], header=header_str)"
   ]
  },
  {
   "cell_type": "code",
   "execution_count": 17,
   "metadata": {
    "scrolled": false
   },
   "outputs": [
    {
     "name": "stdout",
     "output_type": "stream",
     "text": [
      "../figures/temp/alpha3/conservation_alpha_3.pdf\n"
     ]
    },
    {
     "data": {
      "image/png": "[encoded data removed]",
      "text/plain": [
       "<Figure size 1500x1050 with 1 Axes>"
      ]
     },
     "metadata": {
      "needs_background": "light"
     },
     "output_type": "display_data"
    }
   ],
   "source": [
    "from matplotlib import ticker\n",
    "\n",
    "fig, axes = plt.subplots(1,1,figsize = (5,3.5),dpi = 300)\n",
    "plt.plot(time_list, 0*time_list+Mdf_avg, label=r\"$\\langle M_{d_f}\\rangle=$\"+\"{:.5f}\".format(Mdf_avg), color='tab:blue')\n",
    "plt.plot(time_list, Mdf_list, \"o\", color='tab:orange', markersize=4)\n",
    "plt.legend(loc=2)\n",
    "plt.xlabel(r\"$t$\")\n",
    "plt.ylabel(r\"$M_{d_f}$\")\n",
    "plt.ylim([0.6, 1.4])\n",
    "axes.set_position([0.15,0.15,0.75,0.75])\n",
    "\n",
    "formatter = ticker.ScalarFormatter(useMathText=True)\n",
    "formatter.set_scientific(True) \n",
    "formatter.set_powerlimits((-1,1)) \n",
    "axes.xaxis.set_major_formatter(formatter) \n",
    "\n",
    "print(filename_figure)\n",
    "# plt.savefig(filename_figure)"
   ]
  },
  {
   "cell_type": "code",
   "execution_count": null,
   "metadata": {},
   "outputs": [],
   "source": []
  },
  {
   "cell_type": "code",
   "execution_count": null,
   "metadata": {},
   "outputs": [],
   "source": []
  }
 ],
 "metadata": {
  "kernelspec": {
   "display_name": "Python 3",
   "language": "python",
   "name": "python3"
  },
  "language_info": {
   "codemirror_mode": {
    "name": "ipython",
    "version": 3
   },
   "file_extension": ".py",
   "mimetype": "text/x-python",
   "name": "python",
   "nbconvert_exporter": "python",
   "pygments_lexer": "ipython3",
   "version": "3.8.3"
  }
 },
 "nbformat": 4,
 "nbformat_minor": 4
}
