{
 "cells": [
  {
   "cell_type": "code",
   "execution_count": 1,
   "metadata": {},
   "outputs": [],
   "source": [
    "import numpy as np\n",
    "import matplotlib.pyplot as plt\n",
    "import json"
   ]
  },
  {
   "cell_type": "markdown",
   "metadata": {},
   "source": [
    "## p=0.5"
   ]
  },
  {
   "cell_type": "code",
   "execution_count": 2,
   "metadata": {},
   "outputs": [],
   "source": [
    "Navg = np.array([4.94444, 5.17582, 5.34482, 5.4758 , 5.58994, 5.687  , 5.77324,\n",
    "       5.85024, 5.91932, 5.98312, 6.04258, 6.09692, 6.14604, 6.1911 ,\n",
    "       6.23688, 6.2795 , 6.31864, 6.3578 , 6.39394])\n",
    "Mavg = np.array([0.28795302, 0.27782184, 0.27093577, 0.26560948, 0.26131252,\n",
    "       0.25772299, 0.25472872, 0.25208829, 0.24975449, 0.24773725,\n",
    "       0.24584894, 0.24415717, 0.24255834, 0.24102139, 0.23964153,\n",
    "       0.23835848, 0.23713529, 0.23598023, 0.23484956])"
   ]
  },
  {
   "cell_type": "code",
   "execution_count": 3,
   "metadata": {},
   "outputs": [
    {
     "name": "stdout",
     "output_type": "stream",
     "text": [
      "{\"alpha\": 3, \"probability\": 0.5, \"ensemble_size\": 50000, \"total_time_iteraion\": 1000000, \"cols\": [\"t\", \"N\", \"M\"]}\n"
     ]
    }
   ],
   "source": [
    "header = dict()\n",
    "header['alpha'] = 3\n",
    "header['probability'] = 0.5\n",
    "header['ensemble_size']=50000\n",
    "header['total_time_iteraion']=1000_000\n",
    "header['cols'] = [\"t\", \"N\", \"M\"]\n",
    "\n",
    "time_col = np.arange(100_000, 1000_000+50000, 50000)\n",
    "\n",
    "header_str = json.dumps(header)\n",
    "print(header_str)\n",
    "filename = \"fractal_dim_alpha_3_p_0_50\"\n",
    "np.savetxt(filename, np.c_[time_col, Navg, Mavg], header=header_str)"
   ]
  },
  {
   "cell_type": "code",
   "execution_count": 4,
   "metadata": {},
   "outputs": [],
   "source": [
    "time_col = np.arange(100_000, 1000_000, 50000)"
   ]
  },
  {
   "cell_type": "code",
   "execution_count": 5,
   "metadata": {},
   "outputs": [
    {
     "data": {
      "text/plain": [
       "array([100000, 150000, 200000, 250000, 300000, 350000, 400000, 450000,\n",
       "       500000, 550000, 600000, 650000, 700000, 750000, 800000, 850000,\n",
       "       900000, 950000])"
      ]
     },
     "execution_count": 5,
     "metadata": {},
     "output_type": "execute_result"
    }
   ],
   "source": [
    "time_col"
   ]
  },
  {
   "cell_type": "markdown",
   "metadata": {},
   "source": [
    "## p=0.75"
   ]
  },
  {
   "cell_type": "code",
   "execution_count": 6,
   "metadata": {},
   "outputs": [],
   "source": [
    "Navg = np.array([ 9.69124, 10.33366, 10.81472, 11.20096, 11.5312 , 11.81356,\n",
    "       12.0657 , 12.2907 , 12.49924, 12.6927 , 12.86864, 13.03368,\n",
    "       13.18952, 13.3335 , 13.47006, 13.5955 , 13.71642, 13.83046,\n",
    "       13.94208])\n",
    "Mavg = np.array([0.55605986, 0.54655451, 0.53995522, 0.53490652, 0.5307424 ,\n",
    "       0.52718614, 0.52419103, 0.52160572, 0.51931556, 0.51724067,\n",
    "       0.51536885, 0.51358454, 0.51197059, 0.51047723, 0.50907874,\n",
    "       0.50772832, 0.50651494, 0.50537126, 0.50430601])"
   ]
  },
  {
   "cell_type": "code",
   "execution_count": 7,
   "metadata": {},
   "outputs": [
    {
     "name": "stdout",
     "output_type": "stream",
     "text": [
      "{\"alpha\": 3, \"probability\": 0.75, \"ensemble_size\": 50000, \"total_time_iteraion\": 1000000, \"cols\": [\"t\", \"N\", \"M\"]}\n"
     ]
    }
   ],
   "source": [
    "header = dict()\n",
    "header['alpha'] = 3\n",
    "header['probability'] = 0.75\n",
    "header['ensemble_size']=50000\n",
    "header['total_time_iteraion']=1000_000\n",
    "header['cols'] = [\"t\", \"N\", \"M\"]\n",
    "\n",
    "time_col = np.arange(100_000, 1000_000+50000, 50000)\n",
    "\n",
    "header_str = json.dumps(header)\n",
    "print(header_str)\n",
    "filename = \"fractal_dim_alpha_3_p_0_75\"\n",
    "np.savetxt(filename, np.c_[time_col, Navg, Mavg], header=header_str)"
   ]
  },
  {
   "cell_type": "markdown",
   "metadata": {},
   "source": [
    "## p=0.25"
   ]
  },
  {
   "cell_type": "code",
   "execution_count": 8,
   "metadata": {},
   "outputs": [],
   "source": [
    "Navg = np.array([2.35434, 2.41252, 2.45346, 2.48548, 2.51204, 2.5361 , 2.55566,\n",
    "       2.57338, 2.59024, 2.6052 , 2.61826, 2.63016, 2.64152, 2.65228,\n",
    "       2.6622 , 2.67166, 2.6812 , 2.6894 , 2.69718])\n",
    "Mavg = np.array([0.13937042, 0.13162017, 0.12636012, 0.12240809, 0.11917799,\n",
    "       0.11655063, 0.11447047, 0.11260058, 0.11091158, 0.10945434,\n",
    "       0.10812541, 0.10693599, 0.10583521, 0.10484376, 0.10391722,\n",
    "       0.10306183, 0.10227415, 0.10149382, 0.10076547])"
   ]
  },
  {
   "cell_type": "code",
   "execution_count": 9,
   "metadata": {},
   "outputs": [
    {
     "name": "stdout",
     "output_type": "stream",
     "text": [
      "{\"alpha\": 3, \"probability\": 0.25, \"ensemble_size\": 50000, \"total_time_iteraion\": 1000000, \"cols\": [\"t\", \"N\", \"M\"]}\n"
     ]
    }
   ],
   "source": [
    "header = dict()\n",
    "header['alpha'] = 3\n",
    "header['probability'] = 0.25\n",
    "header['ensemble_size']=50000\n",
    "header['total_time_iteraion']=1000_000\n",
    "header['cols'] = [\"t\", \"N\", \"M\"]\n",
    "\n",
    "time_col = np.arange(100_000, 1000_000+50000, 50000)\n",
    "\n",
    "header_str = json.dumps(header)\n",
    "print(header_str)\n",
    "filename = \"fractal_dim_alpha_3_p_0_25\"\n",
    "np.savetxt(filename, np.c_[time_col, Navg, Mavg], header=header_str)"
   ]
  },
  {
   "cell_type": "markdown",
   "metadata": {},
   "source": [
    "## Plotting"
   ]
  },
  {
   "cell_type": "code",
   "execution_count": 10,
   "metadata": {},
   "outputs": [],
   "source": [
    "import glob\n",
    "files = glob.glob(\"fractal_dim_*\")"
   ]
  },
  {
   "cell_type": "code",
   "execution_count": 11,
   "metadata": {},
   "outputs": [
    {
     "data": {
      "text/plain": [
       "['fractal_dim_alpha_3_p_0_75',\n",
       " 'fractal_dim_df.ipynb',\n",
       " 'fractal_dim_alpha_3_p_0_25',\n",
       " 'fractal_dim_alpha_3_p_0_50']"
      ]
     },
     "execution_count": 11,
     "metadata": {},
     "output_type": "execute_result"
    }
   ],
   "source": [
    "files"
   ]
  },
  {
   "cell_type": "code",
   "execution_count": 12,
   "metadata": {},
   "outputs": [],
   "source": [
    "def convert_to_plot(N1_average, M1_average):\n",
    "    N1_log = np.log(N1_average)\n",
    "    minus_delta1_log = N1_log - np.log(M1_average)\n",
    "    slope, intercept = np.polyfit(minus_delta1_log, N1_log, 1)\n",
    "    return minus_delta1_log, N1_log, slope, intercept"
   ]
  },
  {
   "cell_type": "code",
   "execution_count": 13,
   "metadata": {},
   "outputs": [
    {
     "ename": "JSONDecodeError",
     "evalue": "Expecting value: line 2 column 1 (char 1)",
     "output_type": "error",
     "traceback": [
      "\u001b[0;31m---------------------------------------------------------------------------\u001b[0m",
      "\u001b[0;31mJSONDecodeError\u001b[0m                           Traceback (most recent call last)",
      "\u001b[0;32m<ipython-input-13-3ea97f509035>\u001b[0m in \u001b[0;36m<module>\u001b[0;34m\u001b[0m\n\u001b[1;32m      6\u001b[0m     \u001b[0;32mwith\u001b[0m \u001b[0mopen\u001b[0m\u001b[0;34m(\u001b[0m\u001b[0mfile\u001b[0m\u001b[0;34m)\u001b[0m \u001b[0;32mas\u001b[0m \u001b[0mf\u001b[0m\u001b[0;34m:\u001b[0m\u001b[0;34m\u001b[0m\u001b[0;34m\u001b[0m\u001b[0m\n\u001b[1;32m      7\u001b[0m         \u001b[0mline\u001b[0m \u001b[0;34m=\u001b[0m \u001b[0mf\u001b[0m\u001b[0;34m.\u001b[0m\u001b[0mreadline\u001b[0m\u001b[0;34m(\u001b[0m\u001b[0;34m)\u001b[0m\u001b[0;34m\u001b[0m\u001b[0;34m\u001b[0m\u001b[0m\n\u001b[0;32m----> 8\u001b[0;31m         \u001b[0mhead\u001b[0m \u001b[0;34m=\u001b[0m \u001b[0mjson\u001b[0m\u001b[0;34m.\u001b[0m\u001b[0mloads\u001b[0m\u001b[0;34m(\u001b[0m\u001b[0mline\u001b[0m\u001b[0;34m[\u001b[0m\u001b[0;36m1\u001b[0m\u001b[0;34m:\u001b[0m\u001b[0;34m]\u001b[0m\u001b[0;34m)\u001b[0m\u001b[0;34m\u001b[0m\u001b[0;34m\u001b[0m\u001b[0m\n\u001b[0m\u001b[1;32m      9\u001b[0m         \u001b[0mp\u001b[0m \u001b[0;34m=\u001b[0m \u001b[0mhead\u001b[0m\u001b[0;34m[\u001b[0m\u001b[0;34m'probability'\u001b[0m\u001b[0;34m]\u001b[0m\u001b[0;34m\u001b[0m\u001b[0;34m\u001b[0m\u001b[0m\n\u001b[1;32m     10\u001b[0m         \u001b[0;32mpass\u001b[0m\u001b[0;34m\u001b[0m\u001b[0;34m\u001b[0m\u001b[0m\n",
      "\u001b[0;32m~/anaconda3/lib/python3.7/json/__init__.py\u001b[0m in \u001b[0;36mloads\u001b[0;34m(s, encoding, cls, object_hook, parse_float, parse_int, parse_constant, object_pairs_hook, **kw)\u001b[0m\n\u001b[1;32m    346\u001b[0m             \u001b[0mparse_int\u001b[0m \u001b[0;32mis\u001b[0m \u001b[0;32mNone\u001b[0m \u001b[0;32mand\u001b[0m \u001b[0mparse_float\u001b[0m \u001b[0;32mis\u001b[0m \u001b[0;32mNone\u001b[0m \u001b[0;32mand\u001b[0m\u001b[0;34m\u001b[0m\u001b[0;34m\u001b[0m\u001b[0m\n\u001b[1;32m    347\u001b[0m             parse_constant is None and object_pairs_hook is None and not kw):\n\u001b[0;32m--> 348\u001b[0;31m         \u001b[0;32mreturn\u001b[0m \u001b[0m_default_decoder\u001b[0m\u001b[0;34m.\u001b[0m\u001b[0mdecode\u001b[0m\u001b[0;34m(\u001b[0m\u001b[0ms\u001b[0m\u001b[0;34m)\u001b[0m\u001b[0;34m\u001b[0m\u001b[0;34m\u001b[0m\u001b[0m\n\u001b[0m\u001b[1;32m    349\u001b[0m     \u001b[0;32mif\u001b[0m \u001b[0mcls\u001b[0m \u001b[0;32mis\u001b[0m \u001b[0;32mNone\u001b[0m\u001b[0;34m:\u001b[0m\u001b[0;34m\u001b[0m\u001b[0;34m\u001b[0m\u001b[0m\n\u001b[1;32m    350\u001b[0m         \u001b[0mcls\u001b[0m \u001b[0;34m=\u001b[0m \u001b[0mJSONDecoder\u001b[0m\u001b[0;34m\u001b[0m\u001b[0;34m\u001b[0m\u001b[0m\n",
      "\u001b[0;32m~/anaconda3/lib/python3.7/json/decoder.py\u001b[0m in \u001b[0;36mdecode\u001b[0;34m(self, s, _w)\u001b[0m\n\u001b[1;32m    335\u001b[0m \u001b[0;34m\u001b[0m\u001b[0m\n\u001b[1;32m    336\u001b[0m         \"\"\"\n\u001b[0;32m--> 337\u001b[0;31m         \u001b[0mobj\u001b[0m\u001b[0;34m,\u001b[0m \u001b[0mend\u001b[0m \u001b[0;34m=\u001b[0m \u001b[0mself\u001b[0m\u001b[0;34m.\u001b[0m\u001b[0mraw_decode\u001b[0m\u001b[0;34m(\u001b[0m\u001b[0ms\u001b[0m\u001b[0;34m,\u001b[0m \u001b[0midx\u001b[0m\u001b[0;34m=\u001b[0m\u001b[0m_w\u001b[0m\u001b[0;34m(\u001b[0m\u001b[0ms\u001b[0m\u001b[0;34m,\u001b[0m \u001b[0;36m0\u001b[0m\u001b[0;34m)\u001b[0m\u001b[0;34m.\u001b[0m\u001b[0mend\u001b[0m\u001b[0;34m(\u001b[0m\u001b[0;34m)\u001b[0m\u001b[0;34m)\u001b[0m\u001b[0;34m\u001b[0m\u001b[0;34m\u001b[0m\u001b[0m\n\u001b[0m\u001b[1;32m    338\u001b[0m         \u001b[0mend\u001b[0m \u001b[0;34m=\u001b[0m \u001b[0m_w\u001b[0m\u001b[0;34m(\u001b[0m\u001b[0ms\u001b[0m\u001b[0;34m,\u001b[0m \u001b[0mend\u001b[0m\u001b[0;34m)\u001b[0m\u001b[0;34m.\u001b[0m\u001b[0mend\u001b[0m\u001b[0;34m(\u001b[0m\u001b[0;34m)\u001b[0m\u001b[0;34m\u001b[0m\u001b[0;34m\u001b[0m\u001b[0m\n\u001b[1;32m    339\u001b[0m         \u001b[0;32mif\u001b[0m \u001b[0mend\u001b[0m \u001b[0;34m!=\u001b[0m \u001b[0mlen\u001b[0m\u001b[0;34m(\u001b[0m\u001b[0ms\u001b[0m\u001b[0;34m)\u001b[0m\u001b[0;34m:\u001b[0m\u001b[0;34m\u001b[0m\u001b[0;34m\u001b[0m\u001b[0m\n",
      "\u001b[0;32m~/anaconda3/lib/python3.7/json/decoder.py\u001b[0m in \u001b[0;36mraw_decode\u001b[0;34m(self, s, idx)\u001b[0m\n\u001b[1;32m    353\u001b[0m             \u001b[0mobj\u001b[0m\u001b[0;34m,\u001b[0m \u001b[0mend\u001b[0m \u001b[0;34m=\u001b[0m \u001b[0mself\u001b[0m\u001b[0;34m.\u001b[0m\u001b[0mscan_once\u001b[0m\u001b[0;34m(\u001b[0m\u001b[0ms\u001b[0m\u001b[0;34m,\u001b[0m \u001b[0midx\u001b[0m\u001b[0;34m)\u001b[0m\u001b[0;34m\u001b[0m\u001b[0;34m\u001b[0m\u001b[0m\n\u001b[1;32m    354\u001b[0m         \u001b[0;32mexcept\u001b[0m \u001b[0mStopIteration\u001b[0m \u001b[0;32mas\u001b[0m \u001b[0merr\u001b[0m\u001b[0;34m:\u001b[0m\u001b[0;34m\u001b[0m\u001b[0;34m\u001b[0m\u001b[0m\n\u001b[0;32m--> 355\u001b[0;31m             \u001b[0;32mraise\u001b[0m \u001b[0mJSONDecodeError\u001b[0m\u001b[0;34m(\u001b[0m\u001b[0;34m\"Expecting value\"\u001b[0m\u001b[0;34m,\u001b[0m \u001b[0ms\u001b[0m\u001b[0;34m,\u001b[0m \u001b[0merr\u001b[0m\u001b[0;34m.\u001b[0m\u001b[0mvalue\u001b[0m\u001b[0;34m)\u001b[0m \u001b[0;32mfrom\u001b[0m \u001b[0;32mNone\u001b[0m\u001b[0;34m\u001b[0m\u001b[0;34m\u001b[0m\u001b[0m\n\u001b[0m\u001b[1;32m    356\u001b[0m         \u001b[0;32mreturn\u001b[0m \u001b[0mobj\u001b[0m\u001b[0;34m,\u001b[0m \u001b[0mend\u001b[0m\u001b[0;34m\u001b[0m\u001b[0;34m\u001b[0m\u001b[0m\n",
      "\u001b[0;31mJSONDecodeError\u001b[0m: Expecting value: line 2 column 1 (char 1)"
     ]
    }
   ],
   "source": [
    "#fig, ax = plt.subplots(1, 1, figsize=(5, 3.5), dpi=300)\n",
    "colors = ['tab:blue', 'tab:orange', 'tab:green']\n",
    "i = 0\n",
    "data_dct = dict()\n",
    "for file in files:\n",
    "    with open(file) as f:\n",
    "        line = f.readline()\n",
    "        head = json.loads(line[1:])\n",
    "        p = head['probability']\n",
    "        pass\n",
    "    data = np.loadtxt(file)\n",
    "    data_dct[p] = data\n",
    "    t, N, M = data.T\n",
    "    x, y, slope, intercept = convert_to_plot(N, M)\n",
    "    #plt.plot(x, y, 'o', color=colors[i], markersize=4)\n",
    "    #plt.plot(x, x*slope + intercept, label=\"p={}\".format(p),  color=colors[i])\n",
    "    i += 1\n",
    "    pass\n",
    "# plt.legend()\n",
    "# plt.xlabel(\"\")\n",
    "# plt.ylabel(\"\")"
   ]
  },
  {
   "cell_type": "code",
   "execution_count": null,
   "metadata": {},
   "outputs": [],
   "source": [
    "fig, ax = plt.subplots(1, 1, figsize=(5, 3.5), dpi=300)\n",
    "probabilities = [0.25, 0.5, 0.75]\n",
    "i = 0\n",
    "for p in probabilities:\n",
    "    data = data_dct[p]\n",
    "    t, N, M = data.T\n",
    "    x, y, slope, intercept = convert_to_plot(N, M)\n",
    "    plt.plot(x, y, 'o', color=colors[i], markersize=4)\n",
    "    plt.plot(x, x*slope + intercept, label=r\"$p={:.2f}: slope={:.5f}$\".format(p, slope),  color=colors[i])\n",
    "    i += 1\n",
    "    pass\n",
    "# plt.legend(loc='best', bbox_to_anchor=(0.5, 0.05, 0.5, 0.5))\n",
    "plt.legend(loc=2)\n",
    "plt.xlabel(r\"$-\\ln \\delta$\")\n",
    "plt.ylabel(r\"$\\ln N$\")\n",
    "plt.ylim([0.5, 3])\n",
    "ax.set_position([0.15, 0.15, 0.8, 0.8])\n",
    "plt.savefig(\"fractal_dim_alpha_3.pdf\")"
   ]
  },
  {
   "cell_type": "code",
   "execution_count": null,
   "metadata": {},
   "outputs": [],
   "source": []
  }
 ],
 "metadata": {
  "kernelspec": {
   "display_name": "Python 3",
   "language": "python",
   "name": "python3"
  },
  "language_info": {
   "codemirror_mode": {
    "name": "ipython",
    "version": 3
   },
   "file_extension": ".py",
   "mimetype": "text/x-python",
   "name": "python",
   "nbconvert_exporter": "python",
   "pygments_lexer": "ipython3",
   "version": "3.7.6"
  }
 },
 "nbformat": 4,
 "nbformat_minor": 4
}
