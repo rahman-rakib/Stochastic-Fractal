{
 "cells": [
  {
   "cell_type": "markdown",
   "metadata": {},
   "source": [
    "# Temp"
   ]
  },
  {
   "cell_type": "code",
   "execution_count": 1,
   "metadata": {},
   "outputs": [],
   "source": [
    "import random, numpy as np, pandas as pd\n",
    "from matplotlib import pyplot as plt\n",
    "import seaborn as sns\n",
    "import scipy.stats as stats\n",
    "import os"
   ]
  },
  {
   "cell_type": "code",
   "execution_count": 2,
   "metadata": {},
   "outputs": [],
   "source": [
    "%run ../../stochastic_fractal_m.py"
   ]
  },
  {
   "cell_type": "code",
   "execution_count": 3,
   "metadata": {},
   "outputs": [],
   "source": [
    "alphap = 2\n",
    "probp = 0.75"
   ]
  },
  {
   "cell_type": "code",
   "execution_count": 29,
   "metadata": {},
   "outputs": [],
   "source": [
    "ensemble_size = 500*1\n",
    "time_iteration = 1000*100\n",
    "min_iteration = 1000*10\n",
    "\n",
    "# number_of_points = 21\n",
    "\n",
    "iteration_step = 5000"
   ]
  },
  {
   "cell_type": "markdown",
   "metadata": {},
   "source": [
    "## Directories"
   ]
  },
  {
   "cell_type": "code",
   "execution_count": 30,
   "metadata": {},
   "outputs": [
    {
     "name": "stdout",
     "output_type": "stream",
     "text": [
      "directory  ../../data/temp/alpha2/  exists\n",
      "directory  ../../figures/temp/alpha2/  exists\n",
      "../../data/temp/alpha2/fractal_dim_alpha_2_p_75\n"
     ]
    }
   ],
   "source": [
    "dir_data = \"../../data/alpha{}/\".format(alphap)\n",
    "dir_fig  =\"../../figures/alpha{}/\".format(alphap)\n",
    "\n",
    "\n",
    "## While testing\n",
    "dir_data = \"../../data/temp/alpha{}/\".format(alphap)\n",
    "dir_fig  =\"../../figures/temp/alpha{}/\".format(alphap)\n",
    "\n",
    "# create directory if it does not exists\n",
    "for dir_name in [dir_data, dir_fig]:\n",
    "    if not os.path.isdir(dir_name):\n",
    "        os.mkdir(dir_name)\n",
    "        print(\"directory \", dir_name, \" is created\")\n",
    "    else:\n",
    "        print(\"directory \", dir_name, \" exists\")\n",
    "    pass\n",
    "\n",
    "### Filename\n",
    "filename = \"fractal_dim_alpha_{}_p_{}\".format(alphap, int(probp*100))\n",
    "out_data_filename = dir_data +filename\n",
    "print(out_data_filename)"
   ]
  },
  {
   "cell_type": "code",
   "execution_count": 31,
   "metadata": {},
   "outputs": [
    {
     "name": "stdout",
     "output_type": "stream",
     "text": [
      "kwargs  {'alpha': 2, 'probability': 0.75}\n"
     ]
    }
   ],
   "source": [
    "sf_numberlength = NumberLength(alpha=alphap, probability=probp)\n",
    "sf_numberlength.log(True)"
   ]
  },
  {
   "cell_type": "code",
   "execution_count": 32,
   "metadata": {},
   "outputs": [
    {
     "data": {
      "text/plain": [
       "array([[17.        ,  0.46644586],\n",
       "       [19.        ,  0.46644586],\n",
       "       [21.        ,  0.46644586],\n",
       "       [24.        ,  0.46644586],\n",
       "       [25.        ,  0.46644586],\n",
       "       [26.        ,  0.46644586],\n",
       "       [26.        ,  0.46644586],\n",
       "       [26.        ,  0.46644586],\n",
       "       [27.        ,  0.46644586],\n",
       "       [27.        ,  0.46644586],\n",
       "       [29.        ,  0.46644586],\n",
       "       [30.        ,  0.46644586],\n",
       "       [32.        ,  0.46644586],\n",
       "       [32.        ,  0.46644586],\n",
       "       [32.        ,  0.45748169],\n",
       "       [32.        ,  0.45748169],\n",
       "       [33.        ,  0.45748169],\n",
       "       [33.        ,  0.45748169],\n",
       "       [34.        ,  0.44799201]])"
      ]
     },
     "execution_count": 32,
     "metadata": {},
     "output_type": "execute_result"
    }
   ],
   "source": [
    "sf_numberlength.run(time_iteration, min_iteration, iteration_step)"
   ]
  },
  {
   "cell_type": "code",
   "execution_count": null,
   "metadata": {},
   "outputs": [],
   "source": []
  },
  {
   "cell_type": "code",
   "execution_count": 33,
   "metadata": {},
   "outputs": [
    {
     "name": "stdout",
     "output_type": "stream",
     "text": [
      "realization  5  . Time spent  0.650658369064331  sec\n",
      "realization  10  . Time spent  0.6533751487731934  sec\n",
      "realization  15  . Time spent  0.6950154304504395  sec\n",
      "realization  20  . Time spent  0.7782754898071289  sec\n",
      "realization  25  . Time spent  0.6924326419830322  sec\n",
      "realization  30  . Time spent  0.7463524341583252  sec\n",
      "realization  35  . Time spent  0.7014780044555664  sec\n",
      "realization  40  . Time spent  0.613008975982666  sec\n",
      "realization  45  . Time spent  0.6966936588287354  sec\n",
      "realization  50  . Time spent  1.0340285301208496  sec\n",
      "realization  55  . Time spent  0.6355834007263184  sec\n",
      "realization  60  . Time spent  0.7088444232940674  sec\n",
      "realization  65  . Time spent  0.7526257038116455  sec\n",
      "realization  70  . Time spent  0.7323768138885498  sec\n",
      "realization  75  . Time spent  0.620657205581665  sec\n",
      "realization  80  . Time spent  0.7608067989349365  sec\n",
      "realization  85  . Time spent  0.9017274379730225  sec\n",
      "realization  90  . Time spent  0.7927360534667969  sec\n",
      "realization  95  . Time spent  0.651716947555542  sec\n",
      "realization  100  . Time spent  0.7090585231781006  sec\n",
      "realization  105  . Time spent  0.7877869606018066  sec\n",
      "realization  110  . Time spent  0.8459827899932861  sec\n",
      "realization  115  . Time spent  0.6391341686248779  sec\n",
      "realization  120  . Time spent  0.6446890830993652  sec\n",
      "realization  125  . Time spent  0.693462610244751  sec\n",
      "realization  130  . Time spent  0.7125544548034668  sec\n",
      "realization  135  . Time spent  0.7660441398620605  sec\n",
      "realization  140  . Time spent  0.844886064529419  sec\n",
      "realization  145  . Time spent  0.9616906642913818  sec\n",
      "realization  150  . Time spent  0.8422093391418457  sec\n",
      "realization  155  . Time spent  0.8036315441131592  sec\n",
      "realization  160  . Time spent  1.004704475402832  sec\n",
      "realization  165  . Time spent  0.9439859390258789  sec\n",
      "realization  170  . Time spent  0.6036019325256348  sec\n",
      "realization  175  . Time spent  0.6989879608154297  sec\n",
      "realization  180  . Time spent  0.6845126152038574  sec\n",
      "realization  185  . Time spent  0.6033601760864258  sec\n",
      "realization  190  . Time spent  0.6170382499694824  sec\n",
      "realization  195  . Time spent  0.7000174522399902  sec\n",
      "realization  200  . Time spent  0.7162182331085205  sec\n",
      "realization  205  . Time spent  0.6298296451568604  sec\n",
      "realization  210  . Time spent  0.738440752029419  sec\n",
      "realization  215  . Time spent  0.6694333553314209  sec\n",
      "realization  220  . Time spent  0.6910631656646729  sec\n",
      "realization  225  . Time spent  0.5999155044555664  sec\n",
      "realization  230  . Time spent  0.6731479167938232  sec\n",
      "realization  235  . Time spent  0.6463663578033447  sec\n",
      "realization  240  . Time spent  0.7610065937042236  sec\n",
      "realization  245  . Time spent  0.5919325351715088  sec\n",
      "realization  250  . Time spent  0.673008918762207  sec\n",
      "realization  255  . Time spent  0.638357400894165  sec\n",
      "realization  260  . Time spent  0.7340247631072998  sec\n",
      "realization  265  . Time spent  0.682532787322998  sec\n",
      "realization  270  . Time spent  0.6697545051574707  sec\n",
      "realization  275  . Time spent  0.6554169654846191  sec\n",
      "realization  280  . Time spent  0.5869970321655273  sec\n",
      "realization  285  . Time spent  0.6238346099853516  sec\n",
      "realization  290  . Time spent  0.6698517799377441  sec\n",
      "realization  295  . Time spent  0.7661046981811523  sec\n",
      "realization  300  . Time spent  0.623560905456543  sec\n",
      "realization  305  . Time spent  0.7761542797088623  sec\n",
      "realization  310  . Time spent  0.6176548004150391  sec\n",
      "realization  315  . Time spent  0.6506474018096924  sec\n",
      "realization  320  . Time spent  0.696796178817749  sec\n",
      "realization  325  . Time spent  0.6086099147796631  sec\n",
      "realization  330  . Time spent  0.5882806777954102  sec\n",
      "realization  335  . Time spent  0.6339976787567139  sec\n",
      "realization  340  . Time spent  0.7258460521697998  sec\n",
      "realization  345  . Time spent  0.7136423587799072  sec\n",
      "realization  350  . Time spent  0.6069765090942383  sec\n",
      "realization  355  . Time spent  0.6755001544952393  sec\n",
      "realization  360  . Time spent  0.6486408710479736  sec\n",
      "realization  365  . Time spent  0.7190217971801758  sec\n",
      "realization  370  . Time spent  0.7962610721588135  sec\n",
      "realization  375  . Time spent  0.6707510948181152  sec\n",
      "realization  380  . Time spent  0.647881269454956  sec\n",
      "realization  385  . Time spent  0.6806540489196777  sec\n",
      "realization  390  . Time spent  0.6593139171600342  sec\n",
      "realization  395  . Time spent  0.6658978462219238  sec\n",
      "realization  400  . Time spent  0.7772572040557861  sec\n",
      "realization  405  . Time spent  0.7262029647827148  sec\n",
      "realization  410  . Time spent  0.7084290981292725  sec\n",
      "realization  415  . Time spent  0.6819741725921631  sec\n",
      "realization  420  . Time spent  0.6474032402038574  sec\n",
      "realization  425  . Time spent  0.6753945350646973  sec\n",
      "realization  430  . Time spent  0.6089470386505127  sec\n",
      "realization  435  . Time spent  0.7113838195800781  sec\n",
      "realization  440  . Time spent  0.6234712600708008  sec\n",
      "realization  445  . Time spent  0.6770095825195312  sec\n",
      "realization  450  . Time spent  0.6248779296875  sec\n",
      "realization  455  . Time spent  0.6188020706176758  sec\n",
      "realization  460  . Time spent  0.6548728942871094  sec\n",
      "realization  465  . Time spent  0.7156167030334473  sec\n",
      "realization  470  . Time spent  0.6721668243408203  sec\n",
      "realization  475  . Time spent  0.6248140335083008  sec\n",
      "realization  480  . Time spent  0.6129593849182129  sec\n",
      "realization  485  . Time spent  0.621241569519043  sec\n",
      "realization  490  . Time spent  0.6547667980194092  sec\n",
      "realization  495  . Time spent  0.6124627590179443  sec\n",
      "realization  500  . Time spent  0.8110249042510986  sec\n",
      "Total time spent  69.84373044967651  sec\n"
     ]
    }
   ],
   "source": [
    "data = sf_numberlength.run_ensemble(ensemble_size, time_iteration, min_iteration, iteration_step)"
   ]
  },
  {
   "cell_type": "code",
   "execution_count": 34,
   "metadata": {},
   "outputs": [
    {
     "name": "stdout",
     "output_type": "stream",
     "text": [
      "estimated df(alpha, p)=  0.7797954654495325\n"
     ]
    },
    {
     "data": {
      "image/png": "[encoded data removed]",
      "text/plain": [
       "<Figure size 1000x700 with 1 Axes>"
      ]
     },
     "metadata": {
      "needs_background": "light"
     },
     "output_type": "display_data"
    }
   ],
   "source": [
    "fig, axes = plt.subplots(1,1,figsize = (5,3.5),dpi = 200)\n",
    "N1_average, M1_average = data.T\n",
    "N1_log = np.log(N1_average)\n",
    "minus_delta1_log = N1_log - np.log(M1_average)\n",
    "slope, intercept = np.polyfit(minus_delta1_log, N1_log, 1)\n",
    "print(\"estimated df(alpha, p)= \", slope)\n",
    "plt.plot(minus_delta1_log, N1_log, \"o\")\n",
    "plt.xlabel(r\"$-\\ln\\,\\delta$\")\n",
    "plt.ylabel(r\"$\\ln\\,N$\")\n",
    "axes.set_position([0.15,0.15,0.75,0.75])"
   ]
  },
  {
   "cell_type": "code",
   "execution_count": 35,
   "metadata": {},
   "outputs": [
    {
     "name": "stdout",
     "output_type": "stream",
     "text": [
      "estimated   df =  0.7797954654495325\n",
      "Theoritical df = 0.778719\n"
     ]
    }
   ],
   "source": [
    "print(\"estimated   df = \", slope)\n",
    "ana_soln = AnalyticSoln()\n",
    "print(\"Theoritical df =\", ana_soln.find_df(alphap, probp))"
   ]
  },
  {
   "cell_type": "code",
   "execution_count": 36,
   "metadata": {},
   "outputs": [
    {
     "data": {
      "text/plain": [
       "(19,)"
      ]
     },
     "execution_count": 36,
     "metadata": {},
     "output_type": "execute_result"
    }
   ],
   "source": [
    "N1_average.shape"
   ]
  },
  {
   "cell_type": "code",
   "execution_count": 37,
   "metadata": {},
   "outputs": [
    {
     "data": {
      "text/plain": [
       "array([17.512, 19.414, 20.942, 22.206, 23.264, 24.158, 24.994, 25.844,\n",
       "       26.626, 27.32 , 27.94 , 28.51 , 29.112, 29.574, 30.076, 30.524,\n",
       "       30.958, 31.406, 31.874])"
      ]
     },
     "execution_count": 37,
     "metadata": {},
     "output_type": "execute_result"
    }
   ],
   "source": [
    "N1_average"
   ]
  },
  {
   "cell_type": "code",
   "execution_count": 38,
   "metadata": {},
   "outputs": [
    {
     "data": {
      "text/plain": [
       "array([0.45576944, 0.440871  , 0.43079394, 0.42412104, 0.41854756,\n",
       "       0.4141443 , 0.40981481, 0.40647562, 0.40374624, 0.40097806,\n",
       "       0.39771461, 0.39556936, 0.39400903, 0.39188648, 0.39020118,\n",
       "       0.38822873, 0.38638636, 0.38495512, 0.38354497])"
      ]
     },
     "execution_count": 38,
     "metadata": {},
     "output_type": "execute_result"
    }
   ],
   "source": [
    "M1_average"
   ]
  },
  {
   "cell_type": "markdown",
   "metadata": {},
   "source": [
    "### Write data to file"
   ]
  },
  {
   "cell_type": "code",
   "execution_count": 39,
   "metadata": {},
   "outputs": [
    {
     "name": "stdout",
     "output_type": "stream",
     "text": [
      "{\"alpha\": 2, \"probability\": 0.75, \"ensemble_size\": 500, \"total_time_iteraion\": 100000, \"min_time_iteraion\": 10000, \"cols\": [\"t\", \"N\", \"M\"]}\n",
      "../../data/temp/alpha2/fractal_dim_alpha_2_p_75\n"
     ]
    }
   ],
   "source": [
    "header = dict()\n",
    "header['alpha'] = alphap\n",
    "header['probability'] = probp\n",
    "header['ensemble_size']=ensemble_size\n",
    "header['total_time_iteraion']=time_iteration\n",
    "header['min_time_iteraion']=min_iteration\n",
    "header['cols'] = [\"t\", \"N\", \"M\"]\n",
    "\n",
    "time_col = np.arange(min_iteration, time_iteration+1, iteration_step)\n",
    "\n",
    "header_str = json.dumps(header)\n",
    "print(header_str)\n",
    "print(out_data_filename)\n",
    "# np.savetxt(out_data_filename, np.c_[time_col, N1_average, M1_average], header=header_str)"
   ]
  },
  {
   "cell_type": "markdown",
   "metadata": {},
   "source": [
    "### plot $-\\ln \\delta$ vs $\\ln t$"
   ]
  },
  {
   "cell_type": "code",
   "execution_count": 40,
   "metadata": {},
   "outputs": [],
   "source": [
    "def convert_to_plot(N1_average, M1_average):\n",
    "    N1_log = np.log(N1_average)\n",
    "    minus_delta1_log = N1_log - np.log(M1_average)\n",
    "    slope, intercept = np.polyfit(minus_delta1_log, N1_log, 1)\n",
    "    return minus_delta1_log, N1_log, slope, intercept"
   ]
  },
  {
   "cell_type": "code",
   "execution_count": 42,
   "metadata": {},
   "outputs": [
    {
     "data": {
      "image/png": "[encoded data removed]",
      "text/plain": [
       "<Figure size 1500x1050 with 1 Axes>"
      ]
     },
     "metadata": {
      "needs_background": "light"
     },
     "output_type": "display_data"
    }
   ],
   "source": [
    "fig, ax = plt.subplots(1, 1, figsize=(5, 3.5), dpi=300)\n",
    "colors = ['tab:blue', 'tab:orange', 'tab:green']\n",
    "\n",
    "i = 0\n",
    "\n",
    "tt = np.arange(min_iteration, time_iteration+1, iteration_step)\n",
    "\n",
    "t, N, M =tt, N1_average, M1_average\n",
    "y, yyy, slope, intercept = convert_to_plot(N, M)\n",
    "log_t = np.log(t)\n",
    "\n",
    "regress = stats.linregress(log_t, y)\n",
    "plt.plot(log_t, y, 'o', color=colors[i], markersize=1.5)\n",
    "yyyyy = log_t*regress[0] + regress[1]\n",
    "plt.plot(log_t, yyyyy, label=r\"$p={:.2f}: slope={:.5f}$\".format(probp, regress[0]),  color=colors[i], linewidth=1)\n",
    "i += 1\n",
    "\n",
    "# plt.legend(loc='best', bbox_to_anchor=(0.5, 0.05, 0.5, 0.5))\n",
    "plt.legend(loc=2)\n",
    "plt.ylabel(r\"$-\\ln \\delta$\")\n",
    "plt.xlabel(r\"$\\ln t$\")\n",
    "# plt.ylim([0.5, 3])\n",
    "ax.set_position([0.15, 0.15, 0.8, 0.8])\n",
    "# print(fig_filename)\n",
    "# plt.savefig(fig_filename"
   ]
  },
  {
   "cell_type": "code",
   "execution_count": 17,
   "metadata": {},
   "outputs": [
    {
     "data": {
      "text/plain": [
       "(19,)"
      ]
     },
     "execution_count": 17,
     "metadata": {},
     "output_type": "execute_result"
    }
   ],
   "source": [
    "tt.shape"
   ]
  },
  {
   "cell_type": "code",
   "execution_count": null,
   "metadata": {},
   "outputs": [],
   "source": []
  },
  {
   "cell_type": "code",
   "execution_count": 18,
   "metadata": {},
   "outputs": [
    {
     "data": {
      "text/plain": [
       "array([ 1000,  1500,  2000,  2500,  3000,  3500,  4000,  4500,  5000,\n",
       "        5500,  6000,  6500,  7000,  7500,  8000,  8500,  9000,  9500,\n",
       "       10000])"
      ]
     },
     "execution_count": 18,
     "metadata": {},
     "output_type": "execute_result"
    }
   ],
   "source": [
    "np.arange(1000, 10000+5_00, 5_00)"
   ]
  },
  {
   "cell_type": "code",
   "execution_count": 19,
   "metadata": {},
   "outputs": [
    {
     "data": {
      "text/plain": [
       "array([ 1000.,  1500.,  2000.,  2500.,  3000.,  3500.,  4000.,  4500.,\n",
       "        5000.,  5500.,  6000.,  6500.,  7000.,  7500.,  8000.,  8500.,\n",
       "        9000.,  9500., 10000.])"
      ]
     },
     "execution_count": 19,
     "metadata": {},
     "output_type": "execute_result"
    }
   ],
   "source": [
    "np.linspace(1000, 10000, 19)"
   ]
  },
  {
   "cell_type": "code",
   "execution_count": null,
   "metadata": {},
   "outputs": [],
   "source": []
  },
  {
   "cell_type": "code",
   "execution_count": null,
   "metadata": {},
   "outputs": [],
   "source": []
  },
  {
   "cell_type": "code",
   "execution_count": null,
   "metadata": {},
   "outputs": [],
   "source": []
  },
  {
   "cell_type": "code",
   "execution_count": 20,
   "metadata": {},
   "outputs": [],
   "source": [
    "min_iteration = 1000\n",
    "time_iteration = 10000\n",
    "iteration_step = 500"
   ]
  },
  {
   "cell_type": "code",
   "execution_count": 21,
   "metadata": {},
   "outputs": [
    {
     "data": {
      "text/plain": [
       "[1000,\n",
       " 1500,\n",
       " 2000,\n",
       " 2500,\n",
       " 3000,\n",
       " 3500,\n",
       " 4000,\n",
       " 4500,\n",
       " 5000,\n",
       " 5500,\n",
       " 6000,\n",
       " 6500,\n",
       " 7000,\n",
       " 7500,\n",
       " 8000,\n",
       " 8500,\n",
       " 9000,\n",
       " 9500,\n",
       " 10000]"
      ]
     },
     "execution_count": 21,
     "metadata": {},
     "output_type": "execute_result"
    }
   ],
   "source": [
    "list(range(min_iteration, time_iteration + 1, iteration_step))"
   ]
  },
  {
   "cell_type": "code",
   "execution_count": 22,
   "metadata": {},
   "outputs": [
    {
     "data": {
      "text/plain": [
       "array([ 1000,  1500,  2000,  2500,  3000,  3500,  4000,  4500,  5000,\n",
       "        5500,  6000,  6500,  7000,  7500,  8000,  8500,  9000,  9500,\n",
       "       10000])"
      ]
     },
     "execution_count": 22,
     "metadata": {},
     "output_type": "execute_result"
    }
   ],
   "source": [
    "np.arange(min_iteration, time_iteration+1, iteration_step)"
   ]
  },
  {
   "cell_type": "code",
   "execution_count": 23,
   "metadata": {},
   "outputs": [
    {
     "data": {
      "text/plain": [
       "array([ 1000.,  1500.,  2000.,  2500.,  3000.,  3500.,  4000.,  4500.,\n",
       "        5000.,  5500.,  6000.,  6500.,  7000.,  7500.,  8000.,  8500.,\n",
       "        9000.,  9500., 10000.])"
      ]
     },
     "execution_count": 23,
     "metadata": {},
     "output_type": "execute_result"
    }
   ],
   "source": [
    "np.linspace(min_iteration, time_iteration, 19)"
   ]
  },
  {
   "cell_type": "code",
   "execution_count": 24,
   "metadata": {},
   "outputs": [],
   "source": [
    "time_iteration = 100\n",
    "min_iteration = 10\n",
    "\n",
    "\n",
    "number_of_points = 11\n",
    "iteration_step = 9"
   ]
  },
  {
   "cell_type": "code",
   "execution_count": 25,
   "metadata": {},
   "outputs": [
    {
     "name": "stdout",
     "output_type": "stream",
     "text": [
      "[10, 19, 28, 37, 46, 55, 64, 73, 82, 91, 100]\n",
      "11\n"
     ]
    }
   ],
   "source": [
    "ll = list(range(min_iteration, time_iteration + 1, iteration_step))\n",
    "print(ll)\n",
    "print(len(ll))"
   ]
  },
  {
   "cell_type": "code",
   "execution_count": 26,
   "metadata": {},
   "outputs": [
    {
     "name": "stdout",
     "output_type": "stream",
     "text": [
      "90\n"
     ]
    }
   ],
   "source": [
    "a = time_iteration-min_iteration\n",
    "print(a)"
   ]
  },
  {
   "cell_type": "code",
   "execution_count": 27,
   "metadata": {},
   "outputs": [
    {
     "data": {
      "text/plain": [
       "11.0"
      ]
     },
     "execution_count": 27,
     "metadata": {},
     "output_type": "execute_result"
    }
   ],
   "source": [
    "(time_iteration-min_iteration) / iteration_step + 1"
   ]
  },
  {
   "cell_type": "code",
   "execution_count": 28,
   "metadata": {},
   "outputs": [
    {
     "name": "stdout",
     "output_type": "stream",
     "text": [
      "9.0\n"
     ]
    }
   ],
   "source": [
    "step_size = (time_iteration - min_iteration)/(number_of_points-1)\n",
    "print(step_size)"
   ]
  },
  {
   "cell_type": "code",
   "execution_count": null,
   "metadata": {},
   "outputs": [],
   "source": []
  }
 ],
 "metadata": {
  "kernelspec": {
   "display_name": "Python 3",
   "language": "python",
   "name": "python3"
  },
  "language_info": {
   "codemirror_mode": {
    "name": "ipython",
    "version": 3
   },
   "file_extension": ".py",
   "mimetype": "text/x-python",
   "name": "python",
   "nbconvert_exporter": "python",
   "pygments_lexer": "ipython3",
   "version": "3.8.3"
  }
 },
 "nbformat": 4,
 "nbformat_minor": 4
}
