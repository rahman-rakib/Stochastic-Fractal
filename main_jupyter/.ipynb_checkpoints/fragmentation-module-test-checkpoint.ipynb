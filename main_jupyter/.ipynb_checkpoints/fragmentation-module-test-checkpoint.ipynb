{
 "cells": [
  {
   "cell_type": "code",
   "execution_count": 1,
   "metadata": {},
   "outputs": [],
   "source": [
    "%run ../stochastic_fractal_m.py"
   ]
  },
  {
   "cell_type": "code",
   "execution_count": 2,
   "metadata": {},
   "outputs": [
    {
     "data": {
      "text/plain": [
       "['README.txt']"
      ]
     },
     "execution_count": 2,
     "metadata": {},
     "output_type": "execute_result"
    }
   ],
   "source": [
    "import os\n",
    "import matplotlib.pyplot as plt\n",
    "import seaborn as sns\n",
    "\n",
    "dir_data = \"../data/\"\n",
    "os.listdir(dir_data)"
   ]
  },
  {
   "cell_type": "code",
   "execution_count": 6,
   "metadata": {},
   "outputs": [],
   "source": [
    "## Getting the true lengths and plotting kde plot\n",
    "# help(TrueLengths)"
   ]
  },
  {
   "cell_type": "code",
   "execution_count": 7,
   "metadata": {},
   "outputs": [
    {
     "name": "stdout",
     "output_type": "stream",
     "text": [
      "kwargs  {'alpha': 2, 'probability': 0.75}\n",
      "Turning on logging\n"
     ]
    }
   ],
   "source": [
    "sfl = TrueLengths(alpha=2, probability=0.75)"
   ]
  },
  {
   "cell_type": "code",
   "execution_count": 8,
   "metadata": {},
   "outputs": [
    {
     "data": {
      "text/plain": [
       "array([0.12834518, 0.16283819, 0.06721336, 0.03165017, 0.12348242,\n",
       "       0.07931187, 0.09700874, 0.04994089])"
      ]
     },
     "execution_count": 8,
     "metadata": {},
     "output_type": "execute_result"
    }
   ],
   "source": [
    "# sfl.run(10)"
   ]
  },
  {
   "cell_type": "code",
   "execution_count": 9,
   "metadata": {},
   "outputs": [
    {
     "name": "stdout",
     "output_type": "stream",
     "text": [
      "viewing status\n",
      "alpha =  2\n",
      "keeping probability  0.75\n",
      "<length>  <probability>  <flag>\n",
      "1.28345e-01, 1.81591e-01,     1\n",
      "1.62838e-01, 3.70873e-01,     1\n",
      "6.72134e-02, 2.60809e-02,     1\n",
      "3.16502e-02, 2.72323e-03,     1\n",
      "1.23482e-01, 1.61723e-01,     1\n",
      "7.93119e-02, 4.28520e-02,     1\n",
      "9.70087e-02, 7.84132e-02,     1\n",
      "4.99409e-02, 1.06986e-02,     1\n",
      "6.55512e-02, 2.41935e-02,     0\n",
      "5.89946e-02, 1.76357e-02,     0\n",
      "3.87324e-02, 4.99091e-03,     0\n",
      "9.69310e-02, 7.82248e-02,     0\n",
      "1.0\n",
      "1.0\n"
     ]
    }
   ],
   "source": [
    "sfl.view()"
   ]
  },
  {
   "cell_type": "code",
   "execution_count": 10,
   "metadata": {},
   "outputs": [
    {
     "name": "stdout",
     "output_type": "stream",
     "text": [
      "<bound method TrueLengths.run_ensemble of <main_py.stochastic_fragmentation.TrueLengths object at 0x7f486ca5eed0>>\n"
     ]
    }
   ],
   "source": [
    "sfl.get_signature()\n",
    "print(sfl.run_ensemble)"
   ]
  },
  {
   "cell_type": "code",
   "execution_count": 8,
   "metadata": {
    "scrolled": true
   },
   "outputs": [
    {
     "name": "stdout",
     "output_type": "stream",
     "text": [
      "working with realization  0\n",
      "working with realization  1\n",
      "working with realization  2\n",
      "working with realization  3\n",
      "working with realization  4\n",
      "working with realization  5\n",
      "working with realization  6\n",
      "working with realization  7\n",
      "working with realization  8\n",
      "working with realization  9\n",
      "working with realization  10\n",
      "working with realization  11\n",
      "working with realization  12\n",
      "working with realization  13\n",
      "working with realization  14\n",
      "working with realization  15\n",
      "working with realization  16\n",
      "working with realization  17\n",
      "working with realization  18\n",
      "working with realization  19\n",
      "working with realization  20\n",
      "working with realization  21\n",
      "working with realization  22\n",
      "working with realization  23\n",
      "working with realization  24\n",
      "working with realization  25\n",
      "working with realization  26\n",
      "working with realization  27\n",
      "working with realization  28\n",
      "working with realization  29\n",
      "working with realization  30\n",
      "working with realization  31\n",
      "working with realization  32\n",
      "working with realization  33\n",
      "working with realization  34\n",
      "working with realization  35\n",
      "working with realization  36\n",
      "working with realization  37\n",
      "working with realization  38\n",
      "working with realization  39\n",
      "working with realization  40\n",
      "working with realization  41\n",
      "working with realization  42\n",
      "working with realization  43\n",
      "working with realization  44\n",
      "working with realization  45\n",
      "working with realization  46\n",
      "working with realization  47\n",
      "working with realization  48\n",
      "working with realization  49\n",
      "working with realization  50\n",
      "working with realization  51\n",
      "working with realization  52\n",
      "working with realization  53\n",
      "working with realization  54\n",
      "working with realization  55\n",
      "working with realization  56\n",
      "working with realization  57\n",
      "working with realization  58\n",
      "working with realization  59\n",
      "working with realization  60\n",
      "working with realization  61\n",
      "working with realization  62\n",
      "working with realization  63\n",
      "working with realization  64\n",
      "working with realization  65\n",
      "working with realization  66\n",
      "working with realization  67\n",
      "working with realization  68\n",
      "working with realization  69\n",
      "working with realization  70\n",
      "working with realization  71\n",
      "working with realization  72\n",
      "working with realization  73\n",
      "working with realization  74\n",
      "working with realization  75\n",
      "working with realization  76\n",
      "working with realization  77\n",
      "working with realization  78\n",
      "working with realization  79\n",
      "working with realization  80\n",
      "working with realization  81\n",
      "working with realization  82\n",
      "working with realization  83\n",
      "working with realization  84\n",
      "working with realization  85\n",
      "working with realization  86\n",
      "working with realization  87\n",
      "working with realization  88\n",
      "working with realization  89\n",
      "working with realization  90\n",
      "working with realization  91\n",
      "working with realization  92\n",
      "working with realization  93\n",
      "working with realization  94\n",
      "working with realization  95\n",
      "working with realization  96\n",
      "working with realization  97\n",
      "working with realization  98\n",
      "working with realization  99\n"
     ]
    }
   ],
   "source": [
    "a  = sfl.run_ensemble(100_000, 100_000)"
   ]
  },
  {
   "cell_type": "code",
   "execution_count": null,
   "metadata": {},
   "outputs": [],
   "source": []
  },
  {
   "cell_type": "code",
   "execution_count": 9,
   "metadata": {},
   "outputs": [
    {
     "data": {
      "text/plain": [
       "<matplotlib.axes._subplots.AxesSubplot at 0x7f89cd20e990>"
      ]
     },
     "execution_count": 9,
     "metadata": {},
     "output_type": "execute_result"
    },
    {
     "data": {
      "image/png": "[encoded data removed]",
      "text/plain": [
       "<Figure size 432x288 with 1 Axes>"
      ]
     },
     "metadata": {
      "needs_background": "light"
     },
     "output_type": "display_data"
    }
   ],
   "source": [
    "sns.distplot(a*1000**(1/3))"
   ]
  },
  {
   "cell_type": "code",
   "execution_count": 10,
   "metadata": {},
   "outputs": [
    {
     "data": {
      "text/plain": [
       "<matplotlib.axes._subplots.AxesSubplot at 0x7f89cb0f67d0>"
      ]
     },
     "execution_count": 10,
     "metadata": {},
     "output_type": "execute_result"
    },
    {
     "data": {
      "image/png": "[encoded data removed]",
      "text/plain": [
       "<Figure size 432x288 with 1 Axes>"
      ]
     },
     "metadata": {
      "needs_background": "light"
     },
     "output_type": "display_data"
    }
   ],
   "source": [
    "sns.kdeplot(a*1000**(1/3))"
   ]
  },
  {
   "cell_type": "code",
   "execution_count": 11,
   "metadata": {},
   "outputs": [],
   "source": [
    "sfl.save_to_file(dir_data, \"true lengths\")"
   ]
  },
  {
   "cell_type": "code",
   "execution_count": 12,
   "metadata": {},
   "outputs": [
    {
     "data": {
      "text/plain": [
       "'StochasticFragmentation_Lengths__time-iteration_1000_ensemble_100_20200901_090221.txt'"
      ]
     },
     "execution_count": 12,
     "metadata": {},
     "output_type": "execute_result"
    }
   ],
   "source": [
    "sfl.get_filename()"
   ]
  },
  {
   "cell_type": "code",
   "execution_count": 14,
   "metadata": {},
   "outputs": [
    {
     "data": {
      "text/plain": [
       "<matplotlib.axes._subplots.AxesSubplot at 0x7f89caf60410>"
      ]
     },
     "execution_count": 14,
     "metadata": {},
     "output_type": "execute_result"
    },
    {
     "data": {
      "image/png": "[encoded data removed]",
      "text/plain": [
       "<Figure size 432x288 with 1 Axes>"
      ]
     },
     "metadata": {
      "needs_background": "light"
     },
     "output_type": "display_data"
    }
   ],
   "source": [
    "filename = dir_data+\"StochasticFragmentation_Lengths__time-iteration_1000_ensemble_100_20200901_090221.txt\"\n",
    "data = np.loadtxt(filename)\n",
    "sns.kdeplot(data)"
   ]
  },
  {
   "cell_type": "markdown",
   "metadata": {},
   "source": [
    "## Number length"
   ]
  },
  {
   "cell_type": "code",
   "execution_count": 15,
   "metadata": {},
   "outputs": [
    {
     "name": "stdout",
     "output_type": "stream",
     "text": [
      "kwargs  {'alpha': 2, 'probability': 0.75}\n"
     ]
    }
   ],
   "source": [
    "sfl = NumberLength(alpha=2, probability=0.75)"
   ]
  },
  {
   "cell_type": "code",
   "execution_count": 16,
   "metadata": {},
   "outputs": [],
   "source": [
    "N1_average, M1_average = sfl.run_ensemble(10_000, 10_000, 1_000, 500)"
   ]
  },
  {
   "cell_type": "code",
   "execution_count": 17,
   "metadata": {},
   "outputs": [
    {
     "name": "stdout",
     "output_type": "stream",
     "text": [
      "0.7801747760249075\n"
     ]
    },
    {
     "data": {
      "text/plain": [
       "Text(0, 0.5, '$\\\\ln\\\\,N$')"
      ]
     },
     "execution_count": 17,
     "metadata": {},
     "output_type": "execute_result"
    },
    {
     "data": {
      "image/png": "[encoded data removed]",
      "text/plain": [
       "<Figure size 432x288 with 1 Axes>"
      ]
     },
     "metadata": {
      "needs_background": "light"
     },
     "output_type": "display_data"
    }
   ],
   "source": [
    "N1_log = np.log(N1_average)\n",
    "minus_delta1_log = N1_log - np.log(M1_average)\n",
    "slope, intercept = np.polyfit(minus_delta1_log, N1_log, 1)\n",
    "print(slope)\n",
    "\n",
    "plt.plot(minus_delta1_log, N1_log, \"o\")\n",
    "plt.xlabel(r\"$-\\ln\\,\\delta$\")\n",
    "plt.ylabel(r\"$\\ln\\,N$\")"
   ]
  },
  {
   "cell_type": "markdown",
   "metadata": {},
   "source": [
    "## Fractal length"
   ]
  },
  {
   "cell_type": "code",
   "execution_count": 18,
   "metadata": {},
   "outputs": [
    {
     "name": "stdout",
     "output_type": "stream",
     "text": [
      "kwargs  {'alpha': 2, 'probability': 0.75, 'fractal_dim': 0.77872}\n"
     ]
    }
   ],
   "source": [
    "df = 0.77872 # for alpha = 2\n",
    "sffl = FractalLength(alpha=2, probability=0.75, fractal_dim=df) "
   ]
  },
  {
   "cell_type": "code",
   "execution_count": 19,
   "metadata": {},
   "outputs": [
    {
     "name": "stdout",
     "output_type": "stream",
     "text": [
      "[1.41924819 1.40358502 1.41626715 1.4112698  1.42289418 1.42781487\n",
      " 1.43004123 1.43565084 1.43642669 1.42812253 1.44024328 1.43224601\n",
      " 1.44523662 1.44788985 1.4539415  1.4467105  1.4552151  1.46088301]\n"
     ]
    }
   ],
   "source": [
    "sffl.run(10000, 1000, 500, True)"
   ]
  },
  {
   "cell_type": "code",
   "execution_count": 20,
   "metadata": {},
   "outputs": [
    {
     "name": "stdout",
     "output_type": "stream",
     "text": [
      "0.9357729911053179\n"
     ]
    },
    {
     "data": {
      "text/plain": [
       "0.9357729911053179"
      ]
     },
     "execution_count": 20,
     "metadata": {},
     "output_type": "execute_result"
    }
   ],
   "source": [
    "sffl.run_ensemble(100, 10000, 1000, 500)"
   ]
  },
  {
   "cell_type": "code",
   "execution_count": 21,
   "metadata": {},
   "outputs": [
    {
     "name": "stdout",
     "output_type": "stream",
     "text": [
      "1.0459561681008795\n"
     ]
    },
    {
     "data": {
      "text/plain": [
       "1.0459561681008795"
      ]
     },
     "execution_count": 21,
     "metadata": {},
     "output_type": "execute_result"
    }
   ],
   "source": [
    "sffl.run_ensemble(100, 20000, 1000, 500)"
   ]
  },
  {
   "cell_type": "code",
   "execution_count": 22,
   "metadata": {},
   "outputs": [
    {
     "name": "stdout",
     "output_type": "stream",
     "text": [
      "1.0285197596818358\n"
     ]
    },
    {
     "data": {
      "text/plain": [
       "1.0285197596818358"
      ]
     },
     "execution_count": 22,
     "metadata": {},
     "output_type": "execute_result"
    }
   ],
   "source": [
    "sffl.run_ensemble(100, 30000, 1000, 500)"
   ]
  },
  {
   "cell_type": "code",
   "execution_count": null,
   "metadata": {},
   "outputs": [],
   "source": []
  }
 ],
 "metadata": {
  "kernelspec": {
   "display_name": "Python 3",
   "language": "python",
   "name": "python3"
  },
  "language_info": {
   "codemirror_mode": {
    "name": "ipython",
    "version": 3
   },
   "file_extension": ".py",
   "mimetype": "text/x-python",
   "name": "python",
   "nbconvert_exporter": "python",
   "pygments_lexer": "ipython3",
   "version": "3.7.6"
  }
 },
 "nbformat": 4,
 "nbformat_minor": 4
}
