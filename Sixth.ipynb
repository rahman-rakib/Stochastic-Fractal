{
 "cells": [
  {
   "cell_type": "code",
   "execution_count": 1,
   "metadata": {},
   "outputs": [],
   "source": [
    "import random, numpy as np, pandas as pd\n",
    "from matplotlib import pyplot as plt\n",
    "alphap = 2\n",
    "probp = 0.75\n",
    "expon = 2 * alphap - 1"
   ]
  },
  {
   "cell_type": "code",
   "execution_count": 2,
   "metadata": {},
   "outputs": [],
   "source": [
    "def betadist(alpha):\n",
    "    \"\"\"gives a random number from beta distribution\"\"\"\n",
    "    return random.betavariate(alpha,alpha)"
   ]
  },
  {
   "cell_type": "code",
   "execution_count": 3,
   "metadata": {},
   "outputs": [],
   "source": [
    "def decision(probability):\n",
    "    \"\"\"\n",
    "    decides with a given probability whether to keep the right part\n",
    "    \"\"\"\n",
    "    if float(probability) > random.random():\n",
    "        return True\n",
    "    else: \n",
    "        return False"
   ]
  },
  {
   "cell_type": "code",
   "execution_count": 4,
   "metadata": {},
   "outputs": [],
   "source": [
    "def splitting(left,right):\n",
    "    \"\"\"\n",
    "    splits a given segment. left and right are endpoints of the segment\n",
    "    \"\"\"\n",
    "    segment = right - left\n",
    "    xL = segment * betadist(alphap)\n",
    "    xR = segment - xL\n",
    "    splitpoint = left + xL\n",
    "    flag = decision(probp)\n",
    "    xLp = xL**expon\n",
    "    xRp = xR**expon\n",
    "    change = xLp + xRp - segment**expon\n",
    "    return splitpoint, flag, xLp, xRp, change"
   ]
  },
  {
   "cell_type": "code",
   "execution_count": 5,
   "metadata": {},
   "outputs": [],
   "source": [
    "def pickindex(expons, exponsum):\n",
    "    \"\"\"\n",
    "    picks up a segment to be subsequently split\n",
    "    \"\"\"\n",
    "    r = random.uniform(0, exponsum)\n",
    "    sum_ = 0\n",
    "    for index in range(len(expons)):\n",
    "        sum_ += expons[index]\n",
    "        if sum_ < r:\n",
    "            continue\n",
    "        else:\n",
    "            return index"
   ]
  },
  {
   "cell_type": "code",
   "execution_count": 6,
   "metadata": {},
   "outputs": [],
   "source": [
    "def number_length(points,flags):\n",
    "    \n",
    "    N = 0\n",
    "    M = 0\n",
    "    \n",
    "    for i in range(len(flags)):\n",
    "        if flags[i]:\n",
    "            N += 1\n",
    "            M += points[i+1] - points[i] \n",
    "            pass\n",
    "        pass\n",
    "    return N, M"
   ]
  },
  {
   "cell_type": "code",
   "execution_count": 7,
   "metadata": {},
   "outputs": [],
   "source": [
    "def realization_value(total_iteration, min_iteration, iteration_step):\n",
    "    \n",
    "    points = [0.,1.]\n",
    "    flags = [True]\n",
    "    expons = [1.]\n",
    "    exponsum = 1.0\n",
    "\n",
    "    iteration_list = list(range(min_iteration, total_iteration + 1, iteration_step))\n",
    "    N_realization = []\n",
    "    M_realization = []\n",
    "    \n",
    "    for i in range(total_iteration + 1):\n",
    "        \n",
    "        index = pickindex(expons, exponsum)\n",
    "        \n",
    "        if flags[index] == True:\n",
    "            left = points[index]\n",
    "            right = points[index+1]\n",
    "            splitpoint, flag, xLp, xRp, change = splitting(left,right)\n",
    "            points.insert(index+1,splitpoint)\n",
    "            flags.insert(index+1,flag)\n",
    "            expons[index] = xLp \n",
    "            expons.insert(index+1,xRp)\n",
    "            exponsum += change\n",
    "            pass\n",
    "        \n",
    "        if i+1 in iteration_list:\n",
    "            N, M = number_length(points,flags)\n",
    "            N_realization.append(N)\n",
    "            M_realization.append(M)\n",
    "        pass\n",
    "    \n",
    "    N_list = np.array(N_realization)\n",
    "    M_list = np.array(M_realization)\n",
    "    \n",
    "    return N_list, M_list"
   ]
  },
  {
   "cell_type": "code",
   "execution_count": 8,
   "metadata": {},
   "outputs": [],
   "source": [
    "def ensemble_average(total_iteration = 1000, min_iteration = 100, iteration_step = 100, ensemble_size = 1000):\n",
    "\n",
    "    data_points = int ((total_iteration - min_iteration)/iteration_step + 1)\n",
    "    N_ensemble = np.zeros(data_points)\n",
    "    M_ensemble = np.zeros(data_points)\n",
    "   \n",
    "    for i in range(ensemble_size):\n",
    "        N_list, M_list = realization_value(total_iteration, min_iteration, iteration_step)\n",
    "        N_ensemble += N_list\n",
    "        M_ensemble += M_list\n",
    "        pass\n",
    "    \n",
    "    N_average = N_ensemble/ensemble_size\n",
    "    M_average = M_ensemble/ensemble_size\n",
    "    \n",
    "    return N_average, M_average"
   ]
  },
  {
   "cell_type": "code",
   "execution_count": 9,
   "metadata": {},
   "outputs": [
    {
     "name": "stdout",
     "output_type": "stream",
     "text": [
      "0.7815401258513998\n"
     ]
    },
    {
     "data": {
      "text/plain": [
       "<function matplotlib.pyplot.show(*args, **kw)>"
      ]
     },
     "execution_count": 9,
     "metadata": {},
     "output_type": "execute_result"
    },
    {
     "data": {
      "image/png": "[encoded data removed]",
      "text/plain": [
       "<Figure size 432x288 with 1 Axes>"
      ]
     },
     "metadata": {
      "needs_background": "light"
     },
     "output_type": "display_data"
    }
   ],
   "source": [
    "N_average, M_average = ensemble_average(10_000, 1_000, 1_000, 1_000)\n",
    "N_log = np.log(N_average)\n",
    "minus_delta_log = N_log - np.log(M_average)\n",
    "slope, intercept = np.polyfit(minus_delta_log, N_log, 1)\n",
    "print(slope)\n",
    "plt.plot(minus_delta_log, N_log, \"o\")\n",
    "plt.xlabel(\"-ln delta\")\n",
    "plt.ylabel(\"ln N\")\n",
    "plt.show"
   ]
  },
  {
   "cell_type": "code",
   "execution_count": 14,
   "metadata": {},
   "outputs": [
    {
     "name": "stdout",
     "output_type": "stream",
     "text": [
      "0.7786673164237103\n"
     ]
    },
    {
     "data": {
      "text/plain": [
       "Text(0, 0.5, '$\\\\ln N$')"
      ]
     },
     "execution_count": 14,
     "metadata": {},
     "output_type": "execute_result"
    },
    {
     "data": {
      "image/png": "[encoded data removed]",
      "text/plain": [
       "<Figure size 432x288 with 1 Axes>"
      ]
     },
     "metadata": {
      "needs_background": "light"
     },
     "output_type": "display_data"
    }
   ],
   "source": [
    "#N_average, M_average = ensemble_average(100_000, 10_000, 10_000, 10_000)\n",
    "N_log = np.log(N_average)\n",
    "minus_delta_log = N_log - np.log(M_average)\n",
    "slope, intercept = np.polyfit(minus_delta_log, N_log, 1)\n",
    "print(slope)\n",
    "plt.plot(minus_delta_log, N_log, \"o\")\n",
    "plt.xlabel(r\"$-\\ln\\,\\delta$\")\n",
    "plt.ylabel(r\"$\\ln N$\")"
   ]
  },
  {
   "cell_type": "code",
   "execution_count": 11,
   "metadata": {},
   "outputs": [
    {
     "data": {
      "text/plain": [
       "array([ 66.3289,  79.4885,  88.3793,  95.2274, 100.9026, 105.7943,\n",
       "       110.1275, 114.0156, 117.5768, 120.8548])"
      ]
     },
     "execution_count": 11,
     "metadata": {},
     "output_type": "execute_result"
    }
   ],
   "source": [
    "N_average"
   ]
  },
  {
   "cell_type": "code",
   "execution_count": 12,
   "metadata": {},
   "outputs": [
    {
     "data": {
      "text/plain": [
       "array([0.32582317, 0.30930743, 0.30019211, 0.29383734, 0.28901808,\n",
       "       0.28523673, 0.28206927, 0.27926147, 0.27682537, 0.27467294])"
      ]
     },
     "execution_count": 12,
     "metadata": {},
     "output_type": "execute_result"
    }
   ],
   "source": [
    "M_average"
   ]
  },
  {
   "cell_type": "code",
   "execution_count": null,
   "metadata": {},
   "outputs": [],
   "source": []
  }
 ],
 "metadata": {
  "kernelspec": {
   "display_name": "Python 3",
   "language": "python",
   "name": "python3"
  },
  "language_info": {
   "codemirror_mode": {
    "name": "ipython",
    "version": 3
   },
   "file_extension": ".py",
   "mimetype": "text/x-python",
   "name": "python",
   "nbconvert_exporter": "python",
   "pygments_lexer": "ipython3",
   "version": "3.7.6"
  }
 },
 "nbformat": 4,
 "nbformat_minor": 4
}
