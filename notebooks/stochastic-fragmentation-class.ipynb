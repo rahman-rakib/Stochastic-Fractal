{
 "cells": [
  {
   "cell_type": "markdown",
   "metadata": {},
   "source": [
    "## Normalized to 1"
   ]
  },
  {
   "cell_type": "code",
   "execution_count": 1,
   "metadata": {},
   "outputs": [],
   "source": [
    "import random\n",
    "import numpy as np\n",
    "import pandas as pd\n",
    "from matplotlib import pyplot as plt\n",
    "import seaborn as sns\n"
   ]
  },
  {
   "cell_type": "code",
   "execution_count": 2,
   "metadata": {},
   "outputs": [
    {
     "name": "stdout",
     "output_type": "stream",
     "text": [
      "2.1 µs ± 40.2 ns per loop (mean ± std. dev. of 7 runs, 100000 loops each)\n"
     ]
    }
   ],
   "source": [
    "alpha = 1\n",
    "%timeit random.betavariate(alpha, alpha)"
   ]
  },
  {
   "cell_type": "code",
   "execution_count": 3,
   "metadata": {},
   "outputs": [
    {
     "name": "stdout",
     "output_type": "stream",
     "text": [
      "5.05 µs ± 56.1 ns per loop (mean ± std. dev. of 7 runs, 100000 loops each)\n"
     ]
    }
   ],
   "source": [
    "alpha = 2\n",
    "%timeit random.betavariate(alpha, alpha)"
   ]
  },
  {
   "cell_type": "code",
   "execution_count": 4,
   "metadata": {},
   "outputs": [],
   "source": [
    "class StochasticFragmentation:\n",
    "    def __init__(self, alpha, prob):\n",
    "        \"\"\"\n",
    "        alpha : \n",
    "        prob  : probability of keeping the right segment\n",
    "        \"\"\"\n",
    "        self.alpha            = alpha\n",
    "        self.prob             = prob\n",
    "        self.expon            = 2*alpha - 1\n",
    "        self.normC            = 1.0 # normalization constant\n",
    "        self.probability_list = [1.0]\n",
    "        self.length_list      = [1.0]\n",
    "        self.flag_list        = [True]\n",
    "        self.choose_pivot     = self.betadist\n",
    "        pass\n",
    "\n",
    "    def reset(self):\n",
    "        self.normC            = 1.0 # normalization constant\n",
    "        self.probability_list = [1.0]\n",
    "        self.length_list      = [1.0]\n",
    "        self.flag_list        = [True]\n",
    "        \n",
    "    def set_pivot_choosing_method(self, method='logistic'):\n",
    "        \"\"\"\n",
    "        method  : way to choose the pivot point of a given segment\n",
    "        returns : random value in [0, 1]\n",
    "        \"\"\"\n",
    "        if method is 'logistic':\n",
    "            self.choose_pivot = self.logistic_choice\n",
    "            pass\n",
    "        self.choose_pivot = self.betadist\n",
    "        pass\n",
    "    \n",
    "    def betadist(self):\n",
    "        \"\"\"gives a random number from beta distribution\"\"\"\n",
    "#         print(\"betadist\")\n",
    "        return random.betavariate(self.alpha,self.alpha)\n",
    "    \n",
    "    def logistic_xn(self, n, a=2):\n",
    "        x0 = random.random()\n",
    "        x1 = 0\n",
    "        if n < 0:\n",
    "            print(\"n cannot be negative\")\n",
    "            n = 1\n",
    "            pass\n",
    "        for i in range(n):\n",
    "            x1 = a * x0 * (1-x0)\n",
    "            x0 = x1\n",
    "            pass\n",
    "        return x0\n",
    "\n",
    "    def logistic_choice(self):\n",
    "#         print(\"logistic_choice\")\n",
    "        beta = self.alpha - 1\n",
    "        RR = self.logistic_xn(beta)\n",
    "        RRp = 1 - RR\n",
    "        r = random.random()\n",
    "        if r < 0.5:\n",
    "            return RR\n",
    "        return RRp\n",
    "    \n",
    "        \n",
    "    def decision(self):\n",
    "        \"\"\"\n",
    "        decides with a given probability whether to keep the right part\n",
    "        \"\"\"\n",
    "        if self.prob > random.random():\n",
    "            return True\n",
    "        else: \n",
    "            return False\n",
    "        \n",
    "    def splitting(self, segment):\n",
    "        \"\"\"\n",
    "        splits a given segment. left and right are endpoints of the segment\n",
    "        segment : length of a segment\n",
    "        returns : \n",
    "            xL -> length of the left segment\n",
    "            xR -> length of the right segment\n",
    "            flag -> keeping the right segment\n",
    "            xLp, xRp -> probability(unnormalized) for being selected\n",
    "            change -> change of normalization const\n",
    "        \"\"\"\n",
    "        xL = segment * self.choose_pivot()\n",
    "        xR = segment - xL\n",
    "        flag = self.decision()\n",
    "        xLp = xL**self.expon\n",
    "        xRp = xR**self.expon\n",
    "        change = xLp + xRp - segment**self.expon\n",
    "        return xL, xR, flag, xLp, xRp, change\n",
    "    \n",
    "    def pickindex(self):\n",
    "        \"\"\"\n",
    "        picks up a segment to be subsequently split\n",
    "        \"\"\"\n",
    "        r = random.uniform(0, 1)\n",
    "        sum_ = 0\n",
    "        for index in range(len(self.probability_list)):\n",
    "            sum_ += self.probability_list[index]/self.normC\n",
    "            if sum_ < r:\n",
    "                continue\n",
    "            else:\n",
    "                return index\n",
    "            pass\n",
    "        print(\"out of range. return None\")\n",
    "        pass\n",
    "    \n",
    "    def number_length(self):\n",
    "\n",
    "        lengths = np.array(self.length_list)\n",
    "        lengths = lengths[self.flag_list]\n",
    "        N = lengths.shape[0]\n",
    "        M = np.sum(lengths)\n",
    "        \n",
    "#         M, N = 0, 0\n",
    "#         for i in range(len(self.flag_list)):\n",
    "#             if self.flag_list[i]:\n",
    "#                 N += 1\n",
    "#                 M += self.length_list[i]\n",
    "#                 pass\n",
    "#             pass\n",
    "#         if abs(M1-M) > 1e-10:\n",
    "#             print(\"not equal\")\n",
    "        return N, M\n",
    "    \n",
    "    \n",
    "    def view(self):\n",
    "        print(\"viewing status\")\n",
    "        print(\"alpha = \", self.alpha)\n",
    "        print(\"keeping probability \", self.prob)\n",
    "        print(\"<length> <flag> <probability>\")\n",
    "        for i in range(len(self.length_list)):\n",
    "            print(\"{:.5e}, {:.5e}, {:5}\".format(self.length_list[i],\n",
    "                                            self.probability_list[i]/self.normC,\n",
    "                                            self.flag_list[i]\n",
    "                                            ))\n",
    "            pass\n",
    "        print(np.sum(self.length_list))\n",
    "        print(np.sum(self.length_list))\n",
    "        pass\n",
    "    \n",
    "    def one_time_step(self):\n",
    "        index = self.pickindex()\n",
    "        if (type(index) == int) and self.flag_list[index]:\n",
    "\n",
    "            xL, xR, flag, xLp, xRp, change = self.splitting(self.length_list[index])\n",
    "\n",
    "            self.length_list[index] = xL\n",
    "            self.length_list.append(xR)\n",
    "            self.flag_list.append(flag)\n",
    "            self.probability_list[index] = xLp \n",
    "            self.probability_list.append(xRp)\n",
    "            self.normC += change\n",
    "            pass\n",
    "        \n",
    "        pass\n",
    "    \n",
    "    \n",
    "    def run(self, total_iteration, min_iteration, iteration_step):\n",
    "        iteration_list = list(range(min_iteration, total_iteration + 1, iteration_step))\n",
    "        N_realization = []\n",
    "        M_realization = []\n",
    "\n",
    "        for i in range(total_iteration + 1):\n",
    "#             print(\"time step \", i)\n",
    "            self.one_time_step()\n",
    "\n",
    "            if i+1 in iteration_list:\n",
    "                N, M = self.number_length()\n",
    "                N_realization.append(N)\n",
    "                M_realization.append(M)\n",
    "            pass\n",
    "\n",
    "        N_list = np.array(N_realization)\n",
    "        M_list = np.array(M_realization)\n",
    "\n",
    "        return N_list, M_list"
   ]
  },
  {
   "cell_type": "code",
   "execution_count": 23,
   "metadata": {},
   "outputs": [],
   "source": [
    "a = StochasticFragmentation(2, 0.75)"
   ]
  },
  {
   "cell_type": "code",
   "execution_count": 24,
   "metadata": {},
   "outputs": [
    {
     "name": "stdout",
     "output_type": "stream",
     "text": [
      "viewing status\n",
      "alpha =  2\n",
      "keeping probability  0.75\n",
      "<length> <flag> <probability>\n",
      "7.50486e-01, 9.64553e-01,     1\n",
      "2.49514e-01, 3.54473e-02,     1\n",
      "1.0\n",
      "1.0\n"
     ]
    }
   ],
   "source": [
    "\n",
    "a.one_time_step()\n",
    "a.view()"
   ]
  },
  {
   "cell_type": "code",
   "execution_count": 27,
   "metadata": {},
   "outputs": [
    {
     "name": "stdout",
     "output_type": "stream",
     "text": [
      "3.57 µs ± 151 ns per loop (mean ± std. dev. of 7 runs, 100000 loops each)\n"
     ]
    }
   ],
   "source": [
    "%timeit a.one_time_step()"
   ]
  },
  {
   "cell_type": "code",
   "execution_count": 10,
   "metadata": {},
   "outputs": [
    {
     "name": "stdout",
     "output_type": "stream",
     "text": [
      "312 ms ± 10.2 ms per loop (mean ± std. dev. of 7 runs, 1 loop each)\n"
     ]
    }
   ],
   "source": [
    "%timeit a.run(100000, 50000, 2000)"
   ]
  },
  {
   "cell_type": "code",
   "execution_count": 11,
   "metadata": {},
   "outputs": [],
   "source": [
    "def ensemble_average(sf, total_iteration = 1000, min_iteration = 100, iteration_step = 100, ensemble_size = 1000):\n",
    "\n",
    "    data_points = int ((total_iteration - min_iteration)/iteration_step + 1)\n",
    "    N_ensemble = np.zeros(data_points)\n",
    "    M_ensemble = np.zeros(data_points)\n",
    "    step = ensemble_size // 100\n",
    "    \n",
    "    for i in range(ensemble_size):\n",
    "        sf.reset()\n",
    "        if i % step == 0:\n",
    "            print(\"iteration \", i)\n",
    "        N_list, M_list = sf.run(total_iteration, min_iteration, iteration_step)\n",
    "        N_ensemble += N_list\n",
    "        M_ensemble += M_list\n",
    "        pass\n",
    "    \n",
    "    N_average = N_ensemble/ensemble_size\n",
    "    M_average = M_ensemble/ensemble_size\n",
    "    \n",
    "    return N_average, M_average"
   ]
  },
  {
   "cell_type": "code",
   "execution_count": 12,
   "metadata": {
    "scrolled": true
   },
   "outputs": [
    {
     "name": "stdout",
     "output_type": "stream",
     "text": [
      "iteration  0\n",
      "iteration  20\n",
      "iteration  40\n",
      "iteration  60\n",
      "iteration  80\n",
      "iteration  100\n",
      "iteration  120\n",
      "iteration  140\n",
      "iteration  160\n",
      "iteration  180\n",
      "iteration  200\n",
      "iteration  220\n",
      "iteration  240\n",
      "iteration  260\n",
      "iteration  280\n",
      "iteration  300\n",
      "iteration  320\n",
      "iteration  340\n",
      "iteration  360\n",
      "iteration  380\n",
      "iteration  400\n",
      "iteration  420\n",
      "iteration  440\n",
      "iteration  460\n",
      "iteration  480\n",
      "iteration  500\n",
      "iteration  520\n",
      "iteration  540\n",
      "iteration  560\n",
      "iteration  580\n",
      "iteration  600\n",
      "iteration  620\n",
      "iteration  640\n",
      "iteration  660\n",
      "iteration  680\n",
      "iteration  700\n",
      "iteration  720\n",
      "iteration  740\n",
      "iteration  760\n",
      "iteration  780\n",
      "iteration  800\n",
      "iteration  820\n",
      "iteration  840\n",
      "iteration  860\n",
      "iteration  880\n",
      "iteration  900\n",
      "iteration  920\n",
      "iteration  940\n",
      "iteration  960\n",
      "iteration  980\n",
      "iteration  1000\n",
      "iteration  1020\n",
      "iteration  1040\n",
      "iteration  1060\n",
      "iteration  1080\n",
      "iteration  1100\n",
      "iteration  1120\n",
      "iteration  1140\n",
      "iteration  1160\n",
      "iteration  1180\n",
      "iteration  1200\n",
      "iteration  1220\n",
      "iteration  1240\n",
      "iteration  1260\n",
      "iteration  1280\n",
      "iteration  1300\n",
      "iteration  1320\n",
      "iteration  1340\n",
      "iteration  1360\n",
      "iteration  1380\n",
      "iteration  1400\n",
      "iteration  1420\n",
      "iteration  1440\n",
      "iteration  1460\n",
      "iteration  1480\n",
      "iteration  1500\n",
      "iteration  1520\n",
      "iteration  1540\n",
      "iteration  1560\n",
      "iteration  1580\n",
      "iteration  1600\n",
      "iteration  1620\n",
      "iteration  1640\n",
      "iteration  1660\n",
      "iteration  1680\n",
      "iteration  1700\n",
      "iteration  1720\n",
      "iteration  1740\n",
      "iteration  1760\n",
      "iteration  1780\n",
      "iteration  1800\n",
      "iteration  1820\n",
      "iteration  1840\n",
      "iteration  1860\n",
      "iteration  1880\n",
      "iteration  1900\n",
      "iteration  1920\n",
      "iteration  1940\n",
      "iteration  1960\n",
      "iteration  1980\n"
     ]
    }
   ],
   "source": [
    "a = StochasticFragmentation(2, 0.75)\n",
    "N_average, M_average = ensemble_average(a, 20_000, 5_000, 500, 500)"
   ]
  },
  {
   "cell_type": "code",
   "execution_count": 14,
   "metadata": {},
   "outputs": [
    {
     "name": "stdout",
     "output_type": "stream",
     "text": [
      "0.7812531084962726\n"
     ]
    },
    {
     "data": {
      "text/plain": [
       "Text(0, 0.5, 'ln N')"
      ]
     },
     "execution_count": 14,
     "metadata": {},
     "output_type": "execute_result"
    },
    {
     "data": {
      "image/png": "[encoded data removed]",
      "text/plain": [
       "<Figure size 432x288 with 1 Axes>"
      ]
     },
     "metadata": {
      "needs_background": "light"
     },
     "output_type": "display_data"
    }
   ],
   "source": [
    "N_log = np.log(N_average)\n",
    "minus_delta_log = N_log - np.log(M_average)\n",
    "slope, intercept = np.polyfit(minus_delta_log, N_log, 1)\n",
    "print(slope)\n",
    "plt.plot(minus_delta_log, N_log, \"o\")\n",
    "plt.xlabel(\"-ln delta\")\n",
    "plt.ylabel(\"ln N\")\n",
    "# plt.show()"
   ]
  },
  {
   "cell_type": "code",
   "execution_count": 12,
   "metadata": {},
   "outputs": [
    {
     "name": "stdout",
     "output_type": "stream",
     "text": [
      "0.7784419246258479\n"
     ]
    },
    {
     "data": {
      "text/plain": [
       "Text(0, 0.5, 'ln N')"
      ]
     },
     "execution_count": 12,
     "metadata": {},
     "output_type": "execute_result"
    },
    {
     "data": {
      "image/png": "[encoded data removed]",
      "text/plain": [
       "<Figure size 432x288 with 1 Axes>"
      ]
     },
     "metadata": {
      "needs_background": "light"
     },
     "output_type": "display_data"
    }
   ],
   "source": [
    "N_log = np.log(N_average)\n",
    "minus_delta_log = N_log - np.log(M_average)\n",
    "slope, intercept = np.polyfit(minus_delta_log, N_log, 1)\n",
    "print(slope)\n",
    "plt.plot(minus_delta_log, N_log, \"o\")\n",
    "plt.xlabel(\"-ln delta\")\n",
    "plt.ylabel(\"ln N\")\n",
    "# plt.show()\n",
    "print(0.7784419246258479)"
   ]
  },
  {
   "cell_type": "markdown",
   "metadata": {},
   "source": [
    "## Parallel Code"
   ]
  },
  {
   "cell_type": "code",
   "execution_count": 22,
   "metadata": {},
   "outputs": [],
   "source": [
    "import multiprocessing as mp"
   ]
  },
  {
   "cell_type": "code",
   "execution_count": 38,
   "metadata": {},
   "outputs": [],
   "source": [
    "def ensemble_average(args=dict()):\n",
    "    sf = args['obj']\n",
    "    total_iteration = args['total_iteration']\n",
    "    min_iteration = args['min_iteration']\n",
    "    iteration_step = args['iteration_step']\n",
    "    ensemble_size = args['ensemble_size']\n",
    "    \n",
    "    data_points = int ((total_iteration - min_iteration)/iteration_step + 1)\n",
    "    N_ensemble = np.zeros(data_points)\n",
    "    M_ensemble = np.zeros(data_points)\n",
    "    step = ensemble_size // 100\n",
    "    \n",
    "    for i in range(ensemble_size):\n",
    "        sf.reset()\n",
    "        if i % step == 0:\n",
    "            print(\"iteration \", i)\n",
    "        N_list, M_list = sf.run(total_iteration, min_iteration, iteration_step)\n",
    "        N_ensemble += N_list\n",
    "        M_ensemble += M_list\n",
    "        pass\n",
    "    \n",
    "    N_average = N_ensemble/ensemble_size\n",
    "    M_average = M_ensemble/ensemble_size\n",
    "    \n",
    "    return N_average, M_average"
   ]
  },
  {
   "cell_type": "code",
   "execution_count": 32,
   "metadata": {
    "scrolled": true
   },
   "outputs": [
    {
     "name": "stdout",
     "output_type": "stream",
     "text": [
      "iteration  0\n",
      "iteration  2\n",
      "iteration  4\n",
      "iteration  6\n",
      "iteration  8\n",
      "iteration  10\n",
      "iteration  12\n",
      "iteration  14\n",
      "iteration  16\n",
      "iteration  18\n",
      "iteration  20\n",
      "iteration  22\n",
      "iteration  24\n",
      "iteration  26\n",
      "iteration  28\n",
      "iteration  30\n",
      "iteration  32\n",
      "iteration  34\n",
      "iteration  36\n",
      "iteration  38\n",
      "iteration  40\n",
      "iteration  42\n",
      "iteration  44\n",
      "iteration  46\n",
      "iteration  48\n",
      "iteration  50\n",
      "iteration  52\n",
      "iteration  54\n",
      "iteration  56\n",
      "iteration  58\n",
      "iteration  60\n",
      "iteration  62\n",
      "iteration  64\n",
      "iteration  66\n",
      "iteration  68\n",
      "iteration  70\n",
      "iteration  72\n",
      "iteration  74\n",
      "iteration  76\n",
      "iteration  78\n",
      "iteration  80\n",
      "iteration  82\n",
      "iteration  84\n",
      "iteration  86\n",
      "iteration  88\n",
      "iteration  90\n",
      "iteration  92\n",
      "iteration  94\n",
      "iteration  96\n",
      "iteration  98\n",
      "iteration  100\n",
      "iteration  102\n",
      "iteration  104\n",
      "iteration  106\n",
      "iteration  108\n",
      "iteration  110\n",
      "iteration  112\n",
      "iteration  114\n",
      "iteration  116\n",
      "iteration  118\n",
      "iteration  120\n",
      "iteration  122\n",
      "iteration  124\n",
      "iteration  126\n",
      "iteration  128\n",
      "iteration  130\n",
      "iteration  132\n",
      "iteration  134\n",
      "iteration  136\n",
      "iteration  138\n",
      "iteration  140\n",
      "iteration  142\n",
      "iteration  144\n",
      "iteration  146\n",
      "iteration  148\n",
      "iteration  150\n",
      "iteration  152\n",
      "iteration  154\n",
      "iteration  156\n",
      "iteration  158\n",
      "iteration  160\n",
      "iteration  162\n",
      "iteration  164\n",
      "iteration  166\n",
      "iteration  168\n",
      "iteration  170\n",
      "iteration  172\n",
      "iteration  174\n",
      "iteration  176\n",
      "iteration  178\n",
      "iteration  180\n",
      "iteration  182\n",
      "iteration  184\n",
      "iteration  186\n",
      "iteration  188\n",
      "iteration  190\n",
      "iteration  192\n",
      "iteration  194\n",
      "iteration  196\n",
      "iteration  198\n"
     ]
    }
   ],
   "source": [
    "N_average, M_average = ensemble_average({\"obj\":StochasticFragmentation(2, 0.75),\n",
    "                  \"total_iteration\":10000,\n",
    "                  \"min_iteration\":5000,\n",
    "                  \"iteration_step\":500,\n",
    "                  \"ensemble_size\":200,\n",
    "                 })"
   ]
  },
  {
   "cell_type": "code",
   "execution_count": 51,
   "metadata": {
    "scrolled": true
   },
   "outputs": [
    {
     "name": "stdout",
     "output_type": "stream",
     "text": [
      "iteration  0\n",
      "iteration  0\n",
      "iteration  0\n",
      "iteration  10\n",
      "iteration  10\n",
      "iteration  10\n",
      "iteration  20\n",
      "iteration  20\n",
      "iteration  20\n",
      "iteration  30\n",
      "iteration  30\n",
      "iteration  30\n",
      "iteration  40\n",
      "iteration  40\n",
      "iteration  40\n",
      "iteration  50\n",
      "iteration  50\n",
      "iteration  50\n",
      "iteration  60\n",
      "iteration  60\n",
      "iteration  60\n",
      "iteration  70\n",
      "iteration  70\n",
      "iteration  80\n",
      "iteration  70\n",
      "iteration  80\n",
      "iteration  90\n",
      "iteration  80\n",
      "iteration  90\n",
      "iteration  90\n",
      "iteration  100\n",
      "iteration  110\n",
      "iteration  100\n",
      "iteration  100\n",
      "iteration  120\n",
      "iteration  110\n",
      "iteration  110\n",
      "iteration  130\n",
      "iteration  120\n",
      "iteration  120\n",
      "iteration  130\n",
      "iteration  140\n",
      "iteration  130\n",
      "iteration  140\n",
      "iteration  150\n",
      "iteration  140\n",
      "iteration  160\n",
      "iteration  150\n",
      "iteration  170\n",
      "iteration  160\n",
      "iteration  150\n",
      "iteration  180\n",
      "iteration  170\n",
      "iteration  160\n",
      "iteration  180\n",
      "iteration  190\n",
      "iteration  170\n",
      "iteration  190\n",
      "iteration  180\n",
      "iteration  200\n",
      "iteration  190\n",
      "iteration  200\n",
      "iteration  210\n",
      "iteration  200\n",
      "iteration  210\n",
      "iteration  220\n",
      "iteration  210\n",
      "iteration  220\n",
      "iteration  220\n",
      "iteration  230\n",
      "iteration  230\n",
      "iteration  230\n",
      "iteration  240\n",
      "iteration  240\n",
      "iteration  240\n",
      "iteration  250\n",
      "iteration  250\n",
      "iteration  250\n",
      "iteration  260\n",
      "iteration  260\n",
      "iteration  260\n",
      "iteration  270\n",
      "iteration  270\n",
      "iteration  270\n",
      "iteration  280\n",
      "iteration  280\n",
      "iteration  280\n",
      "iteration  290\n",
      "iteration  290\n",
      "iteration  290\n",
      "iteration  300\n",
      "iteration  300\n",
      "iteration  300\n",
      "iteration  310\n",
      "iteration  310\n",
      "iteration  310\n",
      "iteration  320\n",
      "iteration  320\n",
      "iteration  320\n",
      "iteration  330\n",
      "iteration  330\n",
      "iteration  330\n",
      "iteration  340\n",
      "iteration  340\n",
      "iteration  350\n",
      "iteration  340\n",
      "iteration  350\n",
      "iteration  360\n",
      "iteration  350\n",
      "iteration  360\n",
      "iteration  360\n",
      "iteration  370\n",
      "iteration  370\n",
      "iteration  370\n",
      "iteration  380\n",
      "iteration  390\n",
      "iteration  380\n",
      "iteration  380\n",
      "iteration  400\n",
      "iteration  390\n",
      "iteration  390\n",
      "iteration  410\n",
      "iteration  400\n",
      "iteration  400\n",
      "iteration  420\n",
      "iteration  410\n",
      "iteration  410\n",
      "iteration  430\n",
      "iteration  420\n",
      "iteration  440\n",
      "iteration  420\n",
      "iteration  430\n",
      "iteration  450\n",
      "iteration  430\n",
      "iteration  440\n",
      "iteration  460\n",
      "iteration  440\n",
      "iteration  450\n",
      "iteration  450\n",
      "iteration  470\n",
      "iteration  460\n",
      "iteration  460\n",
      "iteration  480\n",
      "iteration  470\n",
      "iteration  470\n",
      "iteration  490\n",
      "iteration  480\n",
      "iteration  480\n",
      "iteration  500\n",
      "iteration  490\n",
      "iteration  490\n",
      "iteration  510\n",
      "iteration  500\n",
      "iteration  500\n",
      "iteration  520\n",
      "iteration  510\n",
      "iteration  510\n",
      "iteration  530\n",
      "iteration  520\n",
      "iteration  520\n",
      "iteration  530\n",
      "iteration  540\n",
      "iteration  530\n",
      "iteration  540\n",
      "iteration  550\n",
      "iteration  540\n",
      "iteration  560\n",
      "iteration  550\n",
      "iteration  550\n",
      "iteration  560\n",
      "iteration  570\n",
      "iteration  560\n",
      "iteration  570\n",
      "iteration  580\n",
      "iteration  570\n",
      "iteration  590\n",
      "iteration  580\n",
      "iteration  580\n",
      "iteration  600\n",
      "iteration  590\n",
      "iteration  590\n",
      "iteration  600\n",
      "iteration  610\n",
      "iteration  600\n",
      "iteration  610\n",
      "iteration  620\n",
      "iteration  610\n",
      "iteration  620\n",
      "iteration  620\n",
      "iteration  630\n",
      "iteration  630\n",
      "iteration  630\n",
      "iteration  640\n",
      "iteration  640\n",
      "iteration  640\n",
      "iteration  650\n",
      "iteration  650\n",
      "iteration  650\n",
      "iteration  660\n",
      "iteration  660\n",
      "iteration  660\n",
      "iteration  670\n",
      "iteration  670\n",
      "iteration  670\n",
      "iteration  680\n",
      "iteration  680\n",
      "iteration  680\n",
      "iteration  690\n",
      "iteration  690\n",
      "iteration  690\n",
      "iteration  700\n",
      "iteration  700\n",
      "iteration  700\n",
      "iteration  710\n",
      "iteration  710\n",
      "iteration  710\n",
      "iteration  720\n",
      "iteration  720\n",
      "iteration  730\n",
      "iteration  720\n",
      "iteration  730\n",
      "iteration  740\n",
      "iteration  730\n",
      "iteration  740\n",
      "iteration  740\n",
      "iteration  750\n",
      "iteration  750\n",
      "iteration  750\n",
      "iteration  760\n",
      "iteration  760\n",
      "iteration  760\n",
      "iteration  770\n",
      "iteration  770\n",
      "iteration  770\n",
      "iteration  780\n",
      "iteration  780\n",
      "iteration  780\n",
      "iteration  790\n",
      "iteration  790\n",
      "iteration  790\n",
      "iteration  800\n",
      "iteration  800\n",
      "iteration  800\n",
      "iteration  810\n",
      "iteration  810\n",
      "iteration  810\n",
      "iteration  820\n",
      "iteration  820\n",
      "iteration  820\n",
      "iteration  830\n",
      "iteration  830\n",
      "iteration  830\n",
      "iteration  840\n",
      "iteration  840\n",
      "iteration  840\n",
      "iteration  850\n",
      "iteration  850\n",
      "iteration  850\n",
      "iteration  860\n",
      "iteration  860\n",
      "iteration  860\n",
      "iteration  870\n",
      "iteration  880\n",
      "iteration  870\n",
      "iteration  870\n",
      "iteration  890\n",
      "iteration  880\n",
      "iteration  880\n",
      "iteration  900\n",
      "iteration  890\n",
      "iteration  890\n",
      "iteration  910\n",
      "iteration  900\n",
      "iteration  900\n",
      "iteration  920\n",
      "iteration  910\n",
      "iteration  910\n",
      "iteration  930\n",
      "iteration  920\n",
      "iteration  920\n",
      "iteration  930\n",
      "iteration  940\n",
      "iteration  930\n",
      "iteration  940\n",
      "iteration  950\n",
      "iteration  940\n",
      "iteration  950\n",
      "iteration  960\n",
      "iteration  950\n",
      "iteration  970\n",
      "iteration  960\n",
      "iteration  960\n",
      "iteration  980\n",
      "iteration  970\n",
      "iteration  970\n",
      "iteration  990\n",
      "iteration  980\n",
      "iteration  980\n",
      "iteration  990\n",
      "iteration  990\n",
      "[(array([101.9  , 104.375, 106.719, 108.96 , 111.09 , 113.098, 115.024,\n",
      "       116.92 , 118.69 , 120.422, 122.079]), array([0.29268671, 0.29063726, 0.28876059, 0.28698741, 0.28532286,\n",
      "       0.2838613 , 0.28246363, 0.2813807 , 0.28014705, 0.27906231,\n",
      "       0.27798044])), (array([ 97.829, 100.217, 102.546, 104.684, 106.641, 108.592, 110.472,\n",
      "       112.18 , 113.885, 115.507, 117.04 ]), array([0.28468427, 0.28259571, 0.28077901, 0.27924623, 0.27765141,\n",
      "       0.27624056, 0.27487411, 0.27373446, 0.27257515, 0.27141237,\n",
      "       0.27042467])), (array([101.946, 104.517, 106.891, 109.147, 111.223, 113.247, 115.185,\n",
      "       116.953, 118.691, 120.413, 122.039]), array([0.29015011, 0.28805888, 0.28622094, 0.28447101, 0.28286213,\n",
      "       0.28152901, 0.28025891, 0.27909022, 0.27788325, 0.27677739,\n",
      "       0.27578337]))]\n"
     ]
    }
   ],
   "source": [
    "cpu_count = mp.cpu_count() - 1 # for safety\n",
    "\n",
    "pool = mp.Pool(cpu_count)\n",
    "\n",
    "arguments = [{\"obj\":StochasticFragmentation(2, 0.75),\n",
    "                  \"total_iteration\":100_000,\n",
    "                  \"min_iteration\":50_000,\n",
    "                  \"iteration_step\":5_000,\n",
    "                  \"ensemble_size\":1000,\n",
    "                 } for i in range(cpu_count)]\n",
    "    \n",
    "results = pool.map(ensemble_average, [args for args in arguments])\n",
    "\n",
    "pool.close()\n",
    "\n",
    "print(results[:10])\n",
    "\n",
    "# N_average, M_average = ensemble_average()"
   ]
  },
  {
   "cell_type": "code",
   "execution_count": 53,
   "metadata": {},
   "outputs": [
    {
     "name": "stdout",
     "output_type": "stream",
     "text": [
      "[100.55833333 103.03633333 105.38533333 107.597      109.65133333\n",
      " 111.64566667 113.56033333 115.351      117.08866667 118.78066667\n",
      " 120.386     ]\n",
      "[0.2891737  0.28709729 0.28525351 0.28356821 0.28194546 0.28054362\n",
      " 0.27919888 0.27806846 0.27686848 0.27575069 0.27472949]\n"
     ]
    }
   ],
   "source": [
    "N_average, M_average  = 0, 0\n",
    "for res in results:\n",
    "    N_average += res[0]\n",
    "    M_average += res[1]\n",
    "    pass\n",
    "\n",
    "N_average = N_average/len(results)\n",
    "M_average = M_average/len(results)\n",
    "\n",
    "print(N_average)\n",
    "print(M_average)"
   ]
  },
  {
   "cell_type": "code",
   "execution_count": null,
   "metadata": {},
   "outputs": [],
   "source": []
  },
  {
   "cell_type": "code",
   "execution_count": 54,
   "metadata": {},
   "outputs": [
    {
     "name": "stdout",
     "output_type": "stream",
     "text": [
      "0.7787358405435251\n"
     ]
    },
    {
     "data": {
      "text/plain": [
       "Text(0, 0.5, 'ln N')"
      ]
     },
     "execution_count": 54,
     "metadata": {},
     "output_type": "execute_result"
    },
    {
     "data": {
      "image/png": "[encoded data removed]",
      "text/plain": [
       "<Figure size 432x288 with 1 Axes>"
      ]
     },
     "metadata": {
      "needs_background": "light"
     },
     "output_type": "display_data"
    }
   ],
   "source": [
    "N_log = np.log(N_average)\n",
    "minus_delta_log = N_log - np.log(M_average)\n",
    "slope, intercept = np.polyfit(minus_delta_log, N_log, 1)\n",
    "print(slope)\n",
    "plt.plot(minus_delta_log, N_log, \"o\")\n",
    "plt.xlabel(\"-ln delta\")\n",
    "plt.ylabel(\"ln N\")\n",
    "# plt.show()"
   ]
  },
  {
   "cell_type": "markdown",
   "metadata": {},
   "source": [
    "## Idea to make it faster\n",
    "\n",
    "1. each insert takes 5 times more time than just assigining value. because \"insert\" method inserts in some ranodm position \n",
    "2. same is not true for append. appends always inserts at the end\n",
    "3. so we only need to replace insert method with something else\n",
    "4. if we can find something where ordering or sequencing does not matter, this will be resolved\n",
    "5. instead of points we can work with segment length only. and corresponding flag and probability. Like the table bellow\n",
    "\n",
    "| length  | flag  | probability  |\n",
    "|---|---|---|\n",
    "|   |   |   |\n",
    "|   |   |   |  \n",
    "|   |   |   | \n",
    "\n",
    "7. Probably this can be made even faster by not using append in each iteration"
   ]
  },
  {
   "cell_type": "markdown",
   "metadata": {},
   "source": [
    "# Performance\n",
    "| method  | time\n",
    "|---|---|\n",
    "realization_value    | $1.19$ s\n",
    "realization_value_v2 | $241$ ms\n",
    "\n",
    "realization_value_v2 is $~5$ times faster"
   ]
  },
  {
   "cell_type": "markdown",
   "metadata": {},
   "source": [
    "# Results\n",
    "1. slope with realization_value    $0.779388458353189$\n",
    "2. slope with realization_value_v2 $0.7841054354669876$\n"
   ]
  },
  {
   "cell_type": "code",
   "execution_count": null,
   "metadata": {},
   "outputs": [],
   "source": []
  },
  {
   "cell_type": "code",
   "execution_count": 34,
   "metadata": {},
   "outputs": [
    {
     "data": {
      "text/plain": [
       "True"
      ]
     },
     "execution_count": 34,
     "metadata": {},
     "output_type": "execute_result"
    }
   ],
   "source": [
    "index = 1\n",
    "type(index) == int"
   ]
  },
  {
   "cell_type": "code",
   "execution_count": 35,
   "metadata": {},
   "outputs": [
    {
     "data": {
      "text/plain": [
       "type"
      ]
     },
     "execution_count": 35,
     "metadata": {},
     "output_type": "execute_result"
    }
   ],
   "source": [
    "type(int)"
   ]
  },
  {
   "cell_type": "code",
   "execution_count": 36,
   "metadata": {},
   "outputs": [
    {
     "data": {
      "text/plain": [
       "type"
      ]
     },
     "execution_count": 36,
     "metadata": {},
     "output_type": "execute_result"
    }
   ],
   "source": [
    "type"
   ]
  },
  {
   "cell_type": "code",
   "execution_count": 37,
   "metadata": {},
   "outputs": [
    {
     "data": {
      "text/plain": [
       "type"
      ]
     },
     "execution_count": 37,
     "metadata": {},
     "output_type": "execute_result"
    }
   ],
   "source": [
    "type(type)"
   ]
  },
  {
   "cell_type": "code",
   "execution_count": null,
   "metadata": {},
   "outputs": [],
   "source": []
  }
 ],
 "metadata": {
  "kernelspec": {
   "display_name": "Python 3",
   "language": "python",
   "name": "python3"
  },
  "language_info": {
   "codemirror_mode": {
    "name": "ipython",
    "version": 3
   },
   "file_extension": ".py",
   "mimetype": "text/x-python",
   "name": "python",
   "nbconvert_exporter": "python",
   "pygments_lexer": "ipython3",
   "version": "3.7.6"
  }
 },
 "nbformat": 4,
 "nbformat_minor": 4
}
