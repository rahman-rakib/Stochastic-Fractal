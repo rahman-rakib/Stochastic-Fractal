{
 "cells": [
  {
   "cell_type": "code",
   "execution_count": 49,
   "metadata": {},
   "outputs": [],
   "source": [
    "import random, numpy as np\n",
    "alphap = 2\n",
    "expon = 2 * alphap - 1\n",
    "probp = 0.75"
   ]
  },
  {
   "cell_type": "code",
   "execution_count": 50,
   "metadata": {},
   "outputs": [],
   "source": [
    "def betadist(alpha):\n",
    "    \"\"\"gives a random number from beta distribution\"\"\"\n",
    "    return random.betavariate(alpha,alpha)"
   ]
  },
  {
   "cell_type": "code",
   "execution_count": 51,
   "metadata": {},
   "outputs": [],
   "source": [
    "def decision(probability):\n",
    "    \"\"\"\n",
    "    decides with a given probability whether to keep the right part\n",
    "    \"\"\"\n",
    "    if float(probability) > random.random():\n",
    "        return True\n",
    "    else: \n",
    "        return False"
   ]
  },
  {
   "cell_type": "code",
   "execution_count": 52,
   "metadata": {},
   "outputs": [],
   "source": [
    "def splitting(left,right):\n",
    "    \"\"\"\n",
    "    splits a given segment. left and right are endpoints of the segment\n",
    "    \"\"\"\n",
    "    segment = right - left\n",
    "    xL = segment * betadist(alphap)\n",
    "    xR = segment - xL\n",
    "    splitpoint = left + xL\n",
    "    flag = decision(probp)\n",
    "    xLp = xL**expon\n",
    "    xRp = xR**expon\n",
    "    change = xLp + xRp - segment**expon\n",
    "    return splitpoint, flag, xLp, xRp, change"
   ]
  },
  {
   "cell_type": "code",
   "execution_count": 53,
   "metadata": {},
   "outputs": [],
   "source": [
    "def fraclen(List, index):\n",
    "    sum = 0\n",
    "    for i in range(len(List[:index+1])):\n",
    "        sum += List[i]\n",
    "    return sum"
   ]
  },
  {
   "cell_type": "code",
   "execution_count": 54,
   "metadata": {},
   "outputs": [],
   "source": [
    "def pickindex(expons, exponsum):\n",
    "    \"\"\"picks up a segment to be subsequently split\"\"\"\n",
    "    r = random.uniform(0, exponsum)\n",
    "    for index in range(len(expons)):\n",
    "            if fraclen(expons, index) < r: # this call to fraclen consumes time. use np.cumsum() \n",
    "                continue\n",
    "            else:\n",
    "                return index\n",
    "\n",
    "\n",
    "def pickindex_v2(expons, exponsum):\n",
    "    \"\"\"\n",
    "    comment : slower than v1\n",
    "    picks up a segment to be subsequently split\n",
    "    \"\"\"\n",
    "    r = random.uniform(0, exponsum)\n",
    "    expons_cumulative = np.cumsum(expons) # summing all might not be efficinnt. instead sum only what is needed\n",
    "    for index in range(len(expons)):\n",
    "            if expons_cumulative[index] < r:\n",
    "                continue\n",
    "            else:\n",
    "                return index\n",
    "            \n",
    "def pickindex_v3(expons, exponsum):\n",
    "    \"\"\"\n",
    "    comment : falser than v2 and v1\n",
    "    picks up a segment to be subsequently split\n",
    "    \"\"\"\n",
    "    r = random.uniform(0, exponsum)\n",
    "    sum_ = 0\n",
    "    for index in range(len(expons)):\n",
    "        sum_ += expons[index]\n",
    "        if sum_ < r:\n",
    "            continue\n",
    "        else:\n",
    "            return index"
   ]
  },
  {
   "cell_type": "code",
   "execution_count": 87,
   "metadata": {},
   "outputs": [
    {
     "name": "stdout",
     "output_type": "stream",
     "text": [
      "[0.0, 0.3860680276398328, 0.5034779932908803, 0.6520009304053185, 1.0]\n",
      "[True, False, True, False]\n",
      "[0.05754286889793422, 0.0016185081215093456, 0.003276276804340225, 0.042143853973486675]\n",
      "4\n",
      "0.10458150779727043\n"
     ]
    }
   ],
   "source": [
    "points = [0.,1.]\n",
    "flags = [True]\n",
    "expons = [1.] # like probability\n",
    "exponsum = 1.0 # sum  of probability\n",
    "\n",
    "for i in range(3):\n",
    "    # print(\"********step i=\", i)\n",
    "    index = pickindex_v3(expons, exponsum)\n",
    "    # print(\"chosen index = \", index)\n",
    "    if flags[index] == True:\n",
    "        left = points[index]\n",
    "        right = points[index+1]\n",
    "        splitpoint, flag, xLp, xRp, change = splitting(left,right)\n",
    "        points.insert(index+1,splitpoint)\n",
    "        flags.insert(index+1,flag)\n",
    "        #print(\"before expons \", expons)\n",
    "        \n",
    "#         del expons[index]\n",
    "#         expons.insert(index,xLp)\n",
    "\n",
    "        expons[index] = xLp # without deleting element\n",
    "\n",
    "        expons.insert(index+1,xRp)\n",
    "        #print(\"after expons \", expons)\n",
    "        exponsum += change\n",
    "        pass\n",
    "    pass\n",
    "\n",
    "print(points)\n",
    "print(flags)\n",
    "print(expons)\n",
    "print(len(expons))\n",
    "print(exponsum)\n",
    "# print(np.sum(expons))"
   ]
  },
  {
   "cell_type": "markdown",
   "metadata": {},
   "source": [
    "# Testing section"
   ]
  },
  {
   "cell_type": "code",
   "execution_count": 56,
   "metadata": {},
   "outputs": [
    {
     "name": "stdout",
     "output_type": "stream",
     "text": [
      "1.88 µs ± 31.7 ns per loop (mean ± std. dev. of 7 runs, 1000000 loops each)\n"
     ]
    }
   ],
   "source": [
    "%timeit pickindex(expons, exponsum)"
   ]
  },
  {
   "cell_type": "code",
   "execution_count": 57,
   "metadata": {},
   "outputs": [
    {
     "name": "stdout",
     "output_type": "stream",
     "text": [
      "5.97 µs ± 400 ns per loop (mean ± std. dev. of 7 runs, 100000 loops each)\n"
     ]
    }
   ],
   "source": [
    "%timeit pickindex_v2(expons, exponsum)"
   ]
  },
  {
   "cell_type": "code",
   "execution_count": 58,
   "metadata": {},
   "outputs": [
    {
     "name": "stdout",
     "output_type": "stream",
     "text": [
      "750 ns ± 8.78 ns per loop (mean ± std. dev. of 7 runs, 1000000 loops each)\n"
     ]
    }
   ],
   "source": [
    "%timeit pickindex_v3(expons, exponsum)"
   ]
  },
  {
   "cell_type": "code",
   "execution_count": 59,
   "metadata": {},
   "outputs": [],
   "source": [
    "def view(points, flags, expons):\n",
    "    flag_list = flags + [False]\n",
    "    expon_list = expons + [0.]\n",
    "    Norma = np.sum(expon_list)\n",
    "    print(Norma)\n",
    "    print(exponsum)\n",
    "    if (exponsum - Norma) > 1e-6:\n",
    "        print(\"Normalization mismatched\")\n",
    "        pass\n",
    "    print(\"left point, flag, probability\")\n",
    "    for a,b,c in zip(points, flag_list, expon_list):\n",
    "        print(\"[{:10.5}, {:5}, {:10.5}]\".format(a, b, c/Norma))\n",
    "        pass\n",
    "    pass "
   ]
  },
  {
   "cell_type": "code",
   "execution_count": 60,
   "metadata": {},
   "outputs": [
    {
     "name": "stdout",
     "output_type": "stream",
     "text": [
      "0.16905595792737185\n",
      "0.16905595792737177\n",
      "left point, flag, probability\n",
      "[       0.0,     1,   0.025983]\n",
      "[   0.16377,     1,    0.21705]\n",
      "[   0.49607,     0,    0.75697]\n",
      "[       1.0,     0,        0.0]\n"
     ]
    }
   ],
   "source": [
    "view(points, flags, expons)"
   ]
  },
  {
   "cell_type": "code",
   "execution_count": 61,
   "metadata": {},
   "outputs": [
    {
     "data": {
      "text/plain": [
       "array([ 1,  3,  6, 10, 15])"
      ]
     },
     "execution_count": 61,
     "metadata": {},
     "output_type": "execute_result"
    }
   ],
   "source": [
    "a = [1,2,3,4,5]\n",
    "np.cumsum(a)"
   ]
  },
  {
   "cell_type": "code",
   "execution_count": 62,
   "metadata": {},
   "outputs": [],
   "source": [
    "b = [1,2,3,4]"
   ]
  },
  {
   "cell_type": "code",
   "execution_count": 63,
   "metadata": {},
   "outputs": [
    {
     "data": {
      "text/plain": [
       "[1, 2, 3, 4]"
      ]
     },
     "execution_count": 63,
     "metadata": {},
     "output_type": "execute_result"
    }
   ],
   "source": [
    "b"
   ]
  },
  {
   "cell_type": "code",
   "execution_count": 64,
   "metadata": {},
   "outputs": [],
   "source": [
    "del b[0]\n",
    "b.insert(0, 11)"
   ]
  },
  {
   "cell_type": "code",
   "execution_count": 65,
   "metadata": {},
   "outputs": [
    {
     "data": {
      "text/plain": [
       "[11, 2, 3, 4]"
      ]
     },
     "execution_count": 65,
     "metadata": {},
     "output_type": "execute_result"
    }
   ],
   "source": [
    "b"
   ]
  },
  {
   "cell_type": "code",
   "execution_count": 66,
   "metadata": {},
   "outputs": [],
   "source": [
    "b[0] = 11"
   ]
  },
  {
   "cell_type": "code",
   "execution_count": 67,
   "metadata": {},
   "outputs": [
    {
     "data": {
      "text/plain": [
       "[11, 2, 3, 4]"
      ]
     },
     "execution_count": 67,
     "metadata": {},
     "output_type": "execute_result"
    }
   ],
   "source": [
    "b"
   ]
  },
  {
   "cell_type": "code",
   "execution_count": null,
   "metadata": {},
   "outputs": [],
   "source": []
  },
  {
   "cell_type": "code",
   "execution_count": null,
   "metadata": {},
   "outputs": [],
   "source": []
  },
  {
   "cell_type": "code",
   "execution_count": null,
   "metadata": {},
   "outputs": [],
   "source": []
  }
 ],
 "metadata": {
  "kernelspec": {
   "display_name": "Python 3",
   "language": "python",
   "name": "python3"
  },
  "language_info": {
   "codemirror_mode": {
    "name": "ipython",
    "version": 3
   },
   "file_extension": ".py",
   "mimetype": "text/x-python",
   "name": "python",
   "nbconvert_exporter": "python",
   "pygments_lexer": "ipython3",
   "version": "3.7.6"
  }
 },
 "nbformat": 4,
 "nbformat_minor": 4
}
