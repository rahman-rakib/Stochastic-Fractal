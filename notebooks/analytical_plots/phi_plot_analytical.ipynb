{
 "cells": [
  {
   "cell_type": "code",
   "execution_count": 9,
   "metadata": {},
   "outputs": [],
   "source": [
    "import numpy as np\n",
    "import scipy.special as sc\n",
    "import os"
   ]
  },
  {
   "cell_type": "code",
   "execution_count": 10,
   "metadata": {},
   "outputs": [
    {
     "name": "stdout",
     "output_type": "stream",
     "text": [
      "['phi_plot_2.pdf', 'fractal_dim_alpha_2.pdf', 'pn_data_coll_alpha_2.pdf', 'conservation_alpha_2.pdf', 'z_alpha_2.pdf']\n",
      "output filename is :  ../../figures/alpha2/phi_plot_2.pdf\n"
     ]
    }
   ],
   "source": [
    "alphap = 2\n",
    "fig_name = \"phi_plot_{}.pdf\".format(alphap)\n",
    "dir_fig = \"../../figures/alpha{}/\".format(alphap)\n",
    "filename = dir_fig + fig_name\n",
    "print(os.listdir(dir_fig))\n",
    "print(\"output filename is : \", filename)"
   ]
  },
  {
   "cell_type": "markdown",
   "metadata": {},
   "source": [
    "## Function definitions"
   ]
  },
  {
   "cell_type": "code",
   "execution_count": 11,
   "metadata": {},
   "outputs": [],
   "source": [
    "n_star = np.linspace(0,1,1_000_001)\n",
    "\n",
    "def func_trans(n_star,alpha,p):\n",
    "    \"\"\"left-hand side of transcendental equation defined as a numpy array\"\"\"\n",
    "    return (sc.gamma(n_star+alpha)*sc.gamma(2*alpha))/(sc.gamma(n_star+2*alpha)*sc.gamma(alpha))-1/(1+p)"
   ]
  },
  {
   "cell_type": "code",
   "execution_count": 12,
   "metadata": {},
   "outputs": [],
   "source": [
    "def find_df(alpha,p):\n",
    "    \"\"\"root finding by minimizing the cost function: square of left-hanad side\"\"\"\n",
    "    cost_array = func_trans(n_star,alpha,p)**2\n",
    "    min_index = np.argmin(cost_array)\n",
    "    df_value = n_star[min_index]\n",
    "    df_rounded = float(\"{:.6f}\".format(df_value))\n",
    "    return df_rounded"
   ]
  },
  {
   "cell_type": "code",
   "execution_count": 13,
   "metadata": {},
   "outputs": [],
   "source": [
    "def phi_list(alpha,p):\n",
    "    xi_list = np.linspace(0,2,10_001)\n",
    "    df = find_df(alpha,p)\n",
    "    \n",
    "    if alpha == 1:\n",
    "        density = np.exp(-xi_list)\n",
    "        return xi_list, density\n",
    "    \n",
    "    elif alpha == 2:\n",
    "        c2 = -(sc.gamma(1/3)/sc.gamma(5/3))*(sc.gamma((df+5)/3)/sc.gamma((df+3)/3))\n",
    "        density1 = -3*(df+2)*(xi_list**2)*sc.hyp1f1(-(df-1)/3, 4/3, -xi_list**3)\n",
    "        density2 = -(3/5)*c2*df*(xi_list**4)*sc.hyp1f1(-(df-3)/3, 8/3, -xi_list**3)\n",
    "        density3 = -2*c2*(xi_list)*sc.hyp1f1(-df/3, 5/3, -xi_list**3)\n",
    "        density = density1 + density2+ density3\n",
    "        return xi_list, density\n",
    "    \n",
    "    elif alpha == 3:\n",
    "        \n",
    "        if abs(p-0.1) <= 1e-6:\n",
    "            filename = 'phi_0_10_list.csv'\n",
    "            \n",
    "        elif abs(p-0.5) <= 1e-6:\n",
    "            filename = 'phi_0_50_list.csv'\n",
    "\n",
    "        elif abs(p-0.9) <= 1e-6:\n",
    "            filename = 'phi_0_90_list.csv'\n",
    "            \n",
    "        elif abs(p-0.75) <= 1e-6:\n",
    "            filename = 'phi_0_75_list.csv'\n",
    "            \n",
    "        else:\n",
    "            print('analytical plot available only for p-values 0.10, 0.50, 0.75 and 0.90')\n",
    "            return None\n",
    "            \n",
    "        density = np.loadtxt(filename)\n",
    "        if density.shape[0]!=xi_list.shape[0]:\n",
    "            print('density.shape[0]!=xi_list.shape[0]')\n",
    "        return xi_list, density\n",
    "            \n",
    "    else:\n",
    "        print('the analytical solution for alpha = {} value is unknown'.format(alpha))"
   ]
  },
  {
   "cell_type": "code",
   "execution_count": null,
   "metadata": {},
   "outputs": [
    {
     "name": "stdout",
     "output_type": "stream",
     "text": [
      "../../figures/alpha2/phi_plot_2.pdf\n"
     ]
    }
   ],
   "source": [
    "import matplotlib.pyplot as plt\n",
    "\n",
    "fig, ax = plt.subplots(1, 1, figsize=(5, 3.5), dpi=300)\n",
    "p_values = [0.1, 0.5, 0.9]\n",
    "\n",
    "for p in p_values:\n",
    "    x,y = phi_list(alphap,p)\n",
    "    #plt.plot(x, y)\n",
    "    plt.plot(x, y, label=r\"$p={:.1f}$\".format(p), linewidth=0.8)\n",
    "    pass\n",
    "\n",
    "plt.legend(loc=1)\n",
    "plt.xlabel(r\"$\\xi$\")\n",
    "plt.ylabel(r\"$\\phi(\\xi)$\")\n",
    "ax.set_position([0.15, 0.15, 0.8, 0.8])\n",
    "print(filename)\n",
    "# plt.savefig(filename)"
   ]
  },
  {
   "cell_type": "code",
   "execution_count": null,
   "metadata": {},
   "outputs": [],
   "source": []
  }
 ],
 "metadata": {
  "kernelspec": {
   "display_name": "Python 3",
   "language": "python",
   "name": "python3"
  },
  "language_info": {
   "codemirror_mode": {
    "name": "ipython",
    "version": 3
   },
   "file_extension": ".py",
   "mimetype": "text/x-python",
   "name": "python",
   "nbconvert_exporter": "python",
   "pygments_lexer": "ipython3",
   "version": "3.8.3"
  }
 },
 "nbformat": 4,
 "nbformat_minor": 4
}
