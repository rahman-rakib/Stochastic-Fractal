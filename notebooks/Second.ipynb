{
 "cells": [
  {
   "cell_type": "code",
   "execution_count": 1,
   "metadata": {},
   "outputs": [],
   "source": [
    "import random, numpy as np\n",
    "alphap = 2\n",
    "expon = 2 * alphap - 1\n",
    "probp = 0.75"
   ]
  },
  {
   "cell_type": "code",
   "execution_count": 2,
   "metadata": {},
   "outputs": [],
   "source": [
    "def betadist(alpha):\n",
    "        return random.betavariate(alpha,alpha)"
   ]
  },
  {
   "cell_type": "code",
   "execution_count": 3,
   "metadata": {},
   "outputs": [],
   "source": [
    "def decision(probability):\n",
    "    \"\"\"\n",
    "    decides with a given probability whether to keep the right part\n",
    "    \"\"\"\n",
    "    if float(probability) > random.random():\n",
    "        return True\n",
    "    else: \n",
    "        return False"
   ]
  },
  {
   "cell_type": "code",
   "execution_count": 4,
   "metadata": {},
   "outputs": [],
   "source": [
    "def splitting(segment):\n",
    "    \"\"\"\n",
    "    splits a given segment. here segment is a length, not endpoints\n",
    "    \"\"\"\n",
    "    xL = segment * betadist(alphap)\n",
    "    xR = segment - xL\n",
    "    flag = decision(probp)\n",
    "    change = xL**expon + xR**expon - segment**expon\n",
    "    return xL, xR, flag, change"
   ]
  },
  {
   "cell_type": "code",
   "execution_count": 5,
   "metadata": {},
   "outputs": [],
   "source": [
    "def length(position,endpoints):\n",
    "    \"\"\"gives the length for given endpoints\"\"\"\n",
    "    if position >= len(endpoints)-1:\n",
    "        print('Out of range!')\n",
    "    a = endpoints[position + 1] - endpoints[position]\n",
    "    return a"
   ]
  },
  {
   "cell_type": "code",
   "execution_count": 6,
   "metadata": {},
   "outputs": [],
   "source": [
    "points = [0.,1.]\n",
    "flags = [True]\n",
    "cubes = [1.]\n",
    "norm = 1.0"
   ]
  },
  {
   "cell_type": "code",
   "execution_count": 7,
   "metadata": {},
   "outputs": [
    {
     "name": "stdout",
     "output_type": "stream",
     "text": [
      "1.0\n"
     ]
    }
   ],
   "source": [
    "segment = length(0,points)\n",
    "print(segment)\n",
    "xL, xR, flag, change = splitting(segment)\n",
    "norm += change"
   ]
  },
  {
   "cell_type": "code",
   "execution_count": 8,
   "metadata": {},
   "outputs": [],
   "source": [
    "def findindex(splitpoint,points):\n",
    "    points = np.array(points)\n",
    "    b = np.abs(points - splitpoint)\n",
    "    c = b.argmin()\n",
    "    if splitpoint > points[c]:\n",
    "        c += 1\n",
    "    return c"
   ]
  }
 ],
 "metadata": {
  "kernelspec": {
   "display_name": "Python 3",
   "language": "python",
   "name": "python3"
  },
  "language_info": {
   "codemirror_mode": {
    "name": "ipython",
    "version": 3
   },
   "file_extension": ".py",
   "mimetype": "text/x-python",
   "name": "python",
   "nbconvert_exporter": "python",
   "pygments_lexer": "ipython3",
   "version": "3.7.6"
  }
 },
 "nbformat": 4,
 "nbformat_minor": 4
}
