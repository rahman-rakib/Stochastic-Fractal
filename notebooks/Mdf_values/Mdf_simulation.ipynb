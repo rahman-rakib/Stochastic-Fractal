{
 "cells": [
  {
   "cell_type": "code",
   "execution_count": 2,
   "metadata": {},
   "outputs": [],
   "source": [
    "import random, numpy as np, pandas as pd\n",
    "from matplotlib import pyplot as plt"
   ]
  },
  {
   "cell_type": "markdown",
   "metadata": {},
   "source": [
    "### User can change these values"
   ]
  },
  {
   "cell_type": "code",
   "execution_count": null,
   "metadata": {},
   "outputs": [],
   "source": [
    "alphap = 3  # any real positive value larger than 0.5\n",
    "probp = 0.75 # any value between 0 and 1\n",
    "\n",
    "total_iterationp = 1_000_000\n",
    "min_iterationp = 100_000\n",
    "iteration_stepp = 50_000\n",
    "ensemble_sizep = 50_000\n"
   ]
  },
  {
   "cell_type": "code",
   "execution_count": 1,
   "metadata": {},
   "outputs": [],
   "source": [
    "expon = 2 * alphap - 1\n",
    "progress_step = ensemble_sizep//100\n",
    "\n",
    "dir_data = \"../../data/alpha{}/\".format(alphap)\n",
    "dir_figure = \"../../figures/alpha{}/\".format(alphap)\n",
    "\n",
    "filename_data = dir_data + \"Mdf_alpha_{}_p_{}\".format(alphap,probp)"
   ]
  },
  {
   "cell_type": "markdown",
   "metadata": {},
   "source": [
    "## Function definitions"
   ]
  },
  {
   "cell_type": "code",
   "execution_count": 3,
   "metadata": {},
   "outputs": [],
   "source": [
    "import scipy.special as sc\n",
    "\n",
    "n_star = np.linspace(0,1,1_000_001)\n",
    "\n",
    "def func_trans(n_star,alpha,p):\n",
    "    \"\"\"left-hand side of transcendental equation defined as a numpy array\"\"\"\n",
    "    return (sc.gamma(n_star+alpha)*sc.gamma(2*alpha))/(sc.gamma(n_star+2*alpha)*sc.gamma(alpha))-1/(1+p)"
   ]
  },
  {
   "cell_type": "code",
   "execution_count": 4,
   "metadata": {},
   "outputs": [],
   "source": [
    "def find_df(alpha,p):\n",
    "    \"\"\"root finding by minimizing the cost function: square of left-hanad side\"\"\"\n",
    "    cost_array = func_trans(n_star,alpha,p)**2\n",
    "    min_index = np.argmin(cost_array)\n",
    "    df_value = n_star[min_index]\n",
    "    #df_rounded = float(\"{:.6f}\".format(df_value))\n",
    "    #return df_rounded\n",
    "    return df_value"
   ]
  },
  {
   "cell_type": "code",
   "execution_count": 5,
   "metadata": {},
   "outputs": [],
   "source": [
    "def betadist(alpha):\n",
    "    \"\"\"gives a random number from beta distribution\"\"\"\n",
    "    return random.betavariate(alpha,alpha)"
   ]
  },
  {
   "cell_type": "code",
   "execution_count": 6,
   "metadata": {},
   "outputs": [],
   "source": [
    "def decision(probability):\n",
    "    \"\"\"\n",
    "    decides with a given probability whether to keep the right part\n",
    "    \"\"\"\n",
    "    if float(probability) > random.random():\n",
    "        return float(1)\n",
    "    else: \n",
    "        return float(0)"
   ]
  },
  {
   "cell_type": "code",
   "execution_count": 7,
   "metadata": {},
   "outputs": [],
   "source": [
    "def splitting(segment):\n",
    "    \"\"\"\n",
    "    splits a given segment. left and right are endpoints of the segment\n",
    "    returns : \n",
    "        xL -> length of the left segment\n",
    "        xR -> length of the right segment\n",
    "        flag -> keeping the right segment\n",
    "        xLp, xRp -> probability(unnormalized) for being selected\n",
    "        change -> change of normalization const\n",
    "    \"\"\"\n",
    "    xL = segment * betadist(alphap)\n",
    "    flag = decision(probp)\n",
    "    xR = (segment - xL) * flag\n",
    "    xLp = xL**expon\n",
    "    xRp = xR**expon\n",
    "    change = xLp + xRp - segment**expon\n",
    "    \n",
    "    return xL, xR, xLp, xRp, change"
   ]
  },
  {
   "cell_type": "code",
   "execution_count": 8,
   "metadata": {},
   "outputs": [],
   "source": [
    "def pickindex(frac_prob, frac_sum):\n",
    "    \"\"\"\n",
    "    picks up a segment to be subsequently split\n",
    "    \"\"\"\n",
    "    r = random.uniform(0,1)\n",
    "    \n",
    "    if r <= frac_sum:\n",
    "        sum_ = 0\n",
    "        for index in range(len(frac_prob)):\n",
    "            sum_ += frac_prob[index]\n",
    "            if sum_ < r:\n",
    "                continue\n",
    "            else:\n",
    "                return index"
   ]
  },
  {
   "cell_type": "code",
   "execution_count": 9,
   "metadata": {},
   "outputs": [],
   "source": [
    "fractal_dim = find_df(alphap,probp)\n",
    "\n",
    "def fractal_length(lengths):\n",
    "    \"\"\"\n",
    "    df-th moment\n",
    "    \"\"\"\n",
    "    M_frac = 0\n",
    "\n",
    "    for i in lengths:\n",
    "        if i != float(0):\n",
    "            M_frac += i**fractal_dim\n",
    "            pass\n",
    "        pass\n",
    "    return M_frac"
   ]
  },
  {
   "cell_type": "code",
   "execution_count": 10,
   "metadata": {},
   "outputs": [],
   "source": [
    "def realization_value(total_iteration, min_iteration, iteration_step):\n",
    "    \"\"\"\n",
    "    creates a list of df-th moment at different time for a given realization\n",
    "    \"\"\"\n",
    "    lengths = [1.]\n",
    "    frac_prob = [1.] \n",
    "    frac_sum = 1.0\n",
    "\n",
    "    iteration_list = list(range(min_iteration, total_iteration + 1, iteration_step))\n",
    "    \n",
    "    M_realization = []\n",
    "    \n",
    "    for i in range(total_iteration + 1):\n",
    "        \n",
    "        index = pickindex(frac_prob, frac_sum)\n",
    "        \n",
    "        if index != None:\n",
    "\n",
    "            xL, xR, xLp, xRp, change = splitting(lengths[index])\n",
    "            \n",
    "            lengths[index] = xL\n",
    "            frac_prob[index] = xLp \n",
    "            \n",
    "            if xR != float(0):\n",
    "                lengths.append(xR)\n",
    "                frac_prob.append(xRp)\n",
    "            \n",
    "            frac_sum += change\n",
    "            pass\n",
    "        \n",
    "        if i+1 in iteration_list:\n",
    "            M_frac = fractal_length(lengths)\n",
    "            M_realization.append(M_frac)\n",
    "        pass \n",
    "      \n",
    "    return np.array(M_realization)"
   ]
  },
  {
   "cell_type": "code",
   "execution_count": 11,
   "metadata": {},
   "outputs": [],
   "source": [
    "def ensemble_average(total_iteration, min_iteration, iteration_step, ensemble_size):\n",
    "    \"\"\"\n",
    "    takes the ensemble average of df-th moment\n",
    "    \"\"\"\n",
    "    data_points = int ((total_iteration - min_iteration)/iteration_step + 1)\n",
    "    M_ensemble = np.zeros(data_points)\n",
    "    \n",
    "    for i in range(ensemble_size):\n",
    "        if i % progress_step == 0:\n",
    "            print(\"working with realization \",i)\n",
    "        M_list = realization_value(total_iteration, min_iteration, iteration_step)\n",
    "        M_ensemble += M_list\n",
    "        pass\n",
    "    \n",
    "    Mdf_list = M_ensemble/ensemble_size\n",
    "    \n",
    "    return Mdf_list"
   ]
  },
  {
   "cell_type": "markdown",
   "metadata": {},
   "source": [
    "## Simulation"
   ]
  },
  {
   "cell_type": "code",
   "execution_count": 12,
   "metadata": {},
   "outputs": [
    {
     "name": "stdout",
     "output_type": "stream",
     "text": [
      "working with realization  0\n",
      "working with realization  500\n",
      "working with realization  1000\n",
      "working with realization  1500\n",
      "working with realization  2000\n",
      "working with realization  2500\n",
      "working with realization  3000\n",
      "working with realization  3500\n",
      "working with realization  4000\n",
      "working with realization  4500\n",
      "working with realization  5000\n",
      "working with realization  5500\n",
      "working with realization  6000\n",
      "working with realization  6500\n",
      "working with realization  7000\n",
      "working with realization  7500\n",
      "working with realization  8000\n",
      "working with realization  8500\n",
      "working with realization  9000\n",
      "working with realization  9500\n",
      "working with realization  10000\n",
      "working with realization  10500\n",
      "working with realization  11000\n",
      "working with realization  11500\n",
      "working with realization  12000\n",
      "working with realization  12500\n",
      "working with realization  13000\n",
      "working with realization  13500\n",
      "working with realization  14000\n",
      "working with realization  14500\n",
      "working with realization  15000\n",
      "working with realization  15500\n",
      "working with realization  16000\n",
      "working with realization  16500\n",
      "working with realization  17000\n",
      "working with realization  17500\n",
      "working with realization  18000\n",
      "working with realization  18500\n",
      "working with realization  19000\n",
      "working with realization  19500\n",
      "working with realization  20000\n",
      "working with realization  20500\n",
      "working with realization  21000\n",
      "working with realization  21500\n",
      "working with realization  22000\n",
      "working with realization  22500\n",
      "working with realization  23000\n",
      "working with realization  23500\n",
      "working with realization  24000\n",
      "working with realization  24500\n",
      "working with realization  25000\n",
      "working with realization  25500\n",
      "working with realization  26000\n",
      "working with realization  26500\n",
      "working with realization  27000\n",
      "working with realization  27500\n",
      "working with realization  28000\n",
      "working with realization  28500\n",
      "working with realization  29000\n",
      "working with realization  29500\n",
      "working with realization  30000\n",
      "working with realization  30500\n",
      "working with realization  31000\n",
      "working with realization  31500\n",
      "working with realization  32000\n",
      "working with realization  32500\n",
      "working with realization  33000\n",
      "working with realization  33500\n",
      "working with realization  34000\n",
      "working with realization  34500\n",
      "working with realization  35000\n",
      "working with realization  35500\n",
      "working with realization  36000\n",
      "working with realization  36500\n",
      "working with realization  37000\n",
      "working with realization  37500\n",
      "working with realization  38000\n",
      "working with realization  38500\n",
      "working with realization  39000\n",
      "working with realization  39500\n",
      "working with realization  40000\n",
      "working with realization  40500\n",
      "working with realization  41000\n",
      "working with realization  41500\n",
      "working with realization  42000\n",
      "working with realization  42500\n",
      "working with realization  43000\n",
      "working with realization  43500\n",
      "working with realization  44000\n",
      "working with realization  44500\n",
      "working with realization  45000\n",
      "working with realization  45500\n",
      "working with realization  46000\n",
      "working with realization  46500\n",
      "working with realization  47000\n",
      "working with realization  47500\n",
      "working with realization  48000\n",
      "working with realization  48500\n",
      "working with realization  49000\n",
      "working with realization  49500\n"
     ]
    }
   ],
   "source": [
    "time_list = np.arange(min_iterationp, total_iterationp+iteration_stepp, iteration_stepp)\n",
    "Mdf_list = ensemble_average(total_iterationp, min_iterationp, iteration_stepp, ensemble_sizep)\n",
    "Mdf_avg = np.average(Mdf_list)"
   ]
  },
  {
   "cell_type": "code",
   "execution_count": 13,
   "metadata": {
    "scrolled": true
   },
   "outputs": [
    {
     "name": "stdout",
     "output_type": "stream",
     "text": [
      "{\"alpha\": 3, \"probability\": 0.75, \"ensemble_size\": 50000, \"total_iteraion\": 1000000, \"Mdf_avg\": \"0.99875\", \"cols\": [\"t\", \"M_df\"]}\n"
     ]
    }
   ],
   "source": [
    "import json\n",
    "\n",
    "header = dict()\n",
    "header['alpha'] = alphap\n",
    "header['probability'] = probp\n",
    "header['ensemble_size'] = ensemble_sizep\n",
    "header['total_iteraion'] = total_iterationp\n",
    "header['Mdf_avg']= \"{:.5f}\".format(Mdf_avg)\n",
    "header['cols'] = [\"t\", \"M_df\"]\n",
    "\n",
    "header_str = json.dumps(header)\n",
    "print(header_str)\n",
    "print(filename_data)\n",
    "# np.savetxt(filename_data, np.c_[time_list, Mdf_list], header=header_str)"
   ]
  },
  {
   "cell_type": "code",
   "execution_count": 14,
   "metadata": {},
   "outputs": [
    {
     "data": {
      "image/png": "[encoded data removed]",
      "text/plain": [
       "<Figure size 1500x1050 with 1 Axes>"
      ]
     },
     "metadata": {
      "needs_background": "light"
     },
     "output_type": "display_data"
    }
   ],
   "source": [
    "from matplotlib import ticker\n",
    "\n",
    "fig, axes = plt.subplots(1,1,figsize = (5,3.5),dpi = 300)\n",
    "plt.plot(time_list, 0*time_list+Mdf_avg, label=r\"$\\langle M_{d_f}\\rangle_{fitted}=$\"+\"{:.5f}\".format(Mdf_avg), color='tab:blue')\n",
    "plt.plot(time_list, Mdf_list, \"o\", color='tab:orange', markersize=4)\n",
    "plt.legend(fontsize=6, loc=2)\n",
    "plt.xlabel(r\"$t$\")\n",
    "plt.ylabel(r\"$\\langle M_{d_f}\\rangle$\")\n",
    "plt.ylim([0.6, 1.4])\n",
    "axes.set_position([0.15,0.15,0.75,0.75])\n",
    "\n",
    "formatter = ticker.ScalarFormatter(useMathText=True)\n",
    "formatter.set_scientific(True) \n",
    "formatter.set_powerlimits((-1,1)) \n",
    "axes.xaxis.set_major_formatter(formatter) \n",
    "\n",
    "filename = dir_figure + \"Mdf_alpha_{}.pdf\".format(alphap)\n",
    "print(filename)\n",
    "# plt.savefig(filename)"
   ]
  },
  {
   "cell_type": "code",
   "execution_count": null,
   "metadata": {},
   "outputs": [],
   "source": []
  }
 ],
 "metadata": {
  "kernelspec": {
   "display_name": "Python 3",
   "language": "python",
   "name": "python3"
  },
  "language_info": {
   "codemirror_mode": {
    "name": "ipython",
    "version": 3
   },
   "file_extension": ".py",
   "mimetype": "text/x-python",
   "name": "python",
   "nbconvert_exporter": "python",
   "pygments_lexer": "ipython3",
   "version": "3.8.3"
  }
 },
 "nbformat": 4,
 "nbformat_minor": 4
}
