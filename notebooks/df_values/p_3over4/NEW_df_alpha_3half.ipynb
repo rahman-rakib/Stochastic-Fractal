{
 "cells": [
  {
   "cell_type": "code",
   "execution_count": 1,
   "metadata": {},
   "outputs": [],
   "source": [
    "import random, numpy as np, pandas as pd\n",
    "from matplotlib import pyplot as plt\n",
    "import seaborn as sns\n",
    "alphap = 1.5\n",
    "probp = 0.75\n",
    "expon = 2 * alphap - 1"
   ]
  },
  {
   "cell_type": "code",
   "execution_count": 2,
   "metadata": {},
   "outputs": [],
   "source": [
    "def betadist(alpha):\n",
    "    \"\"\"gives a random number from beta distribution\"\"\"\n",
    "    return random.betavariate(alpha,alpha)"
   ]
  },
  {
   "cell_type": "code",
   "execution_count": 3,
   "metadata": {},
   "outputs": [],
   "source": [
    "def decision(probability):\n",
    "    \"\"\"\n",
    "    decides with a given probability whether to keep the right part\n",
    "    \"\"\"\n",
    "    if float(probability) > random.random():\n",
    "        return True\n",
    "    else: \n",
    "        return False"
   ]
  },
  {
   "cell_type": "code",
   "execution_count": 4,
   "metadata": {},
   "outputs": [],
   "source": [
    "def splitting(segment):\n",
    "    \"\"\"\n",
    "    splits a given segment. left and right are endpoints of the segment\n",
    "    returns : \n",
    "        xL -> length of the left segment\n",
    "        xR -> length of the right segment\n",
    "        flag -> keeping the right segment\n",
    "        xLp, xRp -> probability(unnormalized) for being selected\n",
    "        change -> change of normalization const\n",
    "    \"\"\"\n",
    "    xL = segment * betadist(alphap)\n",
    "    xR = segment - xL\n",
    "    flag = decision(probp)\n",
    "    xLp = xL**expon\n",
    "    xRp = xR**expon\n",
    "    change = xLp + xRp - segment**expon\n",
    "    return xL, xR, flag, xLp, xRp, change"
   ]
  },
  {
   "cell_type": "code",
   "execution_count": 5,
   "metadata": {},
   "outputs": [],
   "source": [
    "# def pickindex(frag_prob, frag_prob_sum):\n",
    "#     \"\"\"\n",
    "#     picks up a segment to be subsequently split\n",
    "#     \"\"\"\n",
    "#     r = random.uniform(0, frag_prob_sum)\n",
    "#     sum_ = 0\n",
    "#     for index in range(len(frag_prob)):\n",
    "#         sum_ += frag_prob[index]\n",
    "#         if sum_ < r:\n",
    "#             continue\n",
    "#         else:\n",
    "#             return index"
   ]
  },
  {
   "cell_type": "code",
   "execution_count": 6,
   "metadata": {},
   "outputs": [],
   "source": [
    "def pickindex(frag_prob, frac_sum):\n",
    "    \"\"\"\n",
    "    picks up a segment to be subsequently split\n",
    "    \"\"\"\n",
    "    r = random.uniform(0,1)\n",
    "    \n",
    "    if r <= frac_sum:\n",
    "        sum_ = 0\n",
    "        for index in range(len(frag_prob)):\n",
    "            sum_ += frag_prob[index]\n",
    "            if sum_ < r:\n",
    "                continue\n",
    "            else:\n",
    "                return index"
   ]
  },
  {
   "cell_type": "code",
   "execution_count": 7,
   "metadata": {},
   "outputs": [],
   "source": [
    "def number_length(segment_lengths,flags):\n",
    "    \n",
    "    N = 0\n",
    "    M = 0\n",
    "\n",
    "    for i in range(len(flags)):\n",
    "        if flags[i]:\n",
    "            N += 1\n",
    "            M += segment_lengths[i]\n",
    "            pass\n",
    "        pass\n",
    "    return N, M"
   ]
  },
  {
   "cell_type": "code",
   "execution_count": 8,
   "metadata": {},
   "outputs": [],
   "source": [
    "def realization_value(total_iteration, min_iteration, iteration_step):\n",
    "    \n",
    "    lengths = [1.]\n",
    "    flags = [True]\n",
    "    frag_prob = [1.] # raw probability, not normalized\n",
    "    #frag_prob_sum = 1.0 # normalization const\n",
    "    frac_sum = 1.0\n",
    "\n",
    "    iteration_list = list(range(min_iteration, total_iteration + 1, iteration_step))\n",
    "    N_realization = []\n",
    "    M_realization = []\n",
    "    \n",
    "    for i in range(total_iteration + 1):\n",
    "        \n",
    "        #index = pickindex(frag_prob, frag_prob_sum)\n",
    "        index = pickindex(frag_prob, frac_sum)\n",
    "        \n",
    "        if index != None and flags[index] == True:\n",
    "\n",
    "            xL, xR, flag, xLp, xRp, change = splitting(lengths[index])\n",
    "            \n",
    "            lengths[index] = xL\n",
    "            lengths.append(xR)\n",
    "            flags.append(flag)\n",
    "            frag_prob[index] = xLp \n",
    "            frag_prob.append(xRp)\n",
    "            #frag_prob_sum += change\n",
    "            frac_sum += change\n",
    "            pass\n",
    "        \n",
    "        if i+1 in iteration_list:\n",
    "            N, M = number_length(lengths,flags)\n",
    "            N_realization.append(N)\n",
    "            M_realization.append(M)\n",
    "        pass \n",
    "    \n",
    "    N_list = np.array(N_realization)\n",
    "    M_list = np.array(M_realization)\n",
    "    \n",
    "    return N_list, M_list"
   ]
  },
  {
   "cell_type": "code",
   "execution_count": 9,
   "metadata": {},
   "outputs": [],
   "source": [
    "# import time\n",
    "# t1 = time.time()\n",
    "# realization_value(100_000, 10_000, 10_000)\n",
    "# t2 = time.time()\n",
    "# run_time = t2 - t1\n",
    "# print(\"run_time is \", run_time, \" sec\")"
   ]
  },
  {
   "cell_type": "code",
   "execution_count": 10,
   "metadata": {},
   "outputs": [],
   "source": [
    "def ensemble_average(total_iteration, min_iteration, iteration_step, ensemble_size):\n",
    "\n",
    "    data_points = int ((total_iteration - min_iteration)/iteration_step + 1)\n",
    "    N_ensemble = np.zeros(data_points)\n",
    "    M_ensemble = np.zeros(data_points)\n",
    "    \n",
    "    for i in range(ensemble_size):\n",
    "        if i % 1000 == 0:\n",
    "            print(\"working with realization \",i)\n",
    "        N_list, M_list = realization_value(total_iteration, min_iteration, iteration_step)\n",
    "        N_ensemble += N_list\n",
    "        M_ensemble += M_list\n",
    "        pass\n",
    "    \n",
    "    N_average = N_ensemble/ensemble_size\n",
    "    M_average = M_ensemble/ensemble_size\n",
    "    \n",
    "    return N_average, M_average"
   ]
  },
  {
   "cell_type": "code",
   "execution_count": 11,
   "metadata": {},
   "outputs": [
    {
     "name": "stdout",
     "output_type": "stream",
     "text": [
      "working with realization  0\n",
      "working with realization  1000\n",
      "working with realization  2000\n",
      "working with realization  3000\n",
      "working with realization  4000\n",
      "working with realization  5000\n",
      "working with realization  6000\n",
      "working with realization  7000\n",
      "working with realization  8000\n",
      "working with realization  9000\n",
      "working with realization  10000\n",
      "working with realization  11000\n",
      "working with realization  12000\n",
      "working with realization  13000\n",
      "working with realization  14000\n",
      "working with realization  15000\n",
      "working with realization  16000\n",
      "working with realization  17000\n",
      "working with realization  18000\n",
      "working with realization  19000\n",
      "working with realization  20000\n",
      "working with realization  21000\n",
      "working with realization  22000\n",
      "working with realization  23000\n",
      "working with realization  24000\n",
      "working with realization  25000\n",
      "working with realization  26000\n",
      "working with realization  27000\n",
      "working with realization  28000\n",
      "working with realization  29000\n",
      "working with realization  30000\n",
      "working with realization  31000\n",
      "working with realization  32000\n",
      "working with realization  33000\n",
      "working with realization  34000\n",
      "working with realization  35000\n",
      "working with realization  36000\n",
      "working with realization  37000\n",
      "working with realization  38000\n",
      "working with realization  39000\n",
      "working with realization  40000\n",
      "working with realization  41000\n",
      "working with realization  42000\n",
      "working with realization  43000\n",
      "working with realization  44000\n",
      "working with realization  45000\n",
      "working with realization  46000\n",
      "working with realization  47000\n",
      "working with realization  48000\n",
      "working with realization  49000\n",
      "0.7687970881423164\n"
     ]
    },
    {
     "data": {
      "image/png": "[encoded data removed]",
      "text/plain": [
       "<Figure size 1000x700 with 1 Axes>"
      ]
     },
     "metadata": {
      "needs_background": "light"
     },
     "output_type": "display_data"
    }
   ],
   "source": [
    "fig, axes = plt.subplots(1,1,figsize = (5,3.5),dpi = 200)\n",
    "N1_average, M1_average = ensemble_average(1_000_000, 100_000, 50_000, 50_000)\n",
    "N1_log = np.log(N1_average)\n",
    "minus_delta1_log = N1_log - np.log(M1_average)\n",
    "slope, intercept = np.polyfit(minus_delta1_log, N1_log, 1)\n",
    "print(slope)\n",
    "plt.plot(minus_delta1_log, N1_log, \"o\")\n",
    "plt.xlabel(r\"$-\\ln\\,\\delta$\")\n",
    "plt.ylabel(r\"$\\ln\\,N$\")\n",
    "axes.set_position([0.15,0.15,0.75,0.75])"
   ]
  },
  {
   "cell_type": "code",
   "execution_count": 12,
   "metadata": {},
   "outputs": [
    {
     "data": {
      "text/plain": [
       "array([129.61924, 151.4897 , 169.23538, 184.38574, 197.77936, 209.82674,\n",
       "       220.89302, 231.12556, 240.66526, 249.60874, 258.09402, 266.13856,\n",
       "       273.83196, 281.18828, 288.25594, 295.0557 , 301.59654, 307.93462,\n",
       "       314.05304])"
      ]
     },
     "execution_count": 12,
     "metadata": {},
     "output_type": "execute_result"
    }
   ],
   "source": [
    "N1_average"
   ]
  },
  {
   "cell_type": "code",
   "execution_count": 13,
   "metadata": {},
   "outputs": [
    {
     "data": {
      "text/plain": [
       "array([0.2446952 , 0.23346706, 0.22581334, 0.22006238, 0.21548882,\n",
       "       0.21167541, 0.20842603, 0.20561205, 0.2031241 , 0.20090994,\n",
       "       0.19889993, 0.19707646, 0.1953927 , 0.19384424, 0.19240369,\n",
       "       0.19106435, 0.18980396, 0.18861822, 0.18750722])"
      ]
     },
     "execution_count": 13,
     "metadata": {},
     "output_type": "execute_result"
    }
   ],
   "source": [
    "M1_average"
   ]
  }
 ],
 "metadata": {
  "kernelspec": {
   "display_name": "Python 3",
   "language": "python",
   "name": "python3"
  },
  "language_info": {
   "codemirror_mode": {
    "name": "ipython",
    "version": 3
   },
   "file_extension": ".py",
   "mimetype": "text/x-python",
   "name": "python",
   "nbconvert_exporter": "python",
   "pygments_lexer": "ipython3",
   "version": "3.7.6"
  }
 },
 "nbformat": 4,
 "nbformat_minor": 4
}
