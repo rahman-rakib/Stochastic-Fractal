{
 "cells": [
  {
   "cell_type": "markdown",
   "metadata": {},
   "source": [
    "### $\\alpha=1/2$ is problematic"
   ]
  },
  {
   "cell_type": "code",
   "execution_count": 2,
   "metadata": {},
   "outputs": [],
   "source": [
    "import random, numpy as np, pandas as pd\n",
    "from matplotlib import pyplot as plt\n"
   ]
  },
  {
   "cell_type": "code",
   "execution_count": 3,
   "metadata": {},
   "outputs": [
    {
     "name": "stdout",
     "output_type": "stream",
     "text": [
      "expon  0.0\n"
     ]
    }
   ],
   "source": [
    "alphap = 0.5\n",
    "probp = 0.75\n",
    "expon = 2 * alphap - 1\n",
    "print(\"expon \", expon)"
   ]
  },
  {
   "cell_type": "markdown",
   "metadata": {},
   "source": [
    "### Exponent $0$ means\n",
    "$x^0 = 1$ always"
   ]
  },
  {
   "cell_type": "code",
   "execution_count": 4,
   "metadata": {},
   "outputs": [],
   "source": [
    "def betadist(alpha):\n",
    "    \"\"\"gives a random number from beta distribution\"\"\"\n",
    "    return random.betavariate(alpha,alpha)"
   ]
  },
  {
   "cell_type": "code",
   "execution_count": 7,
   "metadata": {},
   "outputs": [
    {
     "data": {
      "text/plain": [
       "0.3941847505560931"
      ]
     },
     "execution_count": 7,
     "metadata": {},
     "output_type": "execute_result"
    }
   ],
   "source": [
    "betadist(0.5)"
   ]
  },
  {
   "cell_type": "code",
   "execution_count": 8,
   "metadata": {},
   "outputs": [],
   "source": [
    "def decision(probability):\n",
    "    \"\"\"\n",
    "    decides with a given probability whether to keep the right part\n",
    "    \"\"\"\n",
    "    if float(probability) > random.random():\n",
    "        return True\n",
    "    else: \n",
    "        return False"
   ]
  },
  {
   "cell_type": "code",
   "execution_count": 9,
   "metadata": {},
   "outputs": [],
   "source": [
    "def splitting(segment):\n",
    "    \"\"\"\n",
    "    splits a given segment. left and right are endpoints of the segment\n",
    "    returns : \n",
    "        xL -> length of the left segment\n",
    "        xR -> length of the right segment\n",
    "        flag -> keeping the right segment\n",
    "        xLp, xRp -> probability(unnormalized) for being selected\n",
    "        change -> change of normalization const\n",
    "    \"\"\"\n",
    "    xL = segment * betadist(alphap)\n",
    "    xR = segment - xL\n",
    "    flag = decision(probp)\n",
    "    xLp = xL**expon\n",
    "    xRp = xR**expon\n",
    "    change = xLp + xRp - segment**expon\n",
    "#     if change >= 0.99:\n",
    "#         print(change)\n",
    "    return xL, xR, flag, xLp, xRp, change\n"
   ]
  },
  {
   "cell_type": "code",
   "execution_count": 10,
   "metadata": {},
   "outputs": [],
   "source": [
    "def pickindex(frag_prob, frag_prob_sum):\n",
    "    \"\"\"\n",
    "    picks up a segment to be subsequently split\n",
    "    \"\"\"\n",
    "    r = random.uniform(0, 1)\n",
    "    sum_ = 0\n",
    "    for index in range(len(frag_prob)):\n",
    "        sum_ += frag_prob[index]/frag_prob_sum\n",
    "        if sum_ < r:\n",
    "            continue\n",
    "        else:\n",
    "            return index\n",
    "        "
   ]
  },
  {
   "cell_type": "code",
   "execution_count": 11,
   "metadata": {},
   "outputs": [],
   "source": [
    "def number_length(segment_lengths,flags):\n",
    "    \n",
    "    N = 0\n",
    "    M = 0\n",
    "\n",
    "    for i in range(len(flags)):\n",
    "        if flags[i]:\n",
    "            N += 1\n",
    "            M += segment_lengths[i]\n",
    "            pass\n",
    "        pass\n",
    "    return N, M"
   ]
  },
  {
   "cell_type": "code",
   "execution_count": 12,
   "metadata": {},
   "outputs": [],
   "source": [
    "def realization_value(total_iteration, min_iteration, iteration_step):\n",
    "    \n",
    "    lengths = [1.]\n",
    "    flags = [True]\n",
    "    frag_prob = [1.] # raw probability, not normalized\n",
    "    frag_prob_sum = 1.0 # normalization const\n",
    "\n",
    "    iteration_list = list(range(min_iteration, total_iteration + 1, iteration_step))\n",
    "    N_realization = []\n",
    "    M_realization = []\n",
    "    \n",
    "    for i in range(total_iteration + 1):\n",
    "        \n",
    "        index = pickindex(frag_prob, frag_prob_sum)\n",
    "        \n",
    "        if flags[index] == True:\n",
    "\n",
    "            xL, xR, flag, xLp, xRp, change = splitting(lengths[index])\n",
    "            \n",
    "            lengths[index] = xL\n",
    "            lengths.append(xR)\n",
    "            flags.append(flag)\n",
    "            frag_prob[index] = xLp \n",
    "            frag_prob.append(xRp)\n",
    "            frag_prob_sum += change\n",
    "#             print(frag_prob)\n",
    "#             print(frag_prob_sum)\n",
    "#             print(np.sum(frag_prob))\n",
    "            pass\n",
    "            \n",
    "        if i+1 in iteration_list:\n",
    "            N, M = number_length(lengths,flags)\n",
    "            N_realization.append(N)\n",
    "            M_realization.append(M)\n",
    "        pass \n",
    "    \n",
    "    N_list = np.array(N_realization)\n",
    "    M_list = np.array(M_realization)\n",
    "    \n",
    "    return N_list, M_list"
   ]
  },
  {
   "cell_type": "code",
   "execution_count": 13,
   "metadata": {},
   "outputs": [
    {
     "name": "stdout",
     "output_type": "stream",
     "text": [
      "41.2 ms ± 2.47 ms per loop (mean ± std. dev. of 7 runs, 10 loops each)\n"
     ]
    }
   ],
   "source": [
    "%timeit realization_value(1_000, 1_00, 1_0)"
   ]
  },
  {
   "cell_type": "code",
   "execution_count": 16,
   "metadata": {},
   "outputs": [],
   "source": [
    "def ensemble_average(total_iteration, min_iteration, iteration_step, ensemble_size):\n",
    "\n",
    "    data_points = int ((total_iteration - min_iteration)/iteration_step + 1)\n",
    "    N_ensemble = np.zeros(data_points)\n",
    "    M_ensemble = np.zeros(data_points)\n",
    "    step = ensemble_size // 100\n",
    "    for i in range(ensemble_size):\n",
    "        if i % step == 0:\n",
    "            print(\"working with realization \",i)\n",
    "        N_list, M_list = realization_value(total_iteration, min_iteration, iteration_step)\n",
    "        N_ensemble += N_list\n",
    "        M_ensemble += M_list\n",
    "        pass\n",
    "    \n",
    "    N_average = N_ensemble/ensemble_size\n",
    "    M_average = M_ensemble/ensemble_size\n",
    "    \n",
    "    return N_average, M_average"
   ]
  },
  {
   "cell_type": "code",
   "execution_count": 17,
   "metadata": {
    "scrolled": true
   },
   "outputs": [
    {
     "name": "stdout",
     "output_type": "stream",
     "text": [
      "working with realization  0\n",
      "working with realization  10\n",
      "working with realization  20\n",
      "working with realization  30\n",
      "working with realization  40\n",
      "working with realization  50\n",
      "working with realization  60\n",
      "working with realization  70\n",
      "working with realization  80\n",
      "working with realization  90\n",
      "working with realization  100\n",
      "working with realization  110\n",
      "working with realization  120\n",
      "working with realization  130\n",
      "working with realization  140\n",
      "working with realization  150\n",
      "working with realization  160\n",
      "working with realization  170\n",
      "working with realization  180\n",
      "working with realization  190\n",
      "working with realization  200\n",
      "working with realization  210\n",
      "working with realization  220\n",
      "working with realization  230\n",
      "working with realization  240\n",
      "working with realization  250\n",
      "working with realization  260\n",
      "working with realization  270\n",
      "working with realization  280\n",
      "working with realization  290\n",
      "working with realization  300\n",
      "working with realization  310\n",
      "working with realization  320\n",
      "working with realization  330\n",
      "working with realization  340\n",
      "working with realization  350\n",
      "working with realization  360\n",
      "working with realization  370\n",
      "working with realization  380\n",
      "working with realization  390\n",
      "working with realization  400\n",
      "working with realization  410\n",
      "working with realization  420\n",
      "working with realization  430\n",
      "working with realization  440\n",
      "working with realization  450\n",
      "working with realization  460\n",
      "working with realization  470\n",
      "working with realization  480\n",
      "working with realization  490\n",
      "working with realization  500\n",
      "working with realization  510\n",
      "working with realization  520\n",
      "working with realization  530\n",
      "working with realization  540\n",
      "working with realization  550\n",
      "working with realization  560\n",
      "working with realization  570\n",
      "working with realization  580\n",
      "working with realization  590\n",
      "working with realization  600\n",
      "working with realization  610\n",
      "working with realization  620\n",
      "working with realization  630\n",
      "working with realization  640\n",
      "working with realization  650\n",
      "working with realization  660\n",
      "working with realization  670\n",
      "working with realization  680\n",
      "working with realization  690\n",
      "working with realization  700\n",
      "working with realization  710\n",
      "working with realization  720\n",
      "working with realization  730\n",
      "working with realization  740\n",
      "working with realization  750\n",
      "working with realization  760\n",
      "working with realization  770\n",
      "working with realization  780\n",
      "working with realization  790\n",
      "working with realization  800\n",
      "working with realization  810\n",
      "working with realization  820\n",
      "working with realization  830\n",
      "working with realization  840\n",
      "working with realization  850\n",
      "working with realization  860\n",
      "working with realization  870\n",
      "working with realization  880\n",
      "working with realization  890\n",
      "working with realization  900\n",
      "working with realization  910\n",
      "working with realization  920\n",
      "working with realization  930\n",
      "working with realization  940\n",
      "working with realization  950\n",
      "working with realization  960\n",
      "working with realization  970\n",
      "working with realization  980\n",
      "working with realization  990\n"
     ]
    }
   ],
   "source": [
    "n = 10_000\n",
    "a = n // 2\n",
    "b = a // 10\n",
    "N_average, M_average = ensemble_average(n, a, b, 1_000)"
   ]
  },
  {
   "cell_type": "code",
   "execution_count": 18,
   "metadata": {},
   "outputs": [
    {
     "name": "stdout",
     "output_type": "stream",
     "text": [
      "0.8536787592520942\n"
     ]
    },
    {
     "data": {
      "text/plain": [
       "Text(0, 0.5, '$\\\\ln\\\\,N$')"
      ]
     },
     "execution_count": 18,
     "metadata": {},
     "output_type": "execute_result"
    },
    {
     "data": {
      "image/png": "[encoded data removed]",
      "text/plain": [
       "<Figure size 432x288 with 1 Axes>"
      ]
     },
     "metadata": {
      "needs_background": "light"
     },
     "output_type": "display_data"
    }
   ],
   "source": [
    "N_log = np.log(N_average)\n",
    "minus_delta_log = N_log - np.log(M_average)\n",
    "slope, intercept = np.polyfit(minus_delta_log, N_log, 1)\n",
    "print(slope)\n",
    "plt.plot(minus_delta_log, N_log, \"o\")\n",
    "plt.xlabel(r\"$-\\ln\\,\\delta$\")\n",
    "plt.ylabel(r\"$\\ln\\,N$\")"
   ]
  },
  {
   "cell_type": "code",
   "execution_count": null,
   "metadata": {},
   "outputs": [],
   "source": [
    "N_average"
   ]
  },
  {
   "cell_type": "code",
   "execution_count": 47,
   "metadata": {},
   "outputs": [
    {
     "data": {
      "text/plain": [
       "array([0.26970441, 0.25903935, 0.25478048, 0.25004955, 0.24567778,\n",
       "       0.24172631])"
      ]
     },
     "execution_count": 47,
     "metadata": {},
     "output_type": "execute_result"
    }
   ],
   "source": [
    "M_average"
   ]
  },
  {
   "cell_type": "code",
   "execution_count": 48,
   "metadata": {},
   "outputs": [],
   "source": [
    "index = None"
   ]
  },
  {
   "cell_type": "code",
   "execution_count": 52,
   "metadata": {},
   "outputs": [
    {
     "data": {
      "text/plain": [
       "True"
      ]
     },
     "execution_count": 52,
     "metadata": {},
     "output_type": "execute_result"
    }
   ],
   "source": [
    "index == None"
   ]
  },
  {
   "cell_type": "code",
   "execution_count": null,
   "metadata": {},
   "outputs": [],
   "source": []
  }
 ],
 "metadata": {
  "kernelspec": {
   "display_name": "Python 3",
   "language": "python",
   "name": "python3"
  },
  "language_info": {
   "codemirror_mode": {
    "name": "ipython",
    "version": 3
   },
   "file_extension": ".py",
   "mimetype": "text/x-python",
   "name": "python",
   "nbconvert_exporter": "python",
   "pygments_lexer": "ipython3",
   "version": "3.7.7"
  }
 },
 "nbformat": 4,
 "nbformat_minor": 4
}
