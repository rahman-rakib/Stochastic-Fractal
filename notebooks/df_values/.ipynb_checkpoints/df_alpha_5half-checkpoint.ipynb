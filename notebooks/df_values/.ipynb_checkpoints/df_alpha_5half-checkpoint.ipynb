{
 "cells": [
  {
   "cell_type": "code",
   "execution_count": 1,
   "metadata": {},
   "outputs": [],
   "source": [
    "import random, numpy as np, pandas as pd\n",
    "from matplotlib import pyplot as plt\n",
    "alphap = 2.5\n",
    "probp = 0.75\n",
    "expon = 2 * alphap - 1"
   ]
  },
  {
   "cell_type": "code",
   "execution_count": 2,
   "metadata": {},
   "outputs": [],
   "source": [
    "def betadist(alpha):\n",
    "    \"\"\"gives a random number from beta distribution\"\"\"\n",
    "    return random.betavariate(alpha,alpha)"
   ]
  },
  {
   "cell_type": "code",
   "execution_count": 3,
   "metadata": {},
   "outputs": [],
   "source": [
    "def decision(probability):\n",
    "    \"\"\"\n",
    "    decides with a given probability whether to keep the right part\n",
    "    \"\"\"\n",
    "    if float(probability) > random.random():\n",
    "        return True\n",
    "    else: \n",
    "        return False"
   ]
  },
  {
   "cell_type": "code",
   "execution_count": 4,
   "metadata": {},
   "outputs": [],
   "source": [
    "def splitting(segment):\n",
    "    \"\"\"\n",
    "    splits a given segment. left and right are endpoints of the segment\n",
    "    returns : \n",
    "        xL -> length of the left segment\n",
    "        xR -> length of the right segment\n",
    "        flag -> keeping the right segment\n",
    "        xLp, xRp -> probability(unnormalized) for being selected\n",
    "        change -> change of normalization const\n",
    "    \"\"\"\n",
    "    xL = segment * betadist(alphap)\n",
    "    xR = segment - xL\n",
    "    flag = decision(probp)\n",
    "    xLp = xL**expon\n",
    "    xRp = xR**expon\n",
    "    change = xLp + xRp - segment**expon\n",
    "    return xL, xR, flag, xLp, xRp, change"
   ]
  },
  {
   "cell_type": "code",
   "execution_count": 5,
   "metadata": {},
   "outputs": [],
   "source": [
    "def pickindex(frag_prob, frag_prob_sum):\n",
    "    \"\"\"\n",
    "    picks up a segment to be subsequently split\n",
    "    \"\"\"\n",
    "    r = random.uniform(0, frag_prob_sum)\n",
    "    sum_ = 0\n",
    "    for index in range(len(frag_prob)):\n",
    "        sum_ += frag_prob[index]\n",
    "        if sum_ < r:\n",
    "            continue\n",
    "        else:\n",
    "            return index"
   ]
  },
  {
   "cell_type": "code",
   "execution_count": 6,
   "metadata": {},
   "outputs": [],
   "source": [
    "def number_length(segment_lengths,flags):\n",
    "    \n",
    "    N = 0\n",
    "    M = 0\n",
    "\n",
    "    for i in range(len(flags)):\n",
    "        if flags[i]:\n",
    "            N += 1\n",
    "            M += segment_lengths[i]\n",
    "            pass\n",
    "        pass\n",
    "    return N, M"
   ]
  },
  {
   "cell_type": "code",
   "execution_count": 7,
   "metadata": {},
   "outputs": [],
   "source": [
    "def realization_value(total_iteration, min_iteration, iteration_step):\n",
    "    \n",
    "    lengths = [1.]\n",
    "    flags = [True]\n",
    "    frag_prob = [1.] # raw probability, not normalized\n",
    "    frag_prob_sum = 1.0 # normalization const\n",
    "\n",
    "    iteration_list = list(range(min_iteration, total_iteration + 1, iteration_step))\n",
    "    N_realization = []\n",
    "    M_realization = []\n",
    "    \n",
    "    for i in range(total_iteration + 1):\n",
    "        \n",
    "        index = pickindex(frag_prob, frag_prob_sum)\n",
    "        \n",
    "        if flags[index] == True:\n",
    "\n",
    "            xL, xR, flag, xLp, xRp, change = splitting(lengths[index])\n",
    "            \n",
    "            lengths[index] = xL\n",
    "            lengths.append(xR)\n",
    "            flags.append(flag)\n",
    "            frag_prob[index] = xLp \n",
    "            frag_prob.append(xRp)\n",
    "            frag_prob_sum += change\n",
    "            pass\n",
    "        \n",
    "        if i+1 in iteration_list:\n",
    "            N, M = number_length(lengths,flags)\n",
    "            N_realization.append(N)\n",
    "            M_realization.append(M)\n",
    "        pass \n",
    "    \n",
    "    N_list = np.array(N_realization)\n",
    "    M_list = np.array(M_realization)\n",
    "    \n",
    "    return N_list, M_list"
   ]
  },
  {
   "cell_type": "code",
   "execution_count": 8,
   "metadata": {},
   "outputs": [
    {
     "name": "stdout",
     "output_type": "stream",
     "text": [
      "run_time is  0.10786843299865723  sec\n"
     ]
    }
   ],
   "source": [
    "import time\n",
    "t1 = time.time()\n",
    "realization_value(100_000, 10_000, 10_000)\n",
    "t2 = time.time()\n",
    "run_time = t2 - t1\n",
    "print(\"run_time is \", run_time, \" sec\")"
   ]
  },
  {
   "cell_type": "code",
   "execution_count": 9,
   "metadata": {},
   "outputs": [],
   "source": [
    "def ensemble_average(total_iteration, min_iteration, iteration_step, ensemble_size):\n",
    "\n",
    "    data_points = int ((total_iteration - min_iteration)/iteration_step + 1)\n",
    "    N_ensemble = np.zeros(data_points)\n",
    "    M_ensemble = np.zeros(data_points)\n",
    "    \n",
    "    for i in range(ensemble_size):\n",
    "        if i % 1000 == 0:\n",
    "            print(\"working with realization \",i)\n",
    "        N_list, M_list = realization_value(total_iteration, min_iteration, iteration_step)\n",
    "        N_ensemble += N_list\n",
    "        M_ensemble += M_list\n",
    "        pass\n",
    "    \n",
    "    N_average = N_ensemble/ensemble_size\n",
    "    M_average = M_ensemble/ensemble_size\n",
    "    \n",
    "    return N_average, M_average"
   ]
  },
  {
   "cell_type": "code",
   "execution_count": 114,
   "metadata": {
    "scrolled": true
   },
   "outputs": [
    {
     "name": "stdout",
     "output_type": "stream",
     "text": [
      "working with realization  0\n",
      "working with realization  100\n",
      "working with realization  200\n",
      "working with realization  300\n",
      "working with realization  400\n",
      "working with realization  500\n",
      "working with realization  600\n",
      "working with realization  700\n",
      "working with realization  800\n",
      "working with realization  900\n",
      "working with realization  1000\n",
      "working with realization  1100\n",
      "working with realization  1200\n",
      "working with realization  1300\n",
      "working with realization  1400\n",
      "working with realization  1500\n",
      "working with realization  1600\n",
      "working with realization  1700\n",
      "working with realization  1800\n",
      "working with realization  1900\n",
      "working with realization  2000\n",
      "working with realization  2100\n",
      "working with realization  2200\n",
      "working with realization  2300\n",
      "working with realization  2400\n",
      "working with realization  2500\n",
      "working with realization  2600\n",
      "working with realization  2700\n",
      "working with realization  2800\n",
      "working with realization  2900\n",
      "working with realization  3000\n",
      "working with realization  3100\n",
      "working with realization  3200\n",
      "working with realization  3300\n",
      "working with realization  3400\n",
      "working with realization  3500\n",
      "working with realization  3600\n",
      "working with realization  3700\n",
      "working with realization  3800\n",
      "working with realization  3900\n",
      "working with realization  4000\n",
      "working with realization  4100\n",
      "working with realization  4200\n",
      "working with realization  4300\n",
      "working with realization  4400\n",
      "working with realization  4500\n",
      "working with realization  4600\n",
      "working with realization  4700\n",
      "working with realization  4800\n",
      "working with realization  4900\n",
      "working with realization  5000\n",
      "working with realization  5100\n",
      "working with realization  5200\n",
      "working with realization  5300\n",
      "working with realization  5400\n",
      "working with realization  5500\n",
      "working with realization  5600\n",
      "working with realization  5700\n",
      "working with realization  5800\n",
      "working with realization  5900\n",
      "working with realization  6000\n",
      "working with realization  6100\n",
      "working with realization  6200\n",
      "working with realization  6300\n",
      "working with realization  6400\n",
      "working with realization  6500\n",
      "working with realization  6600\n",
      "working with realization  6700\n",
      "working with realization  6800\n",
      "working with realization  6900\n",
      "working with realization  7000\n",
      "working with realization  7100\n",
      "working with realization  7200\n",
      "working with realization  7300\n",
      "working with realization  7400\n",
      "working with realization  7500\n",
      "working with realization  7600\n",
      "working with realization  7700\n",
      "working with realization  7800\n",
      "working with realization  7900\n",
      "working with realization  8000\n",
      "working with realization  8100\n",
      "working with realization  8200\n",
      "working with realization  8300\n",
      "working with realization  8400\n",
      "working with realization  8500\n",
      "working with realization  8600\n",
      "working with realization  8700\n",
      "working with realization  8800\n",
      "working with realization  8900\n",
      "working with realization  9000\n",
      "working with realization  9100\n",
      "working with realization  9200\n",
      "working with realization  9300\n",
      "working with realization  9400\n",
      "working with realization  9500\n",
      "working with realization  9600\n",
      "working with realization  9700\n",
      "working with realization  9800\n",
      "working with realization  9900\n"
     ]
    }
   ],
   "source": [
    "N_average, M_average = ensemble_average(100_000, 10_000, 10_000, 100_000)"
   ]
  },
  {
   "cell_type": "code",
   "execution_count": 115,
   "metadata": {},
   "outputs": [
    {
     "name": "stdout",
     "output_type": "stream",
     "text": [
      "0.7788164322573334\n"
     ]
    },
    {
     "data": {
      "text/plain": [
       "Text(0, 0.5, '$\\\\ln\\\\,N$')"
      ]
     },
     "execution_count": 115,
     "metadata": {},
     "output_type": "execute_result"
    },
    {
     "data": {
      "image/png": "[encoded data removed]",
      "text/plain": [
       "<Figure size 432x288 with 1 Axes>"
      ]
     },
     "metadata": {
      "needs_background": "light"
     },
     "output_type": "display_data"
    }
   ],
   "source": [
    "N_log = np.log(N_average)\n",
    "minus_delta_log = N_log - np.log(M_average)\n",
    "slope, intercept = np.polyfit(minus_delta_log, N_log, 1)\n",
    "print(slope)\n",
    "plt.plot(minus_delta_log, N_log, \"o\")\n",
    "plt.xlabel(r\"$-\\ln\\,\\delta$\")\n",
    "plt.ylabel(r\"$\\ln\\,N$\")"
   ]
  },
  {
   "cell_type": "code",
   "execution_count": null,
   "metadata": {},
   "outputs": [],
   "source": [
    "N_average"
   ]
  },
  {
   "cell_type": "code",
   "execution_count": null,
   "metadata": {},
   "outputs": [],
   "source": [
    "M_average"
   ]
  }
 ],
 "metadata": {
  "kernelspec": {
   "display_name": "Python 3",
   "language": "python",
   "name": "python3"
  },
  "language_info": {
   "codemirror_mode": {
    "name": "ipython",
    "version": 3
   },
   "file_extension": ".py",
   "mimetype": "text/x-python",
   "name": "python",
   "nbconvert_exporter": "python",
   "pygments_lexer": "ipython3",
   "version": "3.7.6"
  }
 },
 "nbformat": 4,
 "nbformat_minor": 4
}
