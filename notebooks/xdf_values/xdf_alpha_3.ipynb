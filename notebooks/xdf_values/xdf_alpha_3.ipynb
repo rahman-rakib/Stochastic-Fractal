{
 "cells": [
  {
   "cell_type": "code",
   "execution_count": 1,
   "metadata": {},
   "outputs": [],
   "source": [
    "import random, numpy as np, pandas as pd\n",
    "from matplotlib import pyplot as plt\n",
    "alphap = 3\n",
    "probp = 0.75\n",
    "expon = 2 * alphap - 1\n",
    "slope = 0.78835"
   ]
  },
  {
   "cell_type": "code",
   "execution_count": 2,
   "metadata": {},
   "outputs": [],
   "source": [
    "def betadist(alpha):\n",
    "    \"\"\"gives a random number from beta distribution\"\"\"\n",
    "    return random.betavariate(alpha,alpha)"
   ]
  },
  {
   "cell_type": "code",
   "execution_count": 3,
   "metadata": {},
   "outputs": [],
   "source": [
    "def decision(probability):\n",
    "    \"\"\"\n",
    "    decides with a given probability whether to keep the right part\n",
    "    \"\"\"\n",
    "    if float(probability) > random.random():\n",
    "        return True\n",
    "    else: \n",
    "        return False"
   ]
  },
  {
   "cell_type": "code",
   "execution_count": 4,
   "metadata": {},
   "outputs": [],
   "source": [
    "def splitting(segment):\n",
    "    \"\"\"\n",
    "    splits a given segment. left and right are endpoints of the segment\n",
    "    returns : \n",
    "        xL -> length of the left segment\n",
    "        xR -> length of the right segment\n",
    "        flag -> keeping the right segment\n",
    "        xLp, xRp -> probability(unnormalized) for being selected\n",
    "        change -> change of normalization const\n",
    "    \"\"\"\n",
    "    xL = segment * betadist(alphap)\n",
    "    xR = segment - xL\n",
    "    flag = decision(probp)\n",
    "    xLp = xL**expon\n",
    "    xRp = xR**expon\n",
    "    change = xLp + xRp - segment**expon\n",
    "    return xL, xR, flag, xLp, xRp, change"
   ]
  },
  {
   "cell_type": "code",
   "execution_count": 5,
   "metadata": {},
   "outputs": [],
   "source": [
    "def pickindex(frag_prob, frag_prob_sum):\n",
    "    \"\"\"\n",
    "    picks up a segment to be subsequently split\n",
    "    \"\"\"\n",
    "    r = random.uniform(0, frag_prob_sum)\n",
    "    sum_ = 0\n",
    "    for index in range(len(frag_prob)):\n",
    "        sum_ += frag_prob[index]\n",
    "        if sum_ < r:\n",
    "            continue\n",
    "        else:\n",
    "            return index"
   ]
  },
  {
   "cell_type": "code",
   "execution_count": 6,
   "metadata": {},
   "outputs": [],
   "source": [
    "def number_length(segment_lengths,flags):\n",
    "    \n",
    "    N = 0\n",
    "    M = 0\n",
    "\n",
    "    for i in range(len(flags)):\n",
    "        if flags[i]:\n",
    "            N += 1\n",
    "            M += segment_lengths[i]\n",
    "            pass\n",
    "        pass\n",
    "    return N, M"
   ]
  },
  {
   "cell_type": "code",
   "execution_count": 7,
   "metadata": {},
   "outputs": [],
   "source": [
    "fractal_dim = slope\n",
    "\n",
    "def fractal_length(segment_lengths,flags):\n",
    "\n",
    "    M_frac = 0\n",
    "\n",
    "    for i in range(len(flags)):\n",
    "        if flags[i]:\n",
    "            M_frac += segment_lengths[i]**fractal_dim\n",
    "            pass\n",
    "        pass\n",
    "    return M_frac"
   ]
  },
  {
   "cell_type": "code",
   "execution_count": 8,
   "metadata": {},
   "outputs": [],
   "source": [
    "def realization_value(total_iteration):\n",
    "    \n",
    "    lengths = [1.]\n",
    "    flags = [True]\n",
    "    frag_prob = [1.] # raw probability, not normalized\n",
    "    frag_prob_sum = 1.0 # normalization const\n",
    "    \n",
    "    M_realization = []\n",
    "    \n",
    "    for i in range(total_iteration + 1):\n",
    "        \n",
    "        index = pickindex(frag_prob, frag_prob_sum)\n",
    "        \n",
    "        if index != None and flags[index] == True:\n",
    "\n",
    "            xL, xR, flag, xLp, xRp, change = splitting(lengths[index])\n",
    "            \n",
    "            lengths[index] = xL\n",
    "            lengths.append(xR)\n",
    "            flags.append(flag)\n",
    "            frag_prob[index] = xLp \n",
    "            frag_prob.append(xRp)\n",
    "            frag_prob_sum += change\n",
    "            pass\n",
    "        \n",
    "    M_frac = fractal_length(lengths,flags)\n",
    "    \n",
    "    return M_frac"
   ]
  },
  {
   "cell_type": "code",
   "execution_count": 9,
   "metadata": {},
   "outputs": [],
   "source": [
    "def realization_value(total_iteration, min_iteration, iteration_step, data_point = False):\n",
    "    \n",
    "    lengths = [1.]\n",
    "    flags = [True]\n",
    "    frag_prob = [1.] # raw probability, not normalized\n",
    "    frag_prob_sum = 1.0 # normalization const\n",
    "\n",
    "    iteration_list = list(range(min_iteration, total_iteration + 1, iteration_step))\n",
    "    \n",
    "    M_realization = []\n",
    "    \n",
    "    for i in range(total_iteration + 1):\n",
    "        \n",
    "        index = pickindex(frag_prob, frag_prob_sum)\n",
    "        \n",
    "        if flags[index] == True:\n",
    "\n",
    "            xL, xR, flag, xLp, xRp, change = splitting(lengths[index])\n",
    "            \n",
    "            lengths[index] = xL\n",
    "            lengths.append(xR)\n",
    "            flags.append(flag)\n",
    "            frag_prob[index] = xLp \n",
    "            frag_prob.append(xRp)\n",
    "            frag_prob_sum += change\n",
    "            pass\n",
    "        \n",
    "        if i+1 in iteration_list:\n",
    "            M_frac = fractal_length(lengths,flags)\n",
    "            M_realization.append(M_frac)\n",
    "        pass \n",
    "      \n",
    "    if data_point:\n",
    "        print(np.array(M_realization))\n",
    "    \n",
    "    else:\n",
    "        M_frac = fractal_length(lengths,flags)\n",
    "        return M_frac"
   ]
  },
  {
   "cell_type": "code",
   "execution_count": 10,
   "metadata": {},
   "outputs": [],
   "source": [
    "def ensemble_average(total_iteration, ensemble_size):\n",
    "\n",
    "    M_ensemble = 0\n",
    "    \n",
    "    for i in range(ensemble_size):\n",
    "        M_list = realization_value(total_iteration, total_iteration, total_iteration)\n",
    "        M_ensemble += M_list\n",
    "        pass\n",
    "    \n",
    "    M_average = M_ensemble/ensemble_size\n",
    "    \n",
    "    print(M_average)"
   ]
  },
  {
   "cell_type": "code",
   "execution_count": 11,
   "metadata": {},
   "outputs": [
    {
     "name": "stdout",
     "output_type": "stream",
     "text": [
      "[0.87094239 0.88303742 0.88543081 0.87667259 0.8868398  0.87662621\n",
      " 0.87911391 0.88306665 0.87425139 0.87581064]\n",
      "[1.02210947 1.01787397 1.03287968 1.03963492 1.05896808 1.05896808\n",
      " 1.06420441 1.06933719 1.07803208 1.07063435]\n",
      "[0.35031476 0.35031476 0.35031476 0.35031476 0.35031476 0.35719396\n",
      " 0.35719396 0.35719396 0.35719396 0.36558958]\n",
      "[0.03112768 0.03112768 0.03112768 0.03112768 0.03112768 0.03112768\n",
      " 0.03112768 0.03112768 0.03112768 0.03112768]\n",
      "[1.72832261 1.72247482 1.73508698 1.7246876  1.73608568 1.73441246\n",
      " 1.74265597 1.73782018 1.74299582 1.7484177 ]\n"
     ]
    }
   ],
   "source": [
    "for i in range(5):\n",
    "    realization_value(10_000_000, 1_000_000, 1_000_000, data_point = True)"
   ]
  },
  {
   "cell_type": "code",
   "execution_count": null,
   "metadata": {},
   "outputs": [
    {
     "name": "stdout",
     "output_type": "stream",
     "text": [
      "0.9992680491893363\n"
     ]
    }
   ],
   "source": [
    "for i in range(10):\n",
    "    a_ = 1_000*(i+1)\n",
    "    ensemble_average(a_, 100_000)"
   ]
  },
  {
   "cell_type": "code",
   "execution_count": null,
   "metadata": {},
   "outputs": [],
   "source": []
  }
 ],
 "metadata": {
  "kernelspec": {
   "display_name": "Python 3",
   "language": "python",
   "name": "python3"
  },
  "language_info": {
   "codemirror_mode": {
    "name": "ipython",
    "version": 3
   },
   "file_extension": ".py",
   "mimetype": "text/x-python",
   "name": "python",
   "nbconvert_exporter": "python",
   "pygments_lexer": "ipython3",
   "version": "3.7.6"
  }
 },
 "nbformat": 4,
 "nbformat_minor": 4
}
