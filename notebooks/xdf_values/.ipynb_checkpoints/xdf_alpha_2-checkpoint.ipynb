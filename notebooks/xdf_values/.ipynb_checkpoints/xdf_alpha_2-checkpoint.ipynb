{
 "cells": [
  {
   "cell_type": "code",
   "execution_count": 10,
   "metadata": {},
   "outputs": [],
   "source": [
    "import random, numpy as np, pandas as pd\n",
    "from matplotlib import pyplot as plt\n",
    "alphap = 2\n",
    "probp = 0.75\n",
    "expon = 2 * alphap - 1\n",
    "slope = 0.77872"
   ]
  },
  {
   "cell_type": "code",
   "execution_count": 11,
   "metadata": {},
   "outputs": [],
   "source": [
    "def betadist(alpha):\n",
    "    \"\"\"gives a random number from beta distribution\"\"\"\n",
    "    return random.betavariate(alpha,alpha)"
   ]
  },
  {
   "cell_type": "code",
   "execution_count": 12,
   "metadata": {},
   "outputs": [],
   "source": [
    "def decision(probability):\n",
    "    \"\"\"\n",
    "    decides with a given probability whether to keep the right part\n",
    "    \"\"\"\n",
    "    if float(probability) > random.random():\n",
    "        return True\n",
    "    else: \n",
    "        return False"
   ]
  },
  {
   "cell_type": "code",
   "execution_count": 13,
   "metadata": {},
   "outputs": [],
   "source": [
    "def splitting(segment):\n",
    "    \"\"\"\n",
    "    splits a given segment. left and right are endpoints of the segment\n",
    "    returns : \n",
    "        xL -> length of the left segment\n",
    "        xR -> length of the right segment\n",
    "        flag -> keeping the right segment\n",
    "        xLp, xRp -> probability(unnormalized) for being selected\n",
    "        change -> change of normalization const\n",
    "    \"\"\"\n",
    "    xL = segment * betadist(alphap)\n",
    "    xR = segment - xL\n",
    "    flag = decision(probp)\n",
    "    xLp = xL**expon\n",
    "    xRp = xR**expon\n",
    "    change = xLp + xRp - segment**expon\n",
    "    return xL, xR, flag, xLp, xRp, change"
   ]
  },
  {
   "cell_type": "code",
   "execution_count": 14,
   "metadata": {},
   "outputs": [],
   "source": [
    "def pickindex(frag_prob, frag_prob_sum):\n",
    "    \"\"\"\n",
    "    picks up a segment to be subsequently split\n",
    "    \"\"\"\n",
    "    r = random.uniform(0, frag_prob_sum)\n",
    "    sum_ = 0\n",
    "    for index in range(len(frag_prob)):\n",
    "        sum_ += frag_prob[index]\n",
    "        if sum_ < r:\n",
    "            continue\n",
    "        else:\n",
    "            return index"
   ]
  },
  {
   "cell_type": "code",
   "execution_count": 15,
   "metadata": {},
   "outputs": [],
   "source": [
    "def number_length(segment_lengths,flags):\n",
    "    \n",
    "    N = 0\n",
    "    M = 0\n",
    "\n",
    "    for i in range(len(flags)):\n",
    "        if flags[i]:\n",
    "            N += 1\n",
    "            M += segment_lengths[i]\n",
    "            pass\n",
    "        pass\n",
    "    return N, M"
   ]
  },
  {
   "cell_type": "code",
   "execution_count": 16,
   "metadata": {},
   "outputs": [],
   "source": [
    "fractal_dim = slope\n",
    "\n",
    "def fractal_length(segment_lengths,flags):\n",
    "\n",
    "    M_frac = 0\n",
    "\n",
    "    for i in range(len(flags)):\n",
    "        if flags[i]:\n",
    "            M_frac += segment_lengths[i]**fractal_dim\n",
    "            pass\n",
    "        pass\n",
    "    return M_frac"
   ]
  },
  {
   "cell_type": "code",
   "execution_count": 17,
   "metadata": {},
   "outputs": [],
   "source": [
    "def realization_value(total_iteration, min_iteration, iteration_step):\n",
    "    \n",
    "    lengths = [1.]\n",
    "    flags = [True]\n",
    "    frag_prob = [1.] # raw probability, not normalized\n",
    "    frag_prob_sum = 1.0 # normalization const\n",
    "\n",
    "    iteration_list = list(range(min_iteration, total_iteration + 1, iteration_step))\n",
    "    N_realization = []\n",
    "    M_realization = []\n",
    "    \n",
    "    for i in range(total_iteration + 1):\n",
    "        \n",
    "        index = pickindex(frag_prob, frag_prob_sum)\n",
    "        \n",
    "        if flags[index] == True:\n",
    "\n",
    "            xL, xR, flag, xLp, xRp, change = splitting(lengths[index])\n",
    "            \n",
    "            lengths[index] = xL\n",
    "            lengths.append(xR)\n",
    "            flags.append(flag)\n",
    "            frag_prob[index] = xLp \n",
    "            frag_prob.append(xRp)\n",
    "            frag_prob_sum += change\n",
    "            pass\n",
    "        \n",
    "        if i+1 in iteration_list:\n",
    "            M_frac = fractal_length(lengths,flags)\n",
    "            M_realization.append(M_frac)\n",
    "        pass \n",
    "    \n",
    "    conserved_quantity = np.array(M_realization)\n",
    "    \n",
    "    return conserved_quantity"
   ]
  },
  {
   "cell_type": "code",
   "execution_count": 29,
   "metadata": {},
   "outputs": [],
   "source": [
    "def ensemble_average(total_iteration, min_iteration, iteration_step, ensemble_size):\n",
    "\n",
    "    data_points = int ((total_iteration - min_iteration)/iteration_step + 1)\n",
    "    M_ensemble = np.zeros(data_points)\n",
    "    \n",
    "    for i in range(ensemble_size):\n",
    "        M_list = realization_value(total_iteration, min_iteration, iteration_step)\n",
    "        if i % 1000 == 0:\n",
    "            print(\"working with realization \",i)\n",
    "        if i in [20_000,40_000,60_000,80_000]:\n",
    "            print(M_list)\n",
    "        M_ensemble += M_list\n",
    "        pass\n",
    "    \n",
    "    M_average = M_ensemble/ensemble_size\n",
    "    \n",
    "    return M_average"
   ]
  },
  {
   "cell_type": "code",
   "execution_count": 28,
   "metadata": {},
   "outputs": [
    {
     "name": "stdout",
     "output_type": "stream",
     "text": [
      "run_time is  0.10379576683044434  sec\n"
     ]
    }
   ],
   "source": [
    "import time\n",
    "t1 = time.time()\n",
    "realization_value(100_000, 10_000, 10_000)\n",
    "t2 = time.time()\n",
    "run_time = t2 - t1\n",
    "print(\"run_time is \", run_time, \" sec\")"
   ]
  },
  {
   "cell_type": "code",
   "execution_count": 26,
   "metadata": {},
   "outputs": [
    {
     "name": "stdout",
     "output_type": "stream",
     "text": [
      "working with realization  0\n",
      "working with realization  10\n",
      "working with realization  20\n",
      "[1.4842871  1.47193863 1.46637387 1.46009328 1.46262171 1.47577913\n",
      " 1.49760536 1.48523818 1.47917726 1.48158996]\n",
      "working with realization  30\n",
      "working with realization  40\n",
      "[0.79594823 0.7464645  0.76174332 0.77935973 0.77949903 0.77713938\n",
      " 0.78734854 0.79770622 0.79956298 0.80457162]\n",
      "working with realization  50\n",
      "working with realization  60\n",
      "[0.5952261  0.57339761 0.57339761 0.57838471 0.58419345 0.58995112\n",
      " 0.59760341 0.60169758 0.60169758 0.60169758]\n",
      "working with realization  70\n",
      "working with realization  80\n",
      "[1.23412939 1.18996747 1.17777055 1.16913449 1.14518884 1.15720643\n",
      " 1.15136087 1.14599895 1.14311509 1.14038866]\n",
      "working with realization  90\n"
     ]
    },
    {
     "data": {
      "text/plain": [
       "array([1.00487222, 1.0023548 , 1.00389243, 1.00590266, 1.00676292,\n",
       "       1.00503088, 1.00587078, 1.00540085, 1.00535771, 1.00476149])"
      ]
     },
     "execution_count": 26,
     "metadata": {},
     "output_type": "execute_result"
    }
   ],
   "source": [
    "ensemble_average(100_000, 10_000, 10_000, 100_000)"
   ]
  },
  {
   "cell_type": "code",
   "execution_count": null,
   "metadata": {},
   "outputs": [],
   "source": []
  }
 ],
 "metadata": {
  "kernelspec": {
   "display_name": "Python 3",
   "language": "python",
   "name": "python3"
  },
  "language_info": {
   "codemirror_mode": {
    "name": "ipython",
    "version": 3
   },
   "file_extension": ".py",
   "mimetype": "text/x-python",
   "name": "python",
   "nbconvert_exporter": "python",
   "pygments_lexer": "ipython3",
   "version": "3.7.6"
  }
 },
 "nbformat": 4,
 "nbformat_minor": 4
}
