{
 "cells": [
  {
   "cell_type": "code",
   "execution_count": 9,
   "metadata": {},
   "outputs": [],
   "source": [
    "import random, numpy as np, pandas as pd\n",
    "from matplotlib import pyplot as plt\n",
    "import seaborn as sns\n",
    "import pandas as pd"
   ]
  },
  {
   "cell_type": "code",
   "execution_count": 10,
   "metadata": {},
   "outputs": [],
   "source": [
    "alphap = 3\n",
    "probp = 0.75\n",
    "expon = 2 * alphap - 1\n",
    "ensemble_sizep = 50_000\n",
    "min_iterationp = 100_000\n",
    "bin_sizep = 0.001"
   ]
  },
  {
   "cell_type": "code",
   "execution_count": 11,
   "metadata": {},
   "outputs": [],
   "source": [
    "dir_data = \"../../data/alpha3/\"\n",
    "dir_fig  =\"../../figures/alpha{}/\".format(alphap)\n",
    "figure_name = dir_fig + \"pn_data_coll_alpha_3.pdf\"\n",
    "filename_analytic_data = dir_data+\"function_phi_alpha3_dataframe.csv\""
   ]
  },
  {
   "cell_type": "markdown",
   "metadata": {},
   "source": [
    "## Simulation Functions"
   ]
  },
  {
   "cell_type": "code",
   "execution_count": 61,
   "metadata": {},
   "outputs": [],
   "source": [
    "def betadist(alpha):\n",
    "    \"\"\"gives a random number from beta distribution\"\"\"\n",
    "    return random.betavariate(alpha,alpha)"
   ]
  },
  {
   "cell_type": "code",
   "execution_count": 62,
   "metadata": {},
   "outputs": [],
   "source": [
    "def decision(probability):\n",
    "    \"\"\"\n",
    "    decides with a given probability whether to keep the right part\n",
    "    \"\"\"\n",
    "    if float(probability) > random.random():\n",
    "        return True\n",
    "    else: \n",
    "        return False"
   ]
  },
  {
   "cell_type": "code",
   "execution_count": 63,
   "metadata": {},
   "outputs": [],
   "source": [
    "def splitting(segment):\n",
    "    \"\"\"\n",
    "    splits a given segment. left and right are endpoints of the segment\n",
    "    returns : \n",
    "        xL -> length of the left segment\n",
    "        xR -> length of the right segment\n",
    "        flag -> keeping the right segment\n",
    "        xLp, xRp -> probability(unnormalized) for being selected\n",
    "        change -> change of normalization const\n",
    "    \"\"\"\n",
    "    xL = segment * betadist(alphap)\n",
    "    xR = segment - xL\n",
    "    flag = decision(probp)\n",
    "    xLp = xL**expon\n",
    "    xRp = xR**expon\n",
    "    change = xLp + xRp - segment**expon\n",
    "    return xL, xR, flag, xLp, xRp, change"
   ]
  },
  {
   "cell_type": "code",
   "execution_count": 64,
   "metadata": {},
   "outputs": [],
   "source": [
    "def pickindex(frag_prob, frac_sum):\n",
    "    \"\"\"\n",
    "    picks up a segment to be subsequently split\n",
    "    \"\"\"\n",
    "    r = random.uniform(0,1)\n",
    "    \n",
    "    if r <= frac_sum:\n",
    "        sum_ = 0\n",
    "        for index in range(len(frag_prob)):\n",
    "            sum_ += frag_prob[index]\n",
    "            if sum_ < r:\n",
    "                continue\n",
    "            else:\n",
    "                return index"
   ]
  },
  {
   "cell_type": "code",
   "execution_count": 65,
   "metadata": {},
   "outputs": [],
   "source": [
    "def number_length(segment_lengths,flags):\n",
    "    \n",
    "    N = 0\n",
    "    M = 0\n",
    "\n",
    "    for i in range(len(flags)):\n",
    "        if flags[i]:\n",
    "            N += 1\n",
    "            M += segment_lengths[i]\n",
    "            pass\n",
    "        pass\n",
    "    return N, M"
   ]
  },
  {
   "cell_type": "code",
   "execution_count": 66,
   "metadata": {},
   "outputs": [],
   "source": []
  },
  {
   "cell_type": "code",
   "execution_count": 67,
   "metadata": {},
   "outputs": [],
   "source": [
    "def realization_value(total_iteration):\n",
    "    \n",
    "    lengths = [1.]\n",
    "    flags = [True]\n",
    "    frag_prob = [1.] # raw probability, not normalized\n",
    "    #frag_prob_sum = 1.0 # normalization const\n",
    "    frac_sum = 1.0\n",
    "    \n",
    "    for i in range(total_iteration + 1):\n",
    "        \n",
    "        #index = pickindex(frag_prob, frag_prob_sum)\n",
    "        index = pickindex(frag_prob, frac_sum)\n",
    "        \n",
    "        if index != None and flags[index] == True:\n",
    "\n",
    "            xL, xR, flag, xLp, xRp, change = splitting(lengths[index])\n",
    "            \n",
    "            lengths[index] = xL\n",
    "            lengths.append(xR)\n",
    "            flags.append(flag)\n",
    "            frag_prob[index] = xLp \n",
    "            frag_prob.append(xRp)\n",
    "            #frag_prob_sum += change\n",
    "            frac_sum += change\n",
    "            pass\n",
    "        \n",
    "    lengths = np.array(lengths)\n",
    "    true_lengths = lengths[flags]\n",
    "    #log_lengths = np.log(true_lengths) * -1\n",
    "\n",
    "    #return log_lengths\n",
    "    return true_lengths"
   ]
  },
  {
   "cell_type": "code",
   "execution_count": 7,
   "metadata": {},
   "outputs": [],
   "source": [
    "def ensembling(total_iteration, ensemble_size):\n",
    "\n",
    "    C_ensemble = np.array([])\n",
    "    \n",
    "    for i in range(ensemble_size):\n",
    "        true_lengths = realization_value(total_iteration)\n",
    "        C_ensemble = np.append(C_ensemble, true_lengths)\n",
    "        pass\n",
    "    \n",
    "    return C_ensemble"
   ]
  },
  {
   "cell_type": "markdown",
   "metadata": {},
   "source": [
    "## Other functions"
   ]
  },
  {
   "cell_type": "code",
   "execution_count": null,
   "metadata": {},
   "outputs": [],
   "source": [
    "def bin_maker(max_value, bin_number):\n",
    "    bin_size = max_value/bin_number\n",
    "    bins = [0.]\n",
    "    for i in range(bin_number):\n",
    "        bin_edge = (i+1)*bin_size\n",
    "        bins.append(bin_edge)\n",
    "        pass\n",
    "    return bins"
   ]
  },
  {
   "cell_type": "code",
   "execution_count": 69,
   "metadata": {},
   "outputs": [],
   "source": [
    "import scipy.special as sc\n",
    "\n",
    "n_star = np.linspace(0,1,1_000_001)\n",
    "\n",
    "def func_trans(n_star,alpha,p):\n",
    "    \"\"\"left-hand side of transcendental equation defined as a numpy array\"\"\"\n",
    "    return (sc.gamma(n_star+alpha)*sc.gamma(2*alpha))/(sc.gamma(n_star+2*alpha)*sc.gamma(alpha))-1/(1+p)"
   ]
  },
  {
   "cell_type": "code",
   "execution_count": 70,
   "metadata": {},
   "outputs": [],
   "source": [
    "def find_df(alpha,p):\n",
    "    \"\"\"root finding by minimizing the cost function: square of left-hanad side\"\"\"\n",
    "    cost_array = func_trans(n_star,alpha,p)**2\n",
    "    min_index = np.argmin(cost_array)\n",
    "    df_value = n_star[min_index]\n",
    "    #df_rounded = float(\"{:.6f}\".format(df_value))\n",
    "    #return df_rounded\n",
    "    return df_value"
   ]
  },
  {
   "cell_type": "code",
   "execution_count": 71,
   "metadata": {},
   "outputs": [],
   "source": [
    "import decimal as dc\n",
    "dc.getcontext().rounding = dc.ROUND_DOWN\n",
    "\n",
    "def phi_value_alpha_3(df_data,xi,p):\n",
    "    \"\"\"\n",
    "    df_data : pandas DataFrame\n",
    "    xi      :\n",
    "    p       : probablity\n",
    "    \"\"\"\n",
    "    \n",
    "    p_0 = float(round(dc.Decimal(p),2))\n",
    "    p_1 = float(round(dc.Decimal(p_0+0.01),2))\n",
    "    del_p = abs(p-p_0)\n",
    "    \n",
    "    if del_p <= 1e-9:\n",
    "        col_name = 'p={:.2f}'.format(p_0)\n",
    "        phi_list = df_data[col_name].values\n",
    "    \n",
    "    else:\n",
    "        col_name0 = 'p={:.2f}'.format(p_0)\n",
    "        phi_list0 = df_data[col_name0].values\n",
    "    \n",
    "        col_name1 = 'p={:.2f}'.format(p_1)\n",
    "        phi_list1 = df_data[col_name1].values\n",
    "        \n",
    "        del_phi_list =  (phi_list1 - phi_list0)*del_p/0.01\n",
    "        phi_list = phi_list0 + del_phi_list\n",
    "    \n",
    "    xi_list = df_data['xi'].values\n",
    "    if xi > 2:\n",
    "        phi_value = 0\n",
    "    elif xi in xi_list:\n",
    "        index = list(xi_list).index(xi)\n",
    "        phi_value = phi_list[index] \n",
    "    else:\n",
    "        index0 = int(xi//0.0002)\n",
    "        index1 = int(index0+1)\n",
    "        del_xi = xi%0.0002\n",
    "        phi_0 = phi_list[index0]\n",
    "        phi_1 = phi_list[index1]\n",
    "        del_phi = (phi_1-phi_0)*del_xi/0.0002\n",
    "        phi_value = phi_0 + del_phi\n",
    "\n",
    "    return phi_value\n",
    "\n",
    "def phi_list_alpha_3(df_data,xi_list,p):\n",
    "    phi_list = []\n",
    "    for xi in xi_list:\n",
    "        phi_value = phi_value_alpha_3(df_data,xi,p)\n",
    "        phi_list.append(phi_value) \n",
    "\n",
    "    return np.array(phi_list) "
   ]
  },
  {
   "cell_type": "code",
   "execution_count": 72,
   "metadata": {},
   "outputs": [],
   "source": [
    "def histrogram_data(data, bin_size = bin_sizep):\n",
    "    bin_number = int((np.max(data) - np.min(data))//bin_size) + 1\n",
    "    y, x = np.histogram(data, bins = bin_number)\n",
    "    return x[1:], y"
   ]
  },
  {
   "cell_type": "code",
   "execution_count": 8,
   "metadata": {},
   "outputs": [],
   "source": [
    "def phi_list(alpha,p,xi_list):\n",
    "    df = find_df(alpha,p)\n",
    "    \n",
    "    if alpha == 1:\n",
    "        density = np.exp(-xi_list)\n",
    "    \n",
    "    elif alpha == 2:\n",
    "        c2 = -(sc.gamma(1/3)/sc.gamma(5/3))*(sc.gamma((df+5)/3)/sc.gamma((df+3)/3))\n",
    "        density1 = -3*(df+2)*(xi_list**2)*sc.hyp1f1(-(df-1)/3, 4/3, -xi_list**3)\n",
    "        density2 = -(3/5)*c2*df*(xi_list**4)*sc.hyp1f1(-(df-3)/3, 8/3, -xi_list**3)\n",
    "        density3 = -2*c2*(xi_list)*sc.hyp1f1(-df/3, 5/3, -xi_list**3)\n",
    "        density = density1 + density2+ density3\n",
    "    \n",
    "    elif alpha == 3:\n",
    "        df_data = pd.read_csv(filename_analytic_data)\n",
    "        density = phi_list_alpha_3(df_data,xi_list,p)\n",
    "            \n",
    "    else:\n",
    "        print('the analytical solution for alpha = {} value is unknown'.format(alpha))\n",
    "        \n",
    "    return density"
   ]
  },
  {
   "cell_type": "markdown",
   "metadata": {},
   "source": [
    "## fitting data\n",
    "\n",
    "$\\phi \\equiv \\text{simulation}$\n",
    "$\\phi^{(th)} \\equiv \\text{theoritical or analytical}$\n",
    "\n",
    "$$cost = \\sum_t \\sum_i (b*\\phi_{i t} - \\phi_{i t}^{(th)})^2 \\$$\n",
    "\n",
    "we need to minimize $cost$. We get the value of $b$ as\n",
    "\n",
    "$$b = \\frac{\\sum_t \\sum_i \\phi_{i t} \\phi_{i t}^{(th)}}{\\sum_t \\sum_i \\phi_{i t}^2}$$"
   ]
  },
  {
   "cell_type": "code",
   "execution_count": 74,
   "metadata": {},
   "outputs": [],
   "source": [
    "def fitting_parameter(given_array,ref_array):\n",
    "    a1 = np.multiply(given_array,ref_array)\n",
    "    a2 = np.multiply(given_array,given_array)\n",
    "    a1_sum = np.sum(a1)\n",
    "    a2_sum = np.sum(a2)\n",
    "    return a1_sum, a2_sum"
   ]
  },
  {
   "cell_type": "code",
   "execution_count": 75,
   "metadata": {},
   "outputs": [],
   "source": [
    "def plot_data(total_iteration):\n",
    "    df = find_df(alphap,probp)\n",
    "    \n",
    "    # doing the simulation here\n",
    "    ens_data = ensembling(total_iteration, ensemble_sizep)\n",
    "    x,y = histrogram_data(ens_data)\n",
    "    xi = x*total_iteration**(1/(2*alphap-1))\n",
    "    phi = y/(total_iteration**((1+df)/(2*alphap-1)))\n",
    "    phi_analytic = phi_list(alphap,probp,xi)\n",
    "    a1_sum, a2_sum = fitting_parameter(phi,phi_analytic)\n",
    "    return xi, phi, a1_sum, a2_sum"
   ]
  },
  {
   "cell_type": "code",
   "execution_count": 76,
   "metadata": {},
   "outputs": [],
   "source": [
    "data_dict = {}\n",
    "a1_sum, a2_sum = 0,0\n",
    "for i in range(3):\n",
    "    time_t = min_iterationp*(i+1)\n",
    "    xi, phi, a1, a2 = plot_data(time_t)\n",
    "    data_dict[time_t]=[xi,phi]\n",
    "    a1_sum += a1\n",
    "    a2_sum += a2\n",
    "    \n",
    "for i in range(3):\n",
    "    time_t = min_iterationp*(i+1)\n",
    "    data_dict[time_t][1]*=(a1_sum/a2_sum)"
   ]
  },
  {
   "cell_type": "code",
   "execution_count": 77,
   "metadata": {},
   "outputs": [],
   "source": [
    "signature = 'data_collapse_alpha_{}_t_{}k'\n",
    "for i in range(3):\n",
    "    time_t = min_iterationp*(i+1)\n",
    "    x,y = data_dict[time_t]\n",
    "    file_name = signature.format(alphap, int(time_t//1000))\n",
    "    np.savetxt(file_name,np.c_[x,y])"
   ]
  },
  {
   "cell_type": "code",
   "execution_count": null,
   "metadata": {},
   "outputs": [],
   "source": [
    "fig, axes = plt.subplots(1,1,figsize = (5,3.5),dpi = 300)\n",
    "\n",
    "for i in range(3):\n",
    "    time_t = min_iterationp*(i+1)\n",
    "    x,y = data_dict[time_t]\n",
    "    plt.plot(x, y,\"o\", markersize=1,label=r\"$t={}k$\".format(str(int(time_t//1000))))\n",
    "\n",
    "xi_th = np.linspace(0,1.7,8501)\n",
    "phi_th = phi_list(alphap,probp,xi_th)\n",
    "plt.plot(xi_th,phi_th,color='black',linewidth=0.5)\n",
    "\n",
    "plt.legend(loc=1)\n",
    "plt.xlabel(r\"$x/t^{1/z}$\")\n",
    "plt.ylabel(r\"$c(x,t)/t^\\theta$\")\n",
    "plt.xlim([0, 1.75])\n",
    "axes.set_position([0.15, 0.15, 0.8, 0.8])\n",
    "\n",
    "print(figure_name)\n",
    "plt.savefig(figure_name)"
   ]
  },
  {
   "cell_type": "code",
   "execution_count": null,
   "metadata": {},
   "outputs": [],
   "source": []
  }
 ],
 "metadata": {
  "kernelspec": {
   "display_name": "Python 3",
   "language": "python",
   "name": "python3"
  },
  "language_info": {
   "codemirror_mode": {
    "name": "ipython",
    "version": 3
   },
   "file_extension": ".py",
   "mimetype": "text/x-python",
   "name": "python",
   "nbconvert_exporter": "python",
   "pygments_lexer": "ipython3",
   "version": "3.8.3"
  }
 },
 "nbformat": 4,
 "nbformat_minor": 4
}
