{
 "cells": [
  {
   "cell_type": "code",
   "execution_count": 2,
   "metadata": {},
   "outputs": [],
   "source": [
    "import random, numpy as np\n",
    "alphap = 1\n",
    "def betadist(alpha):\n",
    "        return random.betavariate(alpha,alpha)"
   ]
  },
  {
   "cell_type": "code",
   "execution_count": 51,
   "metadata": {},
   "outputs": [
    {
     "data": {
      "text/plain": [
       "0.7586269190500603"
      ]
     },
     "execution_count": 51,
     "metadata": {},
     "output_type": "execute_result"
    }
   ],
   "source": [
    "betadist(1)"
   ]
  },
  {
   "cell_type": "code",
   "execution_count": 21,
   "metadata": {},
   "outputs": [],
   "source": [
    "def decision(probability):\n",
    "    if float(probability) > random.random():\n",
    "        return True\n",
    "    else: \n",
    "        return False"
   ]
  },
  {
   "cell_type": "code",
   "execution_count": 35,
   "metadata": {},
   "outputs": [
    {
     "data": {
      "text/plain": [
       "True"
      ]
     },
     "execution_count": 35,
     "metadata": {},
     "output_type": "execute_result"
    }
   ],
   "source": [
    "decision(0.8)"
   ]
  },
  {
   "cell_type": "code",
   "execution_count": 104,
   "metadata": {},
   "outputs": [],
   "source": [
    "initialflags = [True, False]"
   ]
  },
  {
   "cell_type": "code",
   "execution_count": 105,
   "metadata": {},
   "outputs": [],
   "source": [
    "def length(position,endpoints):\n",
    "    if position >= len(endpoints)-1:\n",
    "        print('Out of range!')\n",
    "    a = endpoints[position + 1] - endpoints[position]\n",
    "    return a"
   ]
  },
  {
   "cell_type": "code",
   "execution_count": 106,
   "metadata": {},
   "outputs": [
    {
     "data": {
      "text/plain": [
       "1.0"
      ]
     },
     "execution_count": 106,
     "metadata": {},
     "output_type": "execute_result"
    }
   ],
   "source": [
    "length(0,initialpoints)"
   ]
  },
  {
   "cell_type": "code",
   "execution_count": 108,
   "metadata": {},
   "outputs": [
    {
     "name": "stdout",
     "output_type": "stream",
     "text": [
      "0.10576219237296129\n",
      "[0.10576219237296129, 0.0, 1.0]\n"
     ]
    }
   ],
   "source": [
    "initialpoints = [0.,1.]\n",
    "R1 = betadist(alphap)\n",
    "print(R1)\n",
    "points = np.array(initialpoints)\n",
    "b = np.abs(points - R1)\n",
    "c = b.argmin()\n",
    "initialpoints.insert(c,R1)\n",
    "print(initialpoints)"
   ]
  },
  {
   "cell_type": "code",
   "execution_count": 125,
   "metadata": {},
   "outputs": [
    {
     "name": "stdout",
     "output_type": "stream",
     "text": [
      "0.7607712278543504\n",
      "-0.045152519989249185\n",
      "[0.0, 0.18881453007443594, 0.19668339520987405, 0.3427433943899202, 0.6202609435597616, 0.7607712278543504, 0.8059237478435995, 0.9208152370283917, 1.0]\n"
     ]
    }
   ],
   "source": [
    "# initialpoints = [0.,1.]\n",
    "R1 = betadist(alphap)\n",
    "print(R1)\n",
    "points = np.array(initialpoints)\n",
    "b = np.abs(points - R1)\n",
    "c = b.argmin()\n",
    "d = R1 - initialpoints[c]\n",
    "print(d)\n",
    "if d > 0:\n",
    "    c += 1\n",
    "initialpoints.insert(c,R1)\n",
    "print(initialpoints)"
   ]
  },
  {
   "cell_type": "markdown",
   "metadata": {},
   "source": [
    "# Defining selection function"
   ]
  },
  {
   "cell_type": "code",
   "execution_count": 3,
   "metadata": {},
   "outputs": [],
   "source": [
    "def findindex(value,points):\n",
    "    points = np.array(points)\n",
    "    b = np.abs(points - value)\n",
    "    c = b.argmin()\n",
    "    d = value - points[c]\n",
    "    print(d)\n",
    "    if d > 0:\n",
    "        c += 1\n",
    "    return c"
   ]
  },
  {
   "cell_type": "code",
   "execution_count": 4,
   "metadata": {},
   "outputs": [
    {
     "name": "stdout",
     "output_type": "stream",
     "text": [
      "0.2\n"
     ]
    },
    {
     "data": {
      "text/plain": [
       "1"
      ]
     },
     "execution_count": 4,
     "metadata": {},
     "output_type": "execute_result"
    }
   ],
   "source": [
    "findindex(0.2,[0.,1.])"
   ]
  },
  {
   "cell_type": "code",
   "execution_count": null,
   "metadata": {},
   "outputs": [],
   "source": []
  }
 ],
 "metadata": {
  "kernelspec": {
   "display_name": "Python 3",
   "language": "python",
   "name": "python3"
  },
  "language_info": {
   "codemirror_mode": {
    "name": "ipython",
    "version": 3
   },
   "file_extension": ".py",
   "mimetype": "text/x-python",
   "name": "python",
   "nbconvert_exporter": "python",
   "pygments_lexer": "ipython3",
   "version": "3.7.6"
  }
 },
 "nbformat": 4,
 "nbformat_minor": 4
}
